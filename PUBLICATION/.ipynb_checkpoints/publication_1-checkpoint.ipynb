{
 "cells": [
  {
   "cell_type": "markdown",
   "metadata": {
    "colab_type": "text",
    "id": "Nap9AVvupt6w"
   },
   "source": [
    "# Revisiting Food-Safety Inspections from the Chicago Dataset - A Tutorial\n",
    "\n",
    "## 1. Introduction\n",
    "\n",
    "Foodborne illnesses afflict an estimated 48 million Americans each year, resulting in 128,000 hospitalizations and 3,000 fatalities [1]. City Governments curb the spread of illness by enforcing stringent standards for food preparation but often act under heavy resource constraints. Building on work by the Chicago Department of Public Health, this tutorial seeks to explore a predictive model of food code violations that could provide real-time risk analysis both to public officials and the facilities they inspect. (needs streamlining)\n",
    "\n",
    "### 1.1. Past Work\n",
    "\n",
    "In 2014 the Chicago Department of Public Health (CDPH) and other local agencies worked to develop a model that would forecast critical violations, allowing the CDPH to prioritize inspections of facilities expected to be in violation of health codes [2] [3].\n",
    "\n",
    "After exploring a number of datasets and features, the team found the strongest predictors of critical violations to be the inspector assigned, previous inspection outcomes, age at inspection, licenses for alcohol or tobacco, the temperature at time of inspection, nearby burglaries, nearby sanitation complaints and nearby garbage cart requests.\n",
    "\n",
    "Using a glmnet model trained on data from January 2011 through January 2014, the team was able to demonstrate a data-driven inspections schedule that significantly reduced the time to find a critical violation. This model has since been adopted by the CDPH.\n",
    "\n",
    "### 1.2. Premise\n",
    "\n",
    "In light of the CDPH's success, we began this project intending to explore and extend their work. Whereas the Chicago team set out to predict critical violations, we are working to develop a series of models to forecast individual violations and to explore neural networks for the prediction model.\n",
    "\n",
    "By developing a higher resolution model we hope to provide actionable information not just to public officials but to restaurants themselves. In addition to being generally interested in customers' health, restaurants are fined $500 for each critical and $250 for each serious violation found,and so are highly motivated to maintain health codes. A real-time violation risk analysis could thus provide actionable info to restaurants on an ongoing basis, improving inspection outcomes and safeguarding public health.\n",
    "\n",
    "[COULD PUT SOME OF THE COST ESTIMATE, AVERAGE INSPECTIONS AND FAILS WORK HERE]\n",
    "\n",
    "## 2. Pre-processing and Data Structuring\n",
    "\n",
    "While we may involve additional datasets as work progresses we decided to start by preparing those datasets that the Chicago team found to be significant, translating from R to Python and adapting to suit our purposes as needed. \n",
    "\n",
    "The datasets used are as follows:\n",
    "* [food inspections](https://data.cityofchicago.org/Health-Human-Services/Food-Inspections/4ijn-s7e5/data)\n",
    "* [business licenses](https://data.cityofchicago.org/Community-Economic-Development/Business-Licenses/r5kz-chrr/data)\n",
    "* [garbage cart requests](https://www.cityofchicago.org/city/en/dataset/garbage_cart_stolenormissing.html)\n",
    "* [sanitation code complaints](https://data.cityofchicago.org/Service-Requests/311-Service-Requests-Sanitation-Code-Complaints/me59-5fac/data)\n",
    "* [crimes](https://data.cityofchicago.org/Public-Safety/Crimes-2018/3i3m-jwuy/data)\n",
    "* [weather](https://darksky.net/dev)\n",
    "\n",
    "With the exception of weather data from darksky.net, all data used is available through the [Chicago Data Portal](https://data.cityofchicago.org/). We will not be working with data on inspector assigned, as this is not publicly available and would not be provide useful inisght in practice.\n",
    "\n",
    "!!!![\n",
    "We used  Juptyper Notebook running a Python 3 kernel to preform the initial data gathering, preprocessing, and structuring.]"
   ]
  },
  {
   "cell_type": "markdown",
   "metadata": {
    "colab_type": "text",
    "id": "1B8UDMqF4PgH"
   },
   "source": [
    "### 2.1. Preparating Food Inspections Data\n",
    "\n",
    "To download the inspections data we used Sodapy, a client for the Socrata Open Data API used by the Chicago Data Portal:"
   ]
  },
  {
   "cell_type": "code",
   "execution_count": 1,
   "metadata": {
    "colab": {
     "autoexec": {
      "startup": false,
      "wait_interval": 0
     }
    },
    "colab_type": "code",
    "id": "9uqs89-V9MOl"
   },
   "outputs": [
    {
     "name": "stdout",
     "output_type": "stream",
     "text": [
      "Requirement already satisfied: sodapy in /home/russell/anaconda3/lib/python3.6/site-packages\n",
      "Requirement already satisfied: future==0.16.0 in /home/russell/anaconda3/lib/python3.6/site-packages (from sodapy)\n",
      "Requirement already satisfied: requests==2.18.4 in /home/russell/anaconda3/lib/python3.6/site-packages (from sodapy)\n",
      "Requirement already satisfied: chardet<3.1.0,>=3.0.2 in /home/russell/anaconda3/lib/python3.6/site-packages (from requests==2.18.4->sodapy)\n",
      "Requirement already satisfied: idna<2.7,>=2.5 in /home/russell/anaconda3/lib/python3.6/site-packages (from requests==2.18.4->sodapy)\n",
      "Requirement already satisfied: urllib3<1.23,>=1.21.1 in /home/russell/anaconda3/lib/python3.6/site-packages (from requests==2.18.4->sodapy)\n",
      "Requirement already satisfied: certifi>=2017.4.17 in /home/russell/anaconda3/lib/python3.6/site-packages (from requests==2.18.4->sodapy)\n",
      "\u001b[33mYou are using pip version 9.0.1, however version 10.0.1 is available.\n",
      "You should consider upgrading via the 'pip install --upgrade pip' command.\u001b[0m\n"
     ]
    }
   ],
   "source": [
    "!pip install sodapy\n"
   ]
  },
  {
   "cell_type": "code",
   "execution_count": 2,
   "metadata": {
    "colab": {
     "autoexec": {
      "startup": false,
      "wait_interval": 0
     }
    },
    "colab_type": "code",
    "id": "n13gBW514xZm"
   },
   "outputs": [
    {
     "name": "stderr",
     "output_type": "stream",
     "text": [
      "WARNING:root:Requests made without an app_token will be subject to strict throttling limits.\n"
     ]
    }
   ],
   "source": [
    "# from https://github.com/socrata/dev.socrata.com/blob/39c6581986466edb5e7f72f5beea5ce69238f8de/snippets/pandas.py# from  \n",
    "\n",
    "import pandas as pd\n",
    "from sodapy import Socrata\n",
    "\n",
    "# Unauthenticated client only works with public data sets. Note 'None'\n",
    "# in place of application token, and no username or password:\n",
    "client = Socrata(\"data.cityofchicago.org\", None)"
   ]
  },
  {
   "cell_type": "markdown",
   "metadata": {
    "colab_type": "text",
    "id": "6-1emP0T97Dl"
   },
   "source": [
    "Conveniently,  Sodapy converts all columns to snake case, removes special characters and standardizes date format by default:"
   ]
  },
  {
   "cell_type": "code",
   "execution_count": 3,
   "metadata": {
    "colab": {
     "autoexec": {
      "startup": false,
      "wait_interval": 0
     }
    },
    "colab_type": "code",
    "id": "PviTQIJJ99HA"
   },
   "outputs": [],
   "source": [
    "# First 50000 results, returned as JSON from API \n",
    "# Connverted to Python list of dictionaries by sodapy.\n",
    "# Column names converted to snake case, special chars removed\n",
    "# Dates and location formatted\n",
    "results = client.get(\"4ijn-s7e5\", limit=50000)\n",
    "\n",
    "# Convert to pandas DataFrame\n",
    "inspections = pd.DataFrame.from_records(results)"
   ]
  },
  {
   "cell_type": "markdown",
   "metadata": {
    "colab_type": "text",
    "id": "v7UFnhQ37IsO"
   },
   "source": [
    "As Socrata restricts queries to 50000 entries we then paged through the remainder to access the full dataset: "
   ]
  },
  {
   "cell_type": "code",
   "execution_count": 4,
   "metadata": {
    "colab": {
     "autoexec": {
      "startup": false,
      "wait_interval": 0
     }
    },
    "colab_type": "code",
    "id": "25AARonl7DB_"
   },
   "outputs": [
    {
     "name": "stdout",
     "output_type": "stream",
     "text": [
      "50000\n",
      "100000\n",
      "150000\n",
      "200000\n"
     ]
    }
   ],
   "source": [
    "# Download remaining food inspections (limit 50000 / call)\n",
    "start = 50000\n",
    "while results:\n",
    "    print(start)\n",
    "    results = client.get(\"4ijn-s7e5\", limit=50000, offset=start)\n",
    "    inspections = inspections.append(pd.DataFrame.from_records(results))\n",
    "    start += 50000"
   ]
  },
  {
   "cell_type": "markdown",
   "metadata": {
    "colab_type": "text",
    "id": "tBLirEmb-u2Z"
   },
   "source": [
    "After exploring the data and reading through the CDPH's work in R, we then applied a series of filters to produce a consistent and usable dataset:"
   ]
  },
  {
   "cell_type": "code",
   "execution_count": 5,
   "metadata": {
    "colab": {
     "autoexec": {
      "startup": false,
      "wait_interval": 0
     }
    },
    "colab_type": "code",
    "id": "wsYlvAYH_Mqm"
   },
   "outputs": [],
   "source": [
    "\n",
    "# Remove trailing backslash (left over from sodapy conversion of \"License #\" column)\n",
    "inspections.rename(columns={\"license_\": \"license\"}, inplace=True)"
   ]
  },
  {
   "cell_type": "code",
   "execution_count": 6,
   "metadata": {
    "colab": {
     "autoexec": {
      "startup": false,
      "wait_interval": 0
     }
    },
    "colab_type": "code",
    "id": "McicMFrI_Nrw"
   },
   "outputs": [],
   "source": [
    "# Drop rows with missing data\n",
    "inspections.dropna(subset=[\"inspection_date\", \"license\"], inplace=True)"
   ]
  },
  {
   "cell_type": "code",
   "execution_count": 7,
   "metadata": {
    "colab": {
     "autoexec": {
      "startup": false,
      "wait_interval": 0
     }
    },
    "colab_type": "code",
    "id": "xtCSR2OR_N2n"
   },
   "outputs": [],
   "source": [
    "# Drop duplicates\n",
    "inspections.drop_duplicates(\"inspection_id\", inplace=True)"
   ]
  },
  {
   "cell_type": "code",
   "execution_count": 8,
   "metadata": {
    "colab": {
     "autoexec": {
      "startup": false,
      "wait_interval": 0
     }
    },
    "colab_type": "code",
    "id": "KyUGQD9y_OA3"
   },
   "outputs": [],
   "source": [
    "# Drop \"0\" licenses\n",
    "inspections = inspections[inspections.license != \"0\"]"
   ]
  },
  {
   "cell_type": "code",
   "execution_count": 9,
   "metadata": {
    "colab": {
     "autoexec": {
      "startup": false,
      "wait_interval": 0
     }
    },
    "colab_type": "code",
    "id": "r5GZa6Rv_rtF"
   },
   "outputs": [],
   "source": [
    "# Only consider successful inspections\n",
    "inspections = inspections[~inspections.results.isin([\"Out of Business\", \"Business Not Located\", \"No Entry\"])]"
   ]
  },
  {
   "cell_type": "markdown",
   "metadata": {
    "colab_type": "text",
    "id": "rW7v0L_Z_0Eh"
   },
   "source": [
    "In addition to semi-regular canvas inspections facilities may also be inspected due to complaints or a recent failed inspection. To ensure that our data is representative of restaurants operating as usual we filtered the dataset to consist only of canvas inspections:"
   ]
  },
  {
   "cell_type": "code",
   "execution_count": 10,
   "metadata": {
    "colab": {
     "autoexec": {
      "startup": false,
      "wait_interval": 0
     }
    },
    "colab_type": "code",
    "id": "S8-Co0wT_qf1"
   },
   "outputs": [],
   "source": [
    "# Only coonsider canvas inspections (not complaints or re-inspections)\n",
    "inspections = inspections[inspections.inspection_type == \"Canvass\"]"
   ]
  },
  {
   "cell_type": "markdown",
   "metadata": {
    "colab_type": "text",
    "id": "I1pCWb7dBDbd"
   },
   "source": [
    "We also filtered inspections by facility type, to eliminate the inconsistency of e.g. hospitals and schools, which follow different inspection schedules:"
   ]
  },
  {
   "cell_type": "code",
   "execution_count": 11,
   "metadata": {
    "colab": {
     "autoexec": {
      "startup": false,
      "wait_interval": 0
     }
    },
    "colab_type": "code",
    "id": "1Zojy2xVBEmd"
   },
   "outputs": [],
   "source": [
    "# Only consider restaurants and grocery stores (subject to change)\n",
    "inspections = inspections[inspections.facility_type.isin([\"Restaurant\", \"Grocery Store\"])]"
   ]
  },
  {
   "cell_type": "markdown",
   "metadata": {
    "colab_type": "text",
    "id": "EMm8U_k_CURy"
   },
   "source": [
    "Finally we saved the resulting dataframe as a CSV file, ready for later use:"
   ]
  },
  {
   "cell_type": "code",
   "execution_count": 0,
   "metadata": {
    "colab": {
     "autoexec": {
      "startup": false,
      "wait_interval": 0
     }
    },
    "colab_type": "code",
    "id": "VnJQgnGSCUso"
   },
   "outputs": [],
   "source": [
    "import os.path\n",
    "root_path = os.path.dirname(os.getcwd())\n",
    "\n",
    "# Save result\n",
    "inspections.to_csv(os.path.join(root_path, \"DATA/food_inspections.csv\"), index=False)"
   ]
  },
  {
   "cell_type": "markdown",
   "metadata": {
    "colab_type": "text",
    "id": "cD9Q8y_sFl36"
   },
   "source": [
    "### 2.2. Preparing Remaining Socrata Data"
   ]
  },
  {
   "cell_type": "markdown",
   "metadata": {
    "colab_type": "text",
    "id": "E6e0XFCTGY-j"
   },
   "source": [
    "Downloading and filtering business licenses, garbage cart requests, sanitation complaints and crimes was much the same as with food inspections - for specifics please see the [CODE folder of our project repository](https://github.com/Sustainabilist/ChicagoDataAnalysis/tree/master/CODE). \n",
    "\n",
    "In brief:\n",
    "* All datasets were formatted by sodapy and filtered to remove duplicates and missing data.\n",
    "* Crimes were filtered to include only burglaries since 2010 to reduce size and ensure consistency.\n",
    "* Garbage cart requests and sanitation complaints were filtered to include only completed or open requests."
   ]
  },
  {
   "cell_type": "markdown",
   "metadata": {
    "colab_type": "text",
    "id": "1wdZ23UWGNhW"
   },
   "source": [
    "### 2.3. Preparing Weather Data\n",
    "\n",
    "COMING SOON!"
   ]
  },
  {
   "cell_type": "markdown",
   "metadata": {
    "colab_type": "text",
    "id": "YAFES9ViP-a0"
   },
   "source": [
    "### 2.4. Calculating Violation Data\n",
    "Each entry in the violations column of the food inspections dataset is made up of a number of violation/comment pairs joined into a string:\n",
    "\n",
    "!!!!!!!!!!!!!!\n",
    "From the violations column of the inspections dataset we derived a dataset pairing inspection ids with a binary value for the presence or absence of each violation. We then tallied the critical, serious and minor violations for each inspection."
   ]
  },
  {
   "cell_type": "code",
   "execution_count": 15,
   "metadata": {},
   "outputs": [
    {
     "data": {
      "text/plain": [
       "'31. CLEAN MULTI-USE UTENSILS AND SINGLE SERVICE ARTICLES PROPERLY STORED: NO REUSE OF SINGLE SERVICE ARTICLES - Comments: OBSERVED THE KNIFES IMPROPERLY STORED BETWEEN  WALL AND PREP TABLE IN REAR AND IN FRONT BETWEEN TWO COOLERS, INSTRUCTED TO PROVIDE A KNIFE RACK FOR PROPER STORAGE.  | 35. WALLS, CEILINGS, ATTACHED EQUIPMENT CONSTRUCTED PER CODE: GOOD REPAIR, SURFACES CLEAN AND DUST-LESS CLEANING METHODS - Comments: OBSERVED DUSTY CEILING VENTS, INSTRUCTED TO CLEAN. | 33. FOOD AND NON-FOOD CONTACT EQUIPMENT UTENSILS CLEAN, FREE OF ABRASIVE DETERGENTS - Comments: OBSERVED THE #10 CAN OPENER, AND THE FRONT CUTING BOARDS NOT CLEAN, INSTRUCTED TO CLEAN AND SANITIZE. ALSO CLEAN CHAR. GRILL DRIP TRAY.'"
      ]
     },
     "execution_count": 15,
     "metadata": {},
     "output_type": "execute_result"
    }
   ],
   "source": [
    "inspections.iloc[1].violations"
   ]
  },
  {
   "cell_type": "markdown",
   "metadata": {},
   "source": [
    "!!!We wanted to turn this into a bunch of features so first we split each violations entry into a sequence of binary columns describing the presence of each violation:"
   ]
  },
  {
   "cell_type": "code",
   "execution_count": 16,
   "metadata": {},
   "outputs": [],
   "source": [
    "# Split violations into binary values for each violation\n",
    "def split_violations(violations):\n",
    "    values_row = pd.Series([])\n",
    "    \n",
    "    if type(violations) == str:\n",
    "        violations = violations.split(' | ')\n",
    "        for violation in violations:\n",
    "            index = \"v_\" + violation.split('.')[0]\n",
    "            values_row[index] = 1\n",
    "    return values_row"
   ]
  },
  {
   "cell_type": "code",
   "execution_count": 17,
   "metadata": {},
   "outputs": [],
   "source": [
    "# 5 mins\n",
    "values_data = inspections.violations.apply(split_violations)"
   ]
  },
  {
   "cell_type": "markdown",
   "metadata": {},
   "source": [
    "We then generated a series of column titles of the form \"v_1\" for violations 1-14 (critical), 15-29 (serious) and 30-44 plus 70 (minor):"
   ]
  },
  {
   "cell_type": "code",
   "execution_count": 18,
   "metadata": {},
   "outputs": [],
   "source": [
    "# Generate column names\n",
    "critical_columns = [(\"v_\" + str(num)) for num in range(1, 15)]\n",
    "serious_columns = [(\"v_\" + str(num)) for num in range(15, 30)]\n",
    "minor_columns = [(\"v_\" + str(num)) for num in range(30, 45)]\n",
    "minor_columns.append(\"v_70\")\n",
    "\n",
    "columns = critical_columns + serious_columns + minor_columns"
   ]
  },
  {
   "cell_type": "markdown",
   "metadata": {},
   "source": [
    "These column headings were then combined with the violation values and paired with the inspection id for each row:"
   ]
  },
  {
   "cell_type": "code",
   "execution_count": 19,
   "metadata": {},
   "outputs": [],
   "source": [
    "# Ensure no missing columns, fill NaN\n",
    "values = pd.DataFrame(values_data, columns=columns).fillna(0)\n",
    "\n",
    "values['inspection_id'] = inspections.inspection_id"
   ]
  },
  {
   "cell_type": "markdown",
   "metadata": {},
   "source": [
    "We created a separate dataframe for critical, serious and minor violation counts by pairing each inspection id with the sum of the appropriate subset of violation values:"
   ]
  },
  {
   "cell_type": "code",
   "execution_count": 20,
   "metadata": {},
   "outputs": [],
   "source": [
    "# Count violations\n",
    "counts = pd.DataFrame({\n",
    "    \"critical_count\": values[critical_columns].sum(axis=1),\n",
    "    \"serious_count\": values[serious_columns].sum(axis=1),\n",
    "    \"minor_count\": values[minor_columns].sum(axis=1)\n",
    "})\n",
    "\n",
    "counts['inspection_id'] = inspections.inspection_id"
   ]
  },
  {
   "cell_type": "markdown",
   "metadata": {},
   "source": [
    "Lastly we saved both datasets for later use:"
   ]
  },
  {
   "cell_type": "code",
   "execution_count": null,
   "metadata": {},
   "outputs": [],
   "source": [
    "# Save violation values and counts\n",
    "values.to_csv(os.path.join(root_path, \"DATA/violation_values.csv\"), index=False)\n",
    "counts.to_csv(os.path.join(root_path, \"DATA/violation_counts.csv\"), index=False)"
   ]
  },
  {
   "cell_type": "markdown",
   "metadata": {
    "colab_type": "text",
    "id": "d0h8T7JKQHug"
   },
   "source": [
    "### 2.5. Calculating Heat Map Data\n",
    "* gaussian kde\n",
    "* 90 day window\n",
    "* where'd I put those notes?\n",
    "* heat map for garbage, crime, sanitation\n",
    "COMING SOON!"
   ]
  },
  {
   "cell_type": "markdown",
   "metadata": {
    "colab_type": "text",
    "id": "u1aMOOCrLLpC"
   },
   "source": [
    "## 3. Exploratory Analysis"
   ]
  },
  {
   "cell_type": "markdown",
   "metadata": {},
   "source": [
    "### 3.1. Inspections Map\n",
    "* used folium to set the interactive map layer\n",
    "  * then addded points to the map using lat long coords\n",
    "    * mapped biz licenses\n",
    "    * mapped inspections\n",
    "  * plotted violations using a pareto chart package\n",
    "    * had to modify to work in python 3 jupyter nb\n",
    "    * created simple bar graph for violation counts"
   ]
  },
  {
   "cell_type": "code",
   "execution_count": 23,
   "metadata": {},
   "outputs": [
    {
     "name": "stdout",
     "output_type": "stream",
     "text": [
      "Requirement already satisfied: folium in /home/russell/anaconda3/lib/python3.6/site-packages\n",
      "Requirement already satisfied: six in /home/russell/anaconda3/lib/python3.6/site-packages (from folium)\n",
      "Requirement already satisfied: jinja2 in /home/russell/anaconda3/lib/python3.6/site-packages (from folium)\n",
      "Requirement already satisfied: branca in /home/russell/anaconda3/lib/python3.6/site-packages (from folium)\n",
      "Requirement already satisfied: requests in /home/russell/anaconda3/lib/python3.6/site-packages (from folium)\n",
      "Requirement already satisfied: MarkupSafe>=0.23 in /home/russell/anaconda3/lib/python3.6/site-packages (from jinja2->folium)\n",
      "Requirement already satisfied: chardet<3.1.0,>=3.0.2 in /home/russell/anaconda3/lib/python3.6/site-packages (from requests->folium)\n",
      "Requirement already satisfied: idna<2.7,>=2.5 in /home/russell/anaconda3/lib/python3.6/site-packages (from requests->folium)\n",
      "Requirement already satisfied: urllib3<1.23,>=1.21.1 in /home/russell/anaconda3/lib/python3.6/site-packages (from requests->folium)\n",
      "Requirement already satisfied: certifi>=2017.4.17 in /home/russell/anaconda3/lib/python3.6/site-packages (from requests->folium)\n",
      "\u001b[33mYou are using pip version 9.0.1, however version 10.0.1 is available.\n",
      "You should consider upgrading via the 'pip install --upgrade pip' command.\u001b[0m\n"
     ]
    }
   ],
   "source": [
    "!pip install folium\n",
    "\n",
    "# Import necessary packages \n",
    "import folium\n",
    "from folium import plugins\n",
    "import matplotlib.pyplot as plt\n",
    "import seaborn as sns\n",
    "\n",
    "%matplotlib inline"
   ]
  },
  {
   "cell_type": "code",
   "execution_count": 24,
   "metadata": {},
   "outputs": [],
   "source": [
    "m = folium.Map([41.8600, -87.6298], zoom_start=10)"
   ]
  },
  {
   "cell_type": "code",
   "execution_count": null,
   "metadata": {},
   "outputs": [],
   "source": []
  },
  {
   "cell_type": "code",
   "execution_count": 25,
   "metadata": {},
   "outputs": [
    {
     "ename": "TypeError",
     "evalue": "('must be real number, not str', 'occurred at index 2')",
     "output_type": "error",
     "traceback": [
      "\u001b[0;31m---------------------------------------------------------------------------\u001b[0m",
      "\u001b[0;31mTypeError\u001b[0m                                 Traceback (most recent call last)",
      "\u001b[0;32m<ipython-input-25-3b0359212030>\u001b[0m in \u001b[0;36m<module>\u001b[0;34m()\u001b[0m\n\u001b[1;32m      1\u001b[0m inspections.apply(lambda row: folium.CircleMarker(location=[row.latitude, row.longitude],\n\u001b[1;32m      2\u001b[0m                                                  radius=.5, fill_color=\"grey\")\n\u001b[0;32m----> 3\u001b[0;31m                                                  .add_to(m), axis=1)\n\u001b[0m",
      "\u001b[0;32m~/anaconda3/lib/python3.6/site-packages/pandas/core/frame.py\u001b[0m in \u001b[0;36mapply\u001b[0;34m(self, func, axis, broadcast, raw, reduce, args, **kwds)\u001b[0m\n\u001b[1;32m   4875\u001b[0m                         \u001b[0mf\u001b[0m\u001b[0;34m,\u001b[0m \u001b[0maxis\u001b[0m\u001b[0;34m,\u001b[0m\u001b[0;34m\u001b[0m\u001b[0m\n\u001b[1;32m   4876\u001b[0m                         \u001b[0mreduce\u001b[0m\u001b[0;34m=\u001b[0m\u001b[0mreduce\u001b[0m\u001b[0;34m,\u001b[0m\u001b[0;34m\u001b[0m\u001b[0m\n\u001b[0;32m-> 4877\u001b[0;31m                         ignore_failures=ignore_failures)\n\u001b[0m\u001b[1;32m   4878\u001b[0m             \u001b[0;32melse\u001b[0m\u001b[0;34m:\u001b[0m\u001b[0;34m\u001b[0m\u001b[0m\n\u001b[1;32m   4879\u001b[0m                 \u001b[0;32mreturn\u001b[0m \u001b[0mself\u001b[0m\u001b[0;34m.\u001b[0m\u001b[0m_apply_broadcast\u001b[0m\u001b[0;34m(\u001b[0m\u001b[0mf\u001b[0m\u001b[0;34m,\u001b[0m \u001b[0maxis\u001b[0m\u001b[0;34m)\u001b[0m\u001b[0;34m\u001b[0m\u001b[0m\n",
      "\u001b[0;32m~/anaconda3/lib/python3.6/site-packages/pandas/core/frame.py\u001b[0m in \u001b[0;36m_apply_standard\u001b[0;34m(self, func, axis, ignore_failures, reduce)\u001b[0m\n\u001b[1;32m   4971\u001b[0m             \u001b[0;32mtry\u001b[0m\u001b[0;34m:\u001b[0m\u001b[0;34m\u001b[0m\u001b[0m\n\u001b[1;32m   4972\u001b[0m                 \u001b[0;32mfor\u001b[0m \u001b[0mi\u001b[0m\u001b[0;34m,\u001b[0m \u001b[0mv\u001b[0m \u001b[0;32min\u001b[0m \u001b[0menumerate\u001b[0m\u001b[0;34m(\u001b[0m\u001b[0mseries_gen\u001b[0m\u001b[0;34m)\u001b[0m\u001b[0;34m:\u001b[0m\u001b[0;34m\u001b[0m\u001b[0m\n\u001b[0;32m-> 4973\u001b[0;31m                     \u001b[0mresults\u001b[0m\u001b[0;34m[\u001b[0m\u001b[0mi\u001b[0m\u001b[0;34m]\u001b[0m \u001b[0;34m=\u001b[0m \u001b[0mfunc\u001b[0m\u001b[0;34m(\u001b[0m\u001b[0mv\u001b[0m\u001b[0;34m)\u001b[0m\u001b[0;34m\u001b[0m\u001b[0m\n\u001b[0m\u001b[1;32m   4974\u001b[0m                     \u001b[0mkeys\u001b[0m\u001b[0;34m.\u001b[0m\u001b[0mappend\u001b[0m\u001b[0;34m(\u001b[0m\u001b[0mv\u001b[0m\u001b[0;34m.\u001b[0m\u001b[0mname\u001b[0m\u001b[0;34m)\u001b[0m\u001b[0;34m\u001b[0m\u001b[0m\n\u001b[1;32m   4975\u001b[0m             \u001b[0;32mexcept\u001b[0m \u001b[0mException\u001b[0m \u001b[0;32mas\u001b[0m \u001b[0me\u001b[0m\u001b[0;34m:\u001b[0m\u001b[0;34m\u001b[0m\u001b[0m\n",
      "\u001b[0;32m<ipython-input-25-3b0359212030>\u001b[0m in \u001b[0;36m<lambda>\u001b[0;34m(row)\u001b[0m\n\u001b[1;32m      1\u001b[0m inspections.apply(lambda row: folium.CircleMarker(location=[row.latitude, row.longitude],\n\u001b[0;32m----> 2\u001b[0;31m                                                  radius=.5, fill_color=\"grey\")\n\u001b[0m\u001b[1;32m      3\u001b[0m                                                  .add_to(m), axis=1)\n",
      "\u001b[0;32m~/anaconda3/lib/python3.6/site-packages/folium/features.py\u001b[0m in \u001b[0;36m__init__\u001b[0;34m(self, location, radius, popup, **kw)\u001b[0m\n\u001b[1;32m    868\u001b[0m     \"\"\"\n\u001b[1;32m    869\u001b[0m     \u001b[0;32mdef\u001b[0m \u001b[0m__init__\u001b[0m\u001b[0;34m(\u001b[0m\u001b[0mself\u001b[0m\u001b[0;34m,\u001b[0m \u001b[0mlocation\u001b[0m\u001b[0;34m,\u001b[0m \u001b[0mradius\u001b[0m\u001b[0;34m=\u001b[0m\u001b[0;36m10\u001b[0m\u001b[0;34m,\u001b[0m \u001b[0mpopup\u001b[0m\u001b[0;34m=\u001b[0m\u001b[0;32mNone\u001b[0m\u001b[0;34m,\u001b[0m \u001b[0;34m**\u001b[0m\u001b[0mkw\u001b[0m\u001b[0;34m)\u001b[0m\u001b[0;34m:\u001b[0m\u001b[0;34m\u001b[0m\u001b[0m\n\u001b[0;32m--> 870\u001b[0;31m         \u001b[0msuper\u001b[0m\u001b[0;34m(\u001b[0m\u001b[0mCircleMarker\u001b[0m\u001b[0;34m,\u001b[0m \u001b[0mself\u001b[0m\u001b[0;34m)\u001b[0m\u001b[0;34m.\u001b[0m\u001b[0m__init__\u001b[0m\u001b[0;34m(\u001b[0m\u001b[0mlocation\u001b[0m\u001b[0;34m=\u001b[0m\u001b[0mlocation\u001b[0m\u001b[0;34m,\u001b[0m \u001b[0mpopup\u001b[0m\u001b[0;34m=\u001b[0m\u001b[0mpopup\u001b[0m\u001b[0;34m)\u001b[0m\u001b[0;34m\u001b[0m\u001b[0m\n\u001b[0m\u001b[1;32m    871\u001b[0m         \u001b[0mself\u001b[0m\u001b[0;34m.\u001b[0m\u001b[0m_name\u001b[0m \u001b[0;34m=\u001b[0m \u001b[0;34m'CircleMarker'\u001b[0m\u001b[0;34m\u001b[0m\u001b[0m\n\u001b[1;32m    872\u001b[0m         \u001b[0moptions\u001b[0m \u001b[0;34m=\u001b[0m \u001b[0m_parse_path\u001b[0m\u001b[0;34m(\u001b[0m\u001b[0;34m**\u001b[0m\u001b[0mkw\u001b[0m\u001b[0;34m)\u001b[0m\u001b[0;34m\u001b[0m\u001b[0m\n",
      "\u001b[0;32m~/anaconda3/lib/python3.6/site-packages/folium/map.py\u001b[0m in \u001b[0;36m__init__\u001b[0;34m(self, location, popup, icon)\u001b[0m\n\u001b[1;32m    645\u001b[0m         \u001b[0;31m# Must be _validate_coordinates b/c some markers are defined with\u001b[0m\u001b[0;34m\u001b[0m\u001b[0;34m\u001b[0m\u001b[0m\n\u001b[1;32m    646\u001b[0m         \u001b[0;31m# multiple coordinates values, like Polygons.\u001b[0m\u001b[0;34m\u001b[0m\u001b[0;34m\u001b[0m\u001b[0m\n\u001b[0;32m--> 647\u001b[0;31m         \u001b[0mself\u001b[0m\u001b[0;34m.\u001b[0m\u001b[0mlocation\u001b[0m \u001b[0;34m=\u001b[0m \u001b[0m_validate_coordinates\u001b[0m\u001b[0;34m(\u001b[0m\u001b[0mlocation\u001b[0m\u001b[0;34m)\u001b[0m\u001b[0;34m\u001b[0m\u001b[0m\n\u001b[0m\u001b[1;32m    648\u001b[0m         \u001b[0;32mif\u001b[0m \u001b[0micon\u001b[0m \u001b[0;32mis\u001b[0m \u001b[0;32mnot\u001b[0m \u001b[0;32mNone\u001b[0m\u001b[0;34m:\u001b[0m\u001b[0;34m\u001b[0m\u001b[0m\n\u001b[1;32m    649\u001b[0m             \u001b[0mself\u001b[0m\u001b[0;34m.\u001b[0m\u001b[0madd_child\u001b[0m\u001b[0;34m(\u001b[0m\u001b[0micon\u001b[0m\u001b[0;34m)\u001b[0m\u001b[0;34m\u001b[0m\u001b[0m\n",
      "\u001b[0;32m~/anaconda3/lib/python3.6/site-packages/folium/utilities.py\u001b[0m in \u001b[0;36m_validate_coordinates\u001b[0;34m(coordinates)\u001b[0m\n\u001b[1;32m     44\u001b[0m \u001b[0;32mdef\u001b[0m \u001b[0m_validate_coordinates\u001b[0m\u001b[0;34m(\u001b[0m\u001b[0mcoordinates\u001b[0m\u001b[0;34m)\u001b[0m\u001b[0;34m:\u001b[0m\u001b[0;34m\u001b[0m\u001b[0m\n\u001b[1;32m     45\u001b[0m     \u001b[0;34m\"\"\"Validates multiple coordinates for the various markers in folium.\"\"\"\u001b[0m\u001b[0;34m\u001b[0m\u001b[0m\n\u001b[0;32m---> 46\u001b[0;31m     \u001b[0;32mif\u001b[0m \u001b[0m_isnan\u001b[0m\u001b[0;34m(\u001b[0m\u001b[0mcoordinates\u001b[0m\u001b[0;34m)\u001b[0m\u001b[0;34m:\u001b[0m\u001b[0;34m\u001b[0m\u001b[0m\n\u001b[0m\u001b[1;32m     47\u001b[0m         raise ValueError('Location values cannot contain NaNs, '\n\u001b[1;32m     48\u001b[0m                          'got:\\n{!r}'.format(coordinates))\n",
      "\u001b[0;32m~/anaconda3/lib/python3.6/site-packages/folium/utilities.py\u001b[0m in \u001b[0;36m_isnan\u001b[0;34m(values)\u001b[0m\n\u001b[1;32m     70\u001b[0m \u001b[0;32mdef\u001b[0m \u001b[0m_isnan\u001b[0m\u001b[0;34m(\u001b[0m\u001b[0mvalues\u001b[0m\u001b[0;34m)\u001b[0m\u001b[0;34m:\u001b[0m\u001b[0;34m\u001b[0m\u001b[0m\n\u001b[1;32m     71\u001b[0m     \u001b[0;34m\"\"\"Check if there are NaNs values in the iterable.\"\"\"\u001b[0m\u001b[0;34m\u001b[0m\u001b[0m\n\u001b[0;32m---> 72\u001b[0;31m     \u001b[0;32mreturn\u001b[0m \u001b[0many\u001b[0m\u001b[0;34m(\u001b[0m\u001b[0mmath\u001b[0m\u001b[0;34m.\u001b[0m\u001b[0misnan\u001b[0m\u001b[0;34m(\u001b[0m\u001b[0mvalue\u001b[0m\u001b[0;34m)\u001b[0m \u001b[0;32mfor\u001b[0m \u001b[0mvalue\u001b[0m \u001b[0;32min\u001b[0m \u001b[0m_flatten\u001b[0m\u001b[0;34m(\u001b[0m\u001b[0mvalues\u001b[0m\u001b[0;34m)\u001b[0m\u001b[0;34m)\u001b[0m\u001b[0;34m\u001b[0m\u001b[0m\n\u001b[0m\u001b[1;32m     73\u001b[0m \u001b[0;34m\u001b[0m\u001b[0m\n\u001b[1;32m     74\u001b[0m \u001b[0;34m\u001b[0m\u001b[0m\n",
      "\u001b[0;32m~/anaconda3/lib/python3.6/site-packages/folium/utilities.py\u001b[0m in \u001b[0;36m<genexpr>\u001b[0;34m(.0)\u001b[0m\n\u001b[1;32m     70\u001b[0m \u001b[0;32mdef\u001b[0m \u001b[0m_isnan\u001b[0m\u001b[0;34m(\u001b[0m\u001b[0mvalues\u001b[0m\u001b[0;34m)\u001b[0m\u001b[0;34m:\u001b[0m\u001b[0;34m\u001b[0m\u001b[0m\n\u001b[1;32m     71\u001b[0m     \u001b[0;34m\"\"\"Check if there are NaNs values in the iterable.\"\"\"\u001b[0m\u001b[0;34m\u001b[0m\u001b[0m\n\u001b[0;32m---> 72\u001b[0;31m     \u001b[0;32mreturn\u001b[0m \u001b[0many\u001b[0m\u001b[0;34m(\u001b[0m\u001b[0mmath\u001b[0m\u001b[0;34m.\u001b[0m\u001b[0misnan\u001b[0m\u001b[0;34m(\u001b[0m\u001b[0mvalue\u001b[0m\u001b[0;34m)\u001b[0m \u001b[0;32mfor\u001b[0m \u001b[0mvalue\u001b[0m \u001b[0;32min\u001b[0m \u001b[0m_flatten\u001b[0m\u001b[0;34m(\u001b[0m\u001b[0mvalues\u001b[0m\u001b[0;34m)\u001b[0m\u001b[0;34m)\u001b[0m\u001b[0;34m\u001b[0m\u001b[0m\n\u001b[0m\u001b[1;32m     73\u001b[0m \u001b[0;34m\u001b[0m\u001b[0m\n\u001b[1;32m     74\u001b[0m \u001b[0;34m\u001b[0m\u001b[0m\n",
      "\u001b[0;31mTypeError\u001b[0m: ('must be real number, not str', 'occurred at index 2')"
     ]
    }
   ],
   "source": [
    "inspections.apply(lambda row: folium.CircleMarker(location=[row.latitude, row.longitude],\n",
    "                                                 radius=.5, fill_color=\"grey\")\n",
    "                                                 .add_to(m), axis=1)"
   ]
  },
  {
   "cell_type": "code",
   "execution_count": null,
   "metadata": {},
   "outputs": [],
   "source": [
    "# Convert to (n, 2) nd-array format for heatmap\n",
    "inspections_arr = inspections[[\"latitude\", \"longitude\"]].values\n",
    "\n",
    "# Plot heatmap\n",
    "m.add_child(plugins.HeatMap(inspections_arr.tolist(), radius=17))"
   ]
  },
  {
   "cell_type": "markdown",
   "metadata": {
    "colab_type": "text",
    "id": "g-WSIdpM4Nee"
   },
   "source": [
    "### 3.2. Comments Word-cloud\n",
    "We split inspection into a series of rows detailing each violation and comment. We then used wordcloud and matplotlib.pyplot to generate a word cloud for violation comments:\n",
    "[WORDCLOUD HERE]\n",
    "Although qualitative, the results point to cleaning, maintenance & prep area issues as the most common violations.\n",
    "\n",
    "### 3.3. Violations Pareto-chart\n",
    "We used the same distribution of individual violations to generate a pareto chart. We used this along with a [table detailing violation numbers and corresponding health standards](https://webapps1.cityofchicago.org/healthinspection/Code_Violations.jsp) to provide a more quantitative perspective.\n",
    "\n",
    "[PUT PARETO CHART HERE]\n",
    "\n",
    "The six most common violations (comprising over 60% of all violations) were all minor and pertained to cleanliness and maintenance of floors, walls & ceilings; sanitation & maintenance of utensils and equipment; proper venting; and proper organization of food and cleaning supplies.\n",
    "\n",
    "The most common serious violation was improper control of vermin, and the most common critical violations related to improper storage of hot and cold foods.\n",
    "\n",
    "### ?. inspection history???\n",
    "The Chicago team found that one of the greatest predictors of critical violations and failed inspections was the establishment's recent inspection history. To investigate this, grouped inspections by license, shifted each group to find the previous inspection, and set up a crosstab (contingency?) table. We found that [RESULTS SEEM WEIRD, PROBABLY DON'T INCLUDE?]\n",
    "* P(FAIL | FAIL) = .11\n",
    "* p(fail | pass) = .25\n",
    "\n",
    "### ?. oppertunity research???\n",
    "We wanted to know how valuable a violation forecast would be to businesses. For example, if businesses rarely failed an inspection and only failed in summer, additional information would not be very useful.\n",
    "\n",
    "To explore this we first grouped inspections by license, and then for each license group we determined the number of fails, inspection duration, yearly inspections and yearly fails.\n",
    "\n",
    "Use of crosstab suggested a number of patterns\n",
    "[INTERSPERSE WITH CROSSTAB]\n",
    "\n",
    "For this exploration only current restauraants with an inspection history longer than 6 months were considered. Of these roughly 65% were inspected 1-2x/year and failed 0-.5x/year\n",
    "[WHAT ABOUT PRIORITY?]\n",
    "\n",
    "Looking at yearly fails vs years, most failed 0-.5x/year (including somewhat more established restaurants). Many failed .5-1.5x/year (including slightly more new restaurants). A smaller group failed 1.5x+ and were pretty much all new. This suggests a die-off, with resteraunts that fail more inspections not lasting as long.\n",
    "\n",
    "Overall, it seems as though enough restaurants fail at least once a year that a predictive tool would be worthwhile (IS THAT THE CASE?).\n"
   ]
  },
  {
   "cell_type": "markdown",
   "metadata": {
    "colab_type": "text",
    "id": "VRZ0Gd9aQwBv"
   },
   "source": [
    "## 4. Calculating Model Data\n",
    "We then set out derive all features originally considered by the Chicago team plus several novel features, translating from R to Python in the process. While relative weights in forecasting individual violations rather than number of critical violations may be different, we expect the significant databases and [NEEDS REPHRASING & STUFF]\n",
    "\n",
    "[MAYBE HAVE BULLET POINTS FOR DATABASES, FEATURES]\n",
    "\n",
    "Each row of the final training dataset represents an inspection, its outcomes, and a number of other features. [SOMETHING ABOUT TRAINING METHODOLOGY, MAYBE ABOUT FIGURING OUT WHICH FEATURES MATTER FOR WHICH]\n",
    "\n",
    "We used the inspections database as the basis for our training data.\n",
    "\n",
    "### 4.1. features from food inspection data\n",
    "* used subset of inspections as basis\n",
    "* merged with violation values & counts on inspection id\n",
    "* created pass / fail flags\n",
    "* sorted by date, shifted to get previous info\n",
    "  * past fail\n",
    "  * past critical, serious, minor\n",
    "  * inspections with no past default to 0\n",
    "* calculate time since last\n",
    "  * binary first_record\n",
    "  * time since last defaults to 2\n",
    "  \n",
    "  ### 4.2. features from business license data\n",
    "  \n",
    "  ### 4.3. from heat maps\n",
    "  \n",
    "  ### 4.4. from weather"
   ]
  },
  {
   "cell_type": "markdown",
   "metadata": {
    "colab_type": "text",
    "id": "RgvtHH3Suxib"
   },
   "source": [
    "[1] https://www.cdc.gov/foodborneburden/index.html\n",
    "\n",
    "[2] https://chicago.github.io/food-inspections-evaluation/\n",
    "\n",
    "[3] https://github.com/Chicago/food-inspections-evaluatio]"
   ]
  },
  {
   "cell_type": "markdown",
   "metadata": {
    "colab_type": "text",
    "id": "0ZdHzXcM5ith"
   },
   "source": [
    "## 5. Next Steps\n",
    "COMING SOON!"
   ]
  },
  {
   "cell_type": "markdown",
   "metadata": {
    "colab_type": "text",
    "id": "hlarm5KB6I_t"
   },
   "source": [
    "## About the Authors"
   ]
  }
 ],
 "metadata": {
  "colab": {
   "collapsed_sections": [],
   "default_view": {},
   "name": "publication_1",
   "provenance": [
    {
     "file_id": "1cr478KRLrD-8amy4zC7yPwnQfaPFcpts",
     "timestamp": 1529284676149
    }
   ],
   "version": "0.3.2",
   "views": {}
  },
  "kernelspec": {
   "display_name": "Python 3",
   "language": "python",
   "name": "python3"
  },
  "language_info": {
   "codemirror_mode": {
    "name": "ipython",
    "version": 3
   },
   "file_extension": ".py",
   "mimetype": "text/x-python",
   "name": "python",
   "nbconvert_exporter": "python",
   "pygments_lexer": "ipython3",
   "version": "3.6.4"
  }
 },
 "nbformat": 4,
 "nbformat_minor": 1
}
