{
 "cells": [
  {
   "cell_type": "code",
   "execution_count": 1,
   "metadata": {},
   "outputs": [
    {
     "name": "stdout",
     "output_type": "stream",
     "text": [
      "Collecting sodapy\n",
      "  Downloading https://files.pythonhosted.org/packages/69/12/ce6d8c29b7e60a42b1128998169ba0b10e8c19e3ea4a4387526d167c57ef/sodapy-1.4.6-py2.py3-none-any.whl\n",
      "Collecting future==0.16.0 (from sodapy)\n",
      "\u001b[?25l  Downloading https://files.pythonhosted.org/packages/00/2b/8d082ddfed935f3608cc61140df6dcbf0edea1bc3ab52fb6c29ae3e81e85/future-0.16.0.tar.gz (824kB)\n",
      "\u001b[K    100% |████████████████████████████████| 829kB 744kB/s ta 0:00:01\n",
      "\u001b[?25hRequirement already satisfied: requests==2.18.4 in /Users/davidplewis/anaconda3/lib/python3.6/site-packages (from sodapy) (2.18.4)\n",
      "Requirement already satisfied: chardet<3.1.0,>=3.0.2 in /Users/davidplewis/anaconda3/lib/python3.6/site-packages (from requests==2.18.4->sodapy) (3.0.4)\n",
      "Requirement already satisfied: idna<2.7,>=2.5 in /Users/davidplewis/anaconda3/lib/python3.6/site-packages (from requests==2.18.4->sodapy) (2.6)\n",
      "Requirement already satisfied: urllib3<1.23,>=1.21.1 in /Users/davidplewis/anaconda3/lib/python3.6/site-packages (from requests==2.18.4->sodapy) (1.22)\n",
      "Requirement already satisfied: certifi>=2017.4.17 in /Users/davidplewis/anaconda3/lib/python3.6/site-packages (from requests==2.18.4->sodapy) (2018.4.16)\n",
      "Building wheels for collected packages: future\n",
      "  Running setup.py bdist_wheel for future ... \u001b[?25ldone\n",
      "\u001b[?25h  Stored in directory: /Users/davidplewis/Library/Caches/pip/wheels/bf/c9/a3/c538d90ef17cf7823fa51fc701a7a7a910a80f6a405bf15b1a\n",
      "Successfully built future\n",
      "\u001b[31mdistributed 1.21.8 requires msgpack, which is not installed.\u001b[0m\n",
      "Installing collected packages: future, sodapy\n",
      "Successfully installed future-0.16.0 sodapy-1.4.6\n"
     ]
    }
   ],
   "source": [
    "!pip install sodapy"
   ]
  },
  {
   "cell_type": "code",
   "execution_count": 3,
   "metadata": {},
   "outputs": [
    {
     "name": "stderr",
     "output_type": "stream",
     "text": [
      "WARNING:root:Requests made without an app_token will be subject to strict throttling limits.\n"
     ]
    }
   ],
   "source": [
    "# from https://github.com/socrata/dev.socrata.com/blob/39c6581986466edb5e7f72f5beea5ce69238f8de/snippets/pandas.py\n",
    "\n",
    "import pandas as pd\n",
    "from sodapy import Socrata\n",
    "\n",
    "# Unauthenticated client only works with public data sets. Note 'None'\n",
    "# in place of application token, and no username or password:\n",
    "client = Socrata(\"data.cityofchicago.org\", None)\n",
    "\n",
    "# First 50000 results, returned as JSON from API \n",
    "# Connverted to Python list of dictionaries by sodapy.\n",
    "# Column names converted to snake case, special chars removed\n",
    "# Dates and location formatted\n",
    "results = client.get(\"r5kz-chrr\", limit=50000)\n",
    "\n",
    "# Convert to pandas DataFrame\n",
    "licenses = pd.DataFrame.from_records(results)"
   ]
  },
  {
   "cell_type": "code",
   "execution_count": 4,
   "metadata": {},
   "outputs": [
    {
     "name": "stdout",
     "output_type": "stream",
     "text": [
      "50000\n",
      "100000\n",
      "150000\n",
      "200000\n",
      "250000\n",
      "300000\n",
      "350000\n",
      "400000\n",
      "450000\n",
      "500000\n"
     ]
    },
    {
     "name": "stderr",
     "output_type": "stream",
     "text": [
      "/Users/davidplewis/anaconda3/lib/python3.6/site-packages/pandas/core/frame.py:6201: FutureWarning: Sorting because non-concatenation axis is not aligned. A future version\n",
      "of pandas will change to not sort by default.\n",
      "\n",
      "To accept the future behavior, pass 'sort=True'.\n",
      "\n",
      "To retain the current behavior and silence the warning, pass sort=False\n",
      "\n",
      "  sort=sort)\n"
     ]
    },
    {
     "name": "stdout",
     "output_type": "stream",
     "text": [
      "550000\n",
      "600000\n",
      "650000\n",
      "700000\n",
      "750000\n",
      "800000\n",
      "850000\n",
      "900000\n",
      "950000\n"
     ]
    }
   ],
   "source": [
    "# download remaining (limit 50000 / call)\n",
    "start = 50000\n",
    "while results:\n",
    "    print(start)\n",
    "    results = client.get(\"r5kz-chrr\", limit=50000, offset=start)\n",
    "    licenses = licenses.append(pd.DataFrame.from_records(results))\n",
    "    start += 50000\n"
   ]
  },
  {
   "cell_type": "code",
   "execution_count": 11,
   "metadata": {},
   "outputs": [
    {
     "data": {
      "text/plain": [
       "0                 NaN\n",
       "1                 NaN\n",
       "2                 NaN\n",
       "3                 NaN\n",
       "4                 NaN\n",
       "5                 NaN\n",
       "6                 NaN\n",
       "7                 NaN\n",
       "8                 NaN\n",
       "9                 NaN\n",
       "10                NaN\n",
       "11                NaN\n",
       "12                NaN\n",
       "13                NaN\n",
       "14                NaN\n",
       "15                NaN\n",
       "16                NaN\n",
       "17                NaN\n",
       "18                NaN\n",
       "19                NaN\n",
       "20                NaN\n",
       "21                NaN\n",
       "22                NaN\n",
       "23                NaN\n",
       "24                NaN\n",
       "25                NaN\n",
       "26                NaN\n",
       "27                NaN\n",
       "28                NaN\n",
       "29                NaN\n",
       "             ...     \n",
       "38015    41.997621491\n",
       "38016    41.791095234\n",
       "38017             NaN\n",
       "38018    41.808646761\n",
       "38019    41.954124675\n",
       "38020    41.690543445\n",
       "38021    41.783767852\n",
       "38022    41.956998501\n",
       "38023             NaN\n",
       "38024     41.88743405\n",
       "38025    41.953685818\n",
       "38026    41.849379215\n",
       "38027        41.95577\n",
       "38028    41.889832917\n",
       "38029    41.934669213\n",
       "38030    41.750671829\n",
       "38031    41.906543249\n",
       "38032    41.857570048\n",
       "38033    41.794422591\n",
       "38034    41.858061856\n",
       "38035    41.924334714\n",
       "38036             NaN\n",
       "38037    41.799421633\n",
       "38038    41.798989947\n",
       "38039    41.799513947\n",
       "38040    41.954453183\n",
       "38041        41.95577\n",
       "38042     41.84853337\n",
       "38043    41.883234348\n",
       "38044    41.864808345\n",
       "Name: latitude, Length: 937806, dtype: object"
      ]
     },
     "execution_count": 11,
     "metadata": {},
     "output_type": "execute_result"
    }
   ],
   "source": [
    "# Query data to get an idea of what information is present\n",
    "licenses.head()"
   ]
  },
  {
   "cell_type": "code",
   "execution_count": 7,
   "metadata": {},
   "outputs": [
    {
     "data": {
      "text/plain": [
       "str"
      ]
     },
     "execution_count": 7,
     "metadata": {},
     "output_type": "execute_result"
    }
   ],
   "source": [
    "type(licenses.iloc[40].application_requirements_complete)\n"
   ]
  },
  {
   "cell_type": "code",
   "execution_count": 8,
   "metadata": {},
   "outputs": [],
   "source": [
    "# Drop duplicates\n",
    "licenses.drop_duplicates(\"id\", inplace=True)"
   ]
  },
  {
   "cell_type": "code",
   "execution_count": 7,
   "metadata": {},
   "outputs": [],
   "source": [
    "# Drop rows with missing license term start date?\n",
    "# Drop rows with missing license term expiration date?\n",
    "# drop application types C_CAPA and C_SBA?business_licenses.to_csv(\"../../DATA/business_licenses\")"
   ]
  },
  {
   "cell_type": "code",
   "execution_count": 9,
   "metadata": {},
   "outputs": [],
   "source": [
    "import os.path\n",
    "root_path = os.path.dirname(os.getcwd())\n",
    "\n",
    "# Save result\n",
    "licenses.to_csv(os.path.join(root_path, \"DATA/business_licenses.csv\"), index=False)"
   ]
  },
  {
   "cell_type": "code",
   "execution_count": null,
   "metadata": {},
   "outputs": [],
   "source": []
  }
 ],
 "metadata": {
  "kernelspec": {
   "display_name": "Python 3",
   "language": "python",
   "name": "python3"
  },
  "language_info": {
   "codemirror_mode": {
    "name": "ipython",
    "version": 3
   },
   "file_extension": ".py",
   "mimetype": "text/x-python",
   "name": "python",
   "nbconvert_exporter": "python",
   "pygments_lexer": "ipython3",
   "version": "3.6.5"
  }
 },
 "nbformat": 4,
 "nbformat_minor": 2
}
