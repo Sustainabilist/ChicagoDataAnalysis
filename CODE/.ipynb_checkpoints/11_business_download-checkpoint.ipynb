{
 "cells": [
  {
   "cell_type": "code",
   "execution_count": 1,
   "metadata": {},
   "outputs": [
    {
     "name": "stdout",
     "output_type": "stream",
     "text": [
      "Collecting sodapy\n",
      "  Downloading https://files.pythonhosted.org/packages/69/12/ce6d8c29b7e60a42b1128998169ba0b10e8c19e3ea4a4387526d167c57ef/sodapy-1.4.6-py2.py3-none-any.whl\n",
      "Collecting future==0.16.0 (from sodapy)\n",
      "\u001b[?25l  Downloading https://files.pythonhosted.org/packages/00/2b/8d082ddfed935f3608cc61140df6dcbf0edea1bc3ab52fb6c29ae3e81e85/future-0.16.0.tar.gz (824kB)\n",
      "\u001b[K    100% |████████████████████████████████| 829kB 744kB/s ta 0:00:01\n",
      "\u001b[?25hRequirement already satisfied: requests==2.18.4 in /Users/davidplewis/anaconda3/lib/python3.6/site-packages (from sodapy) (2.18.4)\n",
      "Requirement already satisfied: chardet<3.1.0,>=3.0.2 in /Users/davidplewis/anaconda3/lib/python3.6/site-packages (from requests==2.18.4->sodapy) (3.0.4)\n",
      "Requirement already satisfied: idna<2.7,>=2.5 in /Users/davidplewis/anaconda3/lib/python3.6/site-packages (from requests==2.18.4->sodapy) (2.6)\n",
      "Requirement already satisfied: urllib3<1.23,>=1.21.1 in /Users/davidplewis/anaconda3/lib/python3.6/site-packages (from requests==2.18.4->sodapy) (1.22)\n",
      "Requirement already satisfied: certifi>=2017.4.17 in /Users/davidplewis/anaconda3/lib/python3.6/site-packages (from requests==2.18.4->sodapy) (2018.4.16)\n",
      "Building wheels for collected packages: future\n",
      "  Running setup.py bdist_wheel for future ... \u001b[?25ldone\n",
      "\u001b[?25h  Stored in directory: /Users/davidplewis/Library/Caches/pip/wheels/bf/c9/a3/c538d90ef17cf7823fa51fc701a7a7a910a80f6a405bf15b1a\n",
      "Successfully built future\n",
      "\u001b[31mdistributed 1.21.8 requires msgpack, which is not installed.\u001b[0m\n",
      "Installing collected packages: future, sodapy\n",
      "Successfully installed future-0.16.0 sodapy-1.4.6\n"
     ]
    }
   ],
   "source": [
    "!pip install sodapy"
   ]
  },
  {
   "cell_type": "code",
   "execution_count": 3,
   "metadata": {},
   "outputs": [
    {
     "name": "stderr",
     "output_type": "stream",
     "text": [
      "WARNING:root:Requests made without an app_token will be subject to strict throttling limits.\n"
     ]
    }
   ],
   "source": [
    "# from https://github.com/socrata/dev.socrata.com/blob/39c6581986466edb5e7f72f5beea5ce69238f8de/snippets/pandas.py\n",
    "\n",
    "import pandas as pd\n",
    "from sodapy import Socrata\n",
    "\n",
    "# Unauthenticated client only works with public data sets. Note 'None'\n",
    "# in place of application token, and no username or password:\n",
    "client = Socrata(\"data.cityofchicago.org\", None)\n",
    "\n",
    "# First 50000 results, returned as JSON from API \n",
    "# Connverted to Python list of dictionaries by sodapy.\n",
    "# Column names converted to snake case, special chars removed\n",
    "# Dates and location formatted\n",
    "results = client.get(\"r5kz-chrr\", limit=50000)\n",
    "\n",
    "# Convert to pandas DataFrame\n",
    "licenses = pd.DataFrame.from_records(results)"
   ]
  },
  {
   "cell_type": "code",
   "execution_count": 4,
   "metadata": {},
   "outputs": [
    {
     "name": "stdout",
     "output_type": "stream",
     "text": [
      "50000\n",
      "100000\n",
      "150000\n",
      "200000\n",
      "250000\n",
      "300000\n",
      "350000\n",
      "400000\n",
      "450000\n",
      "500000\n"
     ]
    },
    {
     "name": "stderr",
     "output_type": "stream",
     "text": [
      "/Users/davidplewis/anaconda3/lib/python3.6/site-packages/pandas/core/frame.py:6201: FutureWarning: Sorting because non-concatenation axis is not aligned. A future version\n",
      "of pandas will change to not sort by default.\n",
      "\n",
      "To accept the future behavior, pass 'sort=True'.\n",
      "\n",
      "To retain the current behavior and silence the warning, pass sort=False\n",
      "\n",
      "  sort=sort)\n"
     ]
    },
    {
     "name": "stdout",
     "output_type": "stream",
     "text": [
      "550000\n",
      "600000\n",
      "650000\n",
      "700000\n",
      "750000\n",
      "800000\n",
      "850000\n",
      "900000\n",
      "950000\n"
     ]
    }
   ],
   "source": [
    "# download remaining (limit 50000 / call)\n",
    "start = 50000\n",
    "while results:\n",
    "    print(start)\n",
    "    results = client.get(\"r5kz-chrr\", limit=50000, offset=start)\n",
    "    licenses = licenses.append(pd.DataFrame.from_records(results))\n",
    "    start += 50000\n"
   ]
  },
  {
   "cell_type": "code",
   "execution_count": 12,
   "metadata": {},
   "outputs": [
    {
     "data": {
      "text/html": [
       "<div>\n",
       "<style scoped>\n",
       "    .dataframe tbody tr th:only-of-type {\n",
       "        vertical-align: middle;\n",
       "    }\n",
       "\n",
       "    .dataframe tbody tr th {\n",
       "        vertical-align: top;\n",
       "    }\n",
       "\n",
       "    .dataframe thead th {\n",
       "        text-align: right;\n",
       "    }\n",
       "</style>\n",
       "<table border=\"1\" class=\"dataframe\">\n",
       "  <thead>\n",
       "    <tr style=\"text-align: right;\">\n",
       "      <th></th>\n",
       "      <th>account_number</th>\n",
       "      <th>address</th>\n",
       "      <th>application_created_date</th>\n",
       "      <th>application_requirements_complete</th>\n",
       "      <th>application_type</th>\n",
       "      <th>business_activity</th>\n",
       "      <th>business_activity_id</th>\n",
       "      <th>city</th>\n",
       "      <th>conditional_approval</th>\n",
       "      <th>date_issued</th>\n",
       "      <th>...</th>\n",
       "      <th>longitude</th>\n",
       "      <th>payment_date</th>\n",
       "      <th>police_district</th>\n",
       "      <th>precinct</th>\n",
       "      <th>site_number</th>\n",
       "      <th>ssa</th>\n",
       "      <th>state</th>\n",
       "      <th>ward</th>\n",
       "      <th>ward_precinct</th>\n",
       "      <th>zip_code</th>\n",
       "    </tr>\n",
       "  </thead>\n",
       "  <tbody>\n",
       "    <tr>\n",
       "      <th>0</th>\n",
       "      <td>51755</td>\n",
       "      <td>11243  CHESAPEAKE PLAC   1ST</td>\n",
       "      <td>NaN</td>\n",
       "      <td>2000-06-16T00:00:00</td>\n",
       "      <td>RENEW</td>\n",
       "      <td>NaN</td>\n",
       "      <td>NaN</td>\n",
       "      <td>WESTCHESTER</td>\n",
       "      <td>N</td>\n",
       "      <td>2009-08-24T00:00:00</td>\n",
       "      <td>...</td>\n",
       "      <td>NaN</td>\n",
       "      <td>2009-08-21T00:00:00</td>\n",
       "      <td>NaN</td>\n",
       "      <td>NaN</td>\n",
       "      <td>1</td>\n",
       "      <td>NaN</td>\n",
       "      <td>IL</td>\n",
       "      <td>NaN</td>\n",
       "      <td>NaN</td>\n",
       "      <td>60154</td>\n",
       "    </tr>\n",
       "    <tr>\n",
       "      <th>1</th>\n",
       "      <td>51944</td>\n",
       "      <td>5410  NEWPORT DR  40</td>\n",
       "      <td>NaN</td>\n",
       "      <td>2000-06-20T00:00:00</td>\n",
       "      <td>ISSUE</td>\n",
       "      <td>NaN</td>\n",
       "      <td>NaN</td>\n",
       "      <td>ROLLING MEADOWS</td>\n",
       "      <td>N</td>\n",
       "      <td>2006-04-12T00:00:00</td>\n",
       "      <td>...</td>\n",
       "      <td>NaN</td>\n",
       "      <td>NaN</td>\n",
       "      <td>NaN</td>\n",
       "      <td>NaN</td>\n",
       "      <td>1</td>\n",
       "      <td>NaN</td>\n",
       "      <td>IL</td>\n",
       "      <td>NaN</td>\n",
       "      <td>NaN</td>\n",
       "      <td>60008</td>\n",
       "    </tr>\n",
       "    <tr>\n",
       "      <th>2</th>\n",
       "      <td>52896</td>\n",
       "      <td>17021 S MAGNOLIA DR  1ST</td>\n",
       "      <td>NaN</td>\n",
       "      <td>2000-06-20T00:00:00</td>\n",
       "      <td>ISSUE</td>\n",
       "      <td>NaN</td>\n",
       "      <td>NaN</td>\n",
       "      <td>HAZEL CREST</td>\n",
       "      <td>N</td>\n",
       "      <td>2006-04-12T00:00:00</td>\n",
       "      <td>...</td>\n",
       "      <td>NaN</td>\n",
       "      <td>NaN</td>\n",
       "      <td>NaN</td>\n",
       "      <td>NaN</td>\n",
       "      <td>1</td>\n",
       "      <td>NaN</td>\n",
       "      <td>IL</td>\n",
       "      <td>NaN</td>\n",
       "      <td>NaN</td>\n",
       "      <td>60429</td>\n",
       "    </tr>\n",
       "    <tr>\n",
       "      <th>3</th>\n",
       "      <td>54389</td>\n",
       "      <td>450  SKOKIE BLVD  904</td>\n",
       "      <td>NaN</td>\n",
       "      <td>2000-06-20T00:00:00</td>\n",
       "      <td>ISSUE</td>\n",
       "      <td>NaN</td>\n",
       "      <td>NaN</td>\n",
       "      <td>NORTHBROOK</td>\n",
       "      <td>N</td>\n",
       "      <td>2006-04-12T00:00:00</td>\n",
       "      <td>...</td>\n",
       "      <td>NaN</td>\n",
       "      <td>NaN</td>\n",
       "      <td>NaN</td>\n",
       "      <td>NaN</td>\n",
       "      <td>1</td>\n",
       "      <td>NaN</td>\n",
       "      <td>IL</td>\n",
       "      <td>NaN</td>\n",
       "      <td>NaN</td>\n",
       "      <td>60062</td>\n",
       "    </tr>\n",
       "    <tr>\n",
       "      <th>4</th>\n",
       "      <td>55668</td>\n",
       "      <td>261 N WEST AVE  1ST</td>\n",
       "      <td>NaN</td>\n",
       "      <td>2000-06-20T00:00:00</td>\n",
       "      <td>ISSUE</td>\n",
       "      <td>NaN</td>\n",
       "      <td>NaN</td>\n",
       "      <td>ELMHURST</td>\n",
       "      <td>N</td>\n",
       "      <td>2006-04-12T00:00:00</td>\n",
       "      <td>...</td>\n",
       "      <td>NaN</td>\n",
       "      <td>NaN</td>\n",
       "      <td>NaN</td>\n",
       "      <td>NaN</td>\n",
       "      <td>1</td>\n",
       "      <td>NaN</td>\n",
       "      <td>IL</td>\n",
       "      <td>NaN</td>\n",
       "      <td>NaN</td>\n",
       "      <td>60126</td>\n",
       "    </tr>\n",
       "  </tbody>\n",
       "</table>\n",
       "<p>5 rows × 34 columns</p>\n",
       "</div>"
      ],
      "text/plain": [
       "  account_number                       address application_created_date  \\\n",
       "0          51755  11243  CHESAPEAKE PLAC   1ST                      NaN   \n",
       "1          51944          5410  NEWPORT DR  40                      NaN   \n",
       "2          52896      17021 S MAGNOLIA DR  1ST                      NaN   \n",
       "3          54389         450  SKOKIE BLVD  904                      NaN   \n",
       "4          55668           261 N WEST AVE  1ST                      NaN   \n",
       "\n",
       "  application_requirements_complete application_type business_activity  \\\n",
       "0               2000-06-16T00:00:00            RENEW               NaN   \n",
       "1               2000-06-20T00:00:00            ISSUE               NaN   \n",
       "2               2000-06-20T00:00:00            ISSUE               NaN   \n",
       "3               2000-06-20T00:00:00            ISSUE               NaN   \n",
       "4               2000-06-20T00:00:00            ISSUE               NaN   \n",
       "\n",
       "  business_activity_id             city conditional_approval  \\\n",
       "0                  NaN      WESTCHESTER                    N   \n",
       "1                  NaN  ROLLING MEADOWS                    N   \n",
       "2                  NaN      HAZEL CREST                    N   \n",
       "3                  NaN       NORTHBROOK                    N   \n",
       "4                  NaN         ELMHURST                    N   \n",
       "\n",
       "           date_issued   ...    longitude         payment_date  \\\n",
       "0  2009-08-24T00:00:00   ...          NaN  2009-08-21T00:00:00   \n",
       "1  2006-04-12T00:00:00   ...          NaN                  NaN   \n",
       "2  2006-04-12T00:00:00   ...          NaN                  NaN   \n",
       "3  2006-04-12T00:00:00   ...          NaN                  NaN   \n",
       "4  2006-04-12T00:00:00   ...          NaN                  NaN   \n",
       "\n",
       "  police_district precinct site_number  ssa state ward ward_precinct zip_code  \n",
       "0             NaN      NaN           1  NaN    IL  NaN           NaN    60154  \n",
       "1             NaN      NaN           1  NaN    IL  NaN           NaN    60008  \n",
       "2             NaN      NaN           1  NaN    IL  NaN           NaN    60429  \n",
       "3             NaN      NaN           1  NaN    IL  NaN           NaN    60062  \n",
       "4             NaN      NaN           1  NaN    IL  NaN           NaN    60126  \n",
       "\n",
       "[5 rows x 34 columns]"
      ]
     },
     "execution_count": 12,
     "metadata": {},
     "output_type": "execute_result"
    }
   ],
   "source": [
    "# Query data to get an idea of what information is present\n",
    "licenses.head()"
   ]
  },
  {
   "cell_type": "code",
   "execution_count": 7,
   "metadata": {},
   "outputs": [
    {
     "data": {
      "text/plain": [
       "str"
      ]
     },
     "execution_count": 7,
     "metadata": {},
     "output_type": "execute_result"
    }
   ],
   "source": [
    "type(licenses.iloc[40].application_requirements_complete)\n"
   ]
  },
  {
   "cell_type": "code",
   "execution_count": 8,
   "metadata": {},
   "outputs": [],
   "source": [
    "# Drop duplicates\n",
    "licenses.drop_duplicates(\"id\", inplace=True)"
   ]
  },
  {
   "cell_type": "code",
   "execution_count": 7,
   "metadata": {},
   "outputs": [],
   "source": [
    "# Drop rows with missing license term start date?\n",
    "# Drop rows with missing license term expiration date?\n",
    "# drop application types C_CAPA and C_SBA?business_licenses.to_csv(\"../../DATA/business_licenses\")"
   ]
  },
  {
   "cell_type": "code",
   "execution_count": 9,
   "metadata": {},
   "outputs": [],
   "source": [
    "import os.path\n",
    "root_path = os.path.dirname(os.getcwd())\n",
    "\n",
    "# Save result\n",
    "licenses.to_csv(os.path.join(root_path, \"DATA/business_licenses.csv\"), index=False)"
   ]
  },
  {
   "cell_type": "code",
   "execution_count": null,
   "metadata": {},
   "outputs": [],
   "source": []
  }
 ],
 "metadata": {
  "kernelspec": {
   "display_name": "Python 3",
   "language": "python",
   "name": "python3"
  },
  "language_info": {
   "codemirror_mode": {
    "name": "ipython",
    "version": 3
   },
   "file_extension": ".py",
   "mimetype": "text/x-python",
   "name": "python",
   "nbconvert_exporter": "python",
   "pygments_lexer": "ipython3",
   "version": "3.6.5"
  }
 },
 "nbformat": 4,
 "nbformat_minor": 2
}
