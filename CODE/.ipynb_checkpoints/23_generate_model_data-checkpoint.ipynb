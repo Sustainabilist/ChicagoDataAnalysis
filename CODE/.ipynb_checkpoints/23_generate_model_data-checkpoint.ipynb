{
 "cells": [
  {
   "cell_type": "markdown",
   "metadata": {},
   "source": [
    "### CALCULATE FEATURES BASED ON FOOD INSPECTION DATA"
   ]
  },
  {
   "cell_type": "code",
   "execution_count": 1,
   "metadata": {},
   "outputs": [],
   "source": [
    "import numpy as np\n",
    "import pandas as pd\n",
    "import os.path\n",
    "\n",
    "root_path = os.path.dirname(os.getcwd())\n",
    "\n",
    "# Load food inspection data\n",
    "inspections = pd.read_csv(os.path.join(root_path, \"DATA/food_inspections.csv\"))\n",
    "\n",
    "# Create basis for model_data (risk not included in Chicago repository)\n",
    "data = inspections[[\"inspection_date\", \"license\", \"inspection_id\", \"facility_type\", \"results\", \"risk\"]]"
   ]
  },
  {
   "cell_type": "code",
   "execution_count": 2,
   "metadata": {},
   "outputs": [],
   "source": [
    "# Load violation data\n",
    "values = pd.read_csv(os.path.join(root_path, \"DATA/violation_values.csv\"))\n",
    "counts = pd.read_csv(os.path.join(root_path, \"DATA/violation_counts.csv\"))\n",
    "\n",
    "# Merge with violation data\n",
    "data = pd.merge(data, values, on=\"inspection_id\")\n",
    "data = pd.merge(data, counts, on=\"inspection_id\")"
   ]
  },
  {
   "cell_type": "code",
   "execution_count": 3,
   "metadata": {},
   "outputs": [],
   "source": [
    "# Create pass / fail flags\n",
    "data[\"pass_flag\"] = data.results.map(lambda x: 1 if x == \"Pass\" else 0)\n",
    "data[\"fail_flag\"] = data.results.map(lambda x: 1 if x == \"Fail\" else 0)"
   ]
  },
  {
   "cell_type": "code",
   "execution_count": 4,
   "metadata": {},
   "outputs": [],
   "source": [
    "# Sort inspections by date\n",
    "grouped = data.sort_values(by=\"inspection_date\", inplace=True)\n",
    "\n",
    "# Find previous inspections by shifting each license group\n",
    "past_data = data.groupby(\"license\").shift(1)"
   ]
  },
  {
   "cell_type": "code",
   "execution_count": 5,
   "metadata": {},
   "outputs": [],
   "source": [
    "# Add past fails\n",
    "data[\"past_fail\"] = past_data.fail_flag\n",
    "\n",
    "# Add past violation counts\n",
    "data[\"past_critical\"] = past_data.critical_count\n",
    "data[\"past_serious\"] = past_data.serious_count\n",
    "data[\"past_minor\"] = past_data.minor_count"
   ]
  },
  {
   "cell_type": "code",
   "execution_count": 6,
   "metadata": {},
   "outputs": [],
   "source": [
    "# Select past violation values, remove inspection_id\n",
    "past_values = past_data[values.columns].drop(\"inspection_id\", axis=1).add_prefix(\"p\")\n",
    "\n",
    "# Set violation values to 0 for first inspections\n",
    "past_values.fillna(0, inplace=True)\n",
    "\n",
    "# Add past values to model data\n",
    "data = data.join(past_values)"
   ]
  },
  {
   "cell_type": "code",
   "execution_count": 7,
   "metadata": {},
   "outputs": [],
   "source": [
    "# Calculate time since previous inspection\n",
    "deltas = pd.to_datetime(data.inspection_date) - pd.to_datetime(past_data.inspection_date)\n",
    "\n",
    "# Add years since previous inspection\n",
    "data[\"time_since_last\"] = deltas.apply(lambda x: x.days / 365.25)"
   ]
  },
  {
   "cell_type": "code",
   "execution_count": 8,
   "metadata": {},
   "outputs": [],
   "source": [
    "# Check if first record\n",
    "data[\"first_record\"] = data.time_since_last.map(lambda x: 1 if pd.isnull(x) else 0)\n",
    "\n",
    "# Set time since last for first inspections to 2\n",
    "data.time_since_last.fillna(2, inplace=True)"
   ]
  },
  {
   "cell_type": "code",
   "execution_count": 9,
   "metadata": {},
   "outputs": [],
   "source": [
    "# REMEMBER TO INCLUDE PRIORITY FEATURE"
   ]
  },
  {
   "cell_type": "markdown",
   "metadata": {},
   "source": [
    "### CALCULATE FEATURES BASED ON BUSINESS LICENSE DATA"
   ]
  },
  {
   "cell_type": "code",
   "execution_count": 10,
   "metadata": {},
   "outputs": [
    {
     "name": "stderr",
     "output_type": "stream",
     "text": [
      "/home/russell/anaconda3/lib/python3.6/site-packages/IPython/core/interactiveshell.py:2728: DtypeWarning: Columns (5,6,23,32,33) have mixed types. Specify dtype option on import or set low_memory=False.\n",
      "  interactivity=interactivity, compiler=compiler, result=result)\n"
     ]
    }
   ],
   "source": [
    "# Load business license data\n",
    "licenses = pd.read_csv(os.path.join(root_path, \"DATA/business_licenses.csv\"))"
   ]
  },
  {
   "cell_type": "markdown",
   "metadata": {},
   "source": [
    "### ATTACH KDE DATA"
   ]
  },
  {
   "cell_type": "markdown",
   "metadata": {},
   "source": [
    "### ATTACH WEATHER DATA"
   ]
  },
  {
   "cell_type": "code",
   "execution_count": 11,
   "metadata": {},
   "outputs": [],
   "source": [
    "# Load weather data\n",
    "weather = pd.read_csv(os.path.join(root_path, \"DATA/weather.csv\"))\n",
    "\n",
    "# Merge weather data with model data\n",
    "data = pd.merge(data, weather, on=\"inspection_id\")"
   ]
  }
 ],
 "metadata": {
  "kernelspec": {
   "display_name": "Python 3",
   "language": "python",
   "name": "python3"
  },
  "language_info": {
   "codemirror_mode": {
    "name": "ipython",
    "version": 3
   },
   "file_extension": ".py",
   "mimetype": "text/x-python",
   "name": "python",
   "nbconvert_exporter": "python",
   "pygments_lexer": "ipython3",
   "version": "3.6.4"
  }
 },
 "nbformat": 4,
 "nbformat_minor": 2
}
