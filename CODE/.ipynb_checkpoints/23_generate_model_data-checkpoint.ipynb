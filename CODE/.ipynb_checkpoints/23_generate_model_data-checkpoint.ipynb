{
 "cells": [
  {
   "cell_type": "markdown",
   "metadata": {},
   "source": [
    "### CALCULATE FEATURES BASED ON FOOD INSPECTION DATA"
   ]
  },
  {
   "cell_type": "code",
   "execution_count": 3,
   "metadata": {},
   "outputs": [],
   "source": [
    "import numpy as np\n",
    "import pandas as pd\n",
    "import os.path\n",
    "\n",
    "root_path = os.path.dirname(os.getcwd())\n",
    "\n",
    "# Load food inspection data\n",
    "inspections = pd.read_csv(os.path.join(root_path, \"DATA/food_inspections.csv\"))\n",
    "\n",
    "# Create basis for model_data\n",
    "data = inspections.loc[:, [\"inspection_id\", \"license\", \"inspection_date\", \"facility_type\"]]"
   ]
  },
  {
   "cell_type": "code",
   "execution_count": 4,
   "metadata": {
    "scrolled": true
   },
   "outputs": [],
   "source": [
    "# Create pass / fail flags\n",
    "data[\"pass_flag\"] = inspections.results.apply(lambda x: 1 if x == \"Pass\" else 0)\n",
    "data[\"fail_flag\"] = inspections.results.apply(lambda x: 1 if x == \"Fail\" else 0)\n",
    "\n",
    "# Create risk flags\n",
    "data[\"risk_1\"] = inspections.results.apply(lambda x: 1 if x == \"Risk 1 (High)\" else 0)\n",
    "data[\"risk_2\"] = inspections.results.apply(lambda x: 1 if x == \"Risk 2 (Medium)\" else 0)\n",
    "data[\"risk_3\"] = inspections.results.apply(lambda x: 1 if x == \"Risk 3 (Low)\" else 0)"
   ]
  },
  {
   "cell_type": "code",
   "execution_count": 5,
   "metadata": {},
   "outputs": [],
   "source": [
    "# Load violation data\n",
    "values = pd.read_csv(os.path.join(root_path, \"DATA/violation_values.csv\"))\n",
    "counts = pd.read_csv(os.path.join(root_path, \"DATA/violation_counts.csv\"))\n",
    "\n",
    "# Merge with violation data\n",
    "data = pd.merge(data, values, on=\"inspection_id\", how=\"left\")\n",
    "data = pd.merge(data, counts, on=\"inspection_id\", how=\"left\")\n",
    "\n",
    "# Set default to 0\n",
    "data.fillna(0, inplace=True)"
   ]
  },
  {
   "cell_type": "code",
   "execution_count": 6,
   "metadata": {},
   "outputs": [],
   "source": [
    "# Sort inspections by date\n",
    "grouped = data.sort_values(by=\"inspection_date\", inplace=True)\n",
    "\n",
    "# Find previous inspections by shifting each license group\n",
    "past_data = data.groupby(\"license\").shift(1)"
   ]
  },
  {
   "cell_type": "code",
   "execution_count": 7,
   "metadata": {},
   "outputs": [],
   "source": [
    "# Add past fails\n",
    "data[\"past_fail\"] = past_data.fail_flag\n",
    "\n",
    "# Add past violation counts\n",
    "data[\"past_critical\"] = past_data.critical_count\n",
    "data[\"past_serious\"] = past_data.serious_count\n",
    "data[\"past_minor\"] = past_data.minor_count"
   ]
  },
  {
   "cell_type": "code",
   "execution_count": 8,
   "metadata": {},
   "outputs": [],
   "source": [
    "# Select past violation values, remove past inspection id\n",
    "past_values = past_data[values.columns].drop(\"inspection_id\", axis=1).add_prefix(\"p\")\n",
    "\n",
    "# Set violation values to 0 for first inspections\n",
    "past_values.fillna(0, inplace=True)\n",
    "\n",
    "# Add past values to model data\n",
    "data = data.join(past_values)"
   ]
  },
  {
   "cell_type": "code",
   "execution_count": 9,
   "metadata": {},
   "outputs": [],
   "source": [
    "# Calculate time since previous inspection\n",
    "deltas = pd.to_datetime(data.inspection_date) - pd.to_datetime(past_data.inspection_date)\n",
    "\n",
    "# Add years since previous inspection\n",
    "data[\"time_since_last\"] = deltas.apply(lambda x: x.days / 365.25)"
   ]
  },
  {
   "cell_type": "code",
   "execution_count": 10,
   "metadata": {},
   "outputs": [],
   "source": [
    "# Check if first record\n",
    "data[\"first_record\"] = data.time_since_last.map(lambda x: 1 if pd.isnull(x) else 0)\n",
    "\n",
    "# Set time since last for first inspections to 2\n",
    "data.time_since_last.fillna(2, inplace=True)"
   ]
  },
  {
   "cell_type": "markdown",
   "metadata": {},
   "source": [
    "### CALCULATE FEATURES BASED ON BUSINESS LICENSE DATA"
   ]
  },
  {
   "cell_type": "code",
   "execution_count": 11,
   "metadata": {},
   "outputs": [
    {
     "name": "stderr",
     "output_type": "stream",
     "text": [
      "/home/russell/anaconda3/lib/python3.6/site-packages/IPython/core/interactiveshell.py:2785: DtypeWarning: Columns (5,6,23,32,33) have mixed types. Specify dtype option on import or set low_memory=False.\n",
      "  interactivity=interactivity, compiler=compiler, result=result)\n"
     ]
    }
   ],
   "source": [
    "# Load business license data\n",
    "licenses = pd.read_csv(os.path.join(root_path, \"DATA/business_licenses.csv\"))"
   ]
  },
  {
   "cell_type": "code",
   "execution_count": 15,
   "metadata": {},
   "outputs": [],
   "source": [
    "# Business licenses have numbers on end preventing simple match\n",
    "# so using street number instead\n",
    "def get_street_number(address):\n",
    "    return address.split()[0]\n",
    "\n",
    "licenses[\"street_number\"] = licenses.address.apply(get_street_number)\n",
    "inspections[\"street_number\"] = inspections.address.apply(get_street_number)"
   ]
  },
  {
   "cell_type": "code",
   "execution_count": 16,
   "metadata": {},
   "outputs": [],
   "source": [
    "# Match based on DBA name and street number\n",
    "venue_matches = pd.merge(inspections, licenses, left_on=[\"dba_name\", \"street_number\"], right_on=[\"doing_business_as_name\", \"street_number\"])\n",
    "\n",
    "# Match based on license numbers\n",
    "license_matches = pd.merge(inspections, licenses, left_on=\"license\", right_on=\"license_number\")\n",
    "\n",
    "# Join matches and reset index\n",
    "matches = venue_matches.append(license_matches, sort=False)\n",
    "matches.reset_index(drop=True, inplace=True)\n",
    "\n",
    "# Drop duplicates and reindex\n",
    "matches.drop_duplicates([\"inspection_id\", \"id\"], inplace=True)\n",
    "\n",
    "# Restrict to matches where inspection falls within license period\n",
    "matches = matches.loc[matches.inspection_date.between(matches.license_start_date, matches.expiration_date)]"
   ]
  },
  {
   "cell_type": "code",
   "execution_count": 17,
   "metadata": {},
   "outputs": [],
   "source": [
    "# Convert dates to datetime format\n",
    "matches.inspection_date = pd.to_datetime(matches.inspection_date)\n",
    "matches.license_start_date = pd.to_datetime(matches.license_start_date)\n",
    "\n",
    "def get_age_data(group):\n",
    "    min_date = group.license_start_date.min()\n",
    "    deltas = group.inspection_date - min_date\n",
    "    group[\"age_at_inspection\"] = deltas.apply(lambda x: x.days / 365.25)\n",
    "    return group[[\"inspection_id\", \"age_at_inspection\"]]\n",
    "\n",
    "# Calculate (3 mins), drop duplicates\n",
    "age_data = matches.groupby(\"license\").apply(get_age_data).drop_duplicates()"
   ]
  },
  {
   "cell_type": "code",
   "execution_count": 19,
   "metadata": {},
   "outputs": [],
   "source": [
    "# Merge in age_at_inspection &\n",
    "# FILTER OUT ROWS WITHOUT LICENSE INFO\n",
    "data = pd.merge(data, age_data, on=\"inspection_id\")"
   ]
  },
  {
   "cell_type": "code",
   "execution_count": 69,
   "metadata": {},
   "outputs": [],
   "source": [
    "backup = matches.copy()"
   ]
  },
  {
   "cell_type": "code",
   "execution_count": null,
   "metadata": {},
   "outputs": [],
   "source": [
    "# Make a key\n",
    "# check if its in key, if so add the value of key\n",
    "# that'll also help with already having the columns to make the matrix"
   ]
  },
  {
   "cell_type": "code",
   "execution_count": 29,
   "metadata": {},
   "outputs": [],
   "source": [
    "categories = {\n",
    "    \"Consumption on Premises - Incidental Activity\": \"consumption_on_premises_incidental_activity\",\n",
    "    \"Tobacco\": \"tobacco\",\n",
    "    \"Package Goods\": \"package_goods\",\n",
    "    \"Limited Business License\": \"limited_business_license\",\n",
    "    \"Outdoor Patio\": \"outdoor_patio\",\n",
    "    \"Public Place of Amusement\": \"public_place_of_amusement\",\n",
    "    \"Children's Services Facility License\": \"childrens_services_facility_license\",\n",
    "    \"Tavern\": \"tavern\",\n",
    "    \"Regulated Business License\": \"regulated_business_license\",\n",
    "    \"Filling Station\": \"filling_station\",\n",
    "    \"Caterer's Liquor License\": \"caterers_liquor_license\",\n",
    "    \"Mobile Food License\": \"mobile_food_license\"\n",
    "}"
   ]
  },
  {
   "cell_type": "raw",
   "metadata": {},
   "source": [
    "# Convert license_descriptions to snake-case\n",
    "matches.license_description = matches.license_description.str.lower()\n",
    "matches.license_description = matches.license_description.apply(lambda x: x.replace(\" - \", \"_\")\n",
    "                                            .replace(\" \", \"_\")\n",
    "                                            .replace(\"'\", \"\"))\n",
    "def get_category_data(group):\n",
    "    category_row = pd.Series([])\n",
    "    for category in group.license_description:\n",
    "        category_row[category] = 1\n",
    "    print(category_row)\n",
    "    return category_row\n",
    "    \n",
    "    \n",
    "category_data = matches.groupby(\"inspection_id\").apply(get_category_data, axis=1)"
   ]
  },
  {
   "cell_type": "code",
   "execution_count": 63,
   "metadata": {},
   "outputs": [
    {
     "data": {
      "text/plain": [
       "5                              retail food establishment\n",
       "8                              retail food establishment\n",
       "11                             retail food establishment\n",
       "13                             retail food establishment\n",
       "16                             retail food establishment\n",
       "18                             retail food establishment\n",
       "21                             retail food establishment\n",
       "44                             retail food establishment\n",
       "55                             retail food establishment\n",
       "71                             retail food establishment\n",
       "79                              limited business license\n",
       "88                              limited business license\n",
       "95                             retail food establishment\n",
       "109        consumption on premises - incidental activity\n",
       "110                                        outdoor patio\n",
       "111                            retail food establishment\n",
       "112                            retail food establishment\n",
       "113        consumption on premises - incidental activity\n",
       "114                                        outdoor patio\n",
       "116                            retail food establishment\n",
       "120                            retail food establishment\n",
       "177                                              tobacco\n",
       "178        consumption on premises - incidental activity\n",
       "179                            retail food establishment\n",
       "180                            public place of amusement\n",
       "194                            public place of amusement\n",
       "204                            retail food establishment\n",
       "206        consumption on premises - incidental activity\n",
       "223                                              tobacco\n",
       "249                            public place of amusement\n",
       "                               ...                      \n",
       "1084342    consumption on premises - incidental activity\n",
       "1084361                        retail food establishment\n",
       "1084370                        retail food establishment\n",
       "1084429                        retail food establishment\n",
       "1084440                        retail food establishment\n",
       "1084465                        retail food establishment\n",
       "1084470                        retail food establishment\n",
       "1084493                        retail food establishment\n",
       "1084494                                    package goods\n",
       "1084498                        retail food establishment\n",
       "1084530                        retail food establishment\n",
       "1084550                        retail food establishment\n",
       "1084556                        retail food establishment\n",
       "1084607                        retail food establishment\n",
       "1084625                        retail food establishment\n",
       "1084759                        retail food establishment\n",
       "1084760                        retail food establishment\n",
       "1084761                        retail food establishment\n",
       "1084820                        retail food establishment\n",
       "1085047                        retail food establishment\n",
       "1085075                        retail food establishment\n",
       "1085087                        retail food establishment\n",
       "1085137                        retail food establishment\n",
       "1085158                        retail food establishment\n",
       "1085180                        retail food establishment\n",
       "1085228                        retail food establishment\n",
       "1085242                        retail food establishment\n",
       "1085247                        retail food establishment\n",
       "1085260                        retail food establishment\n",
       "1085268                        retail food establishment\n",
       "Name: license_description, Length: 93504, dtype: object"
      ]
     },
     "execution_count": 63,
     "metadata": {},
     "output_type": "execute_result"
    }
   ],
   "source": [
    "matches.license_description"
   ]
  },
  {
   "cell_type": "code",
   "execution_count": null,
   "metadata": {},
   "outputs": [],
   "source": [
    "# remove nas, set max value to 1"
   ]
  },
  {
   "cell_type": "markdown",
   "metadata": {},
   "source": [
    "### ATTACH KDE DATA"
   ]
  },
  {
   "cell_type": "markdown",
   "metadata": {},
   "source": [
    "### ATTACH WEATHER DATA"
   ]
  },
  {
   "cell_type": "code",
   "execution_count": null,
   "metadata": {},
   "outputs": [],
   "source": [
    "# Load weather data\n",
    "weather = pd.read_csv(os.path.join(root_path, \"DATA/weather.csv\"))\n",
    "\n",
    "# Merge weather data with model data\n",
    "data = pd.merge(data, weather, on=\"inspection_id\")"
   ]
  }
 ],
 "metadata": {
  "kernelspec": {
   "display_name": "Python 3",
   "language": "python",
   "name": "python3"
  },
  "language_info": {
   "codemirror_mode": {
    "name": "ipython",
    "version": 3
   },
   "file_extension": ".py",
   "mimetype": "text/x-python",
   "name": "python",
   "nbconvert_exporter": "python",
   "pygments_lexer": "ipython3",
   "version": "3.6.5"
  }
 },
 "nbformat": 4,
 "nbformat_minor": 2
}
