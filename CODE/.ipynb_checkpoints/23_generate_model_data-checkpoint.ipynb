{
 "cells": [
  {
   "cell_type": "code",
   "execution_count": 71,
   "metadata": {},
   "outputs": [
    {
     "name": "stderr",
     "output_type": "stream",
     "text": [
      "/home/russell/anaconda3/lib/python3.6/site-packages/IPython/core/interactiveshell.py:2728: DtypeWarning: Columns (5,6,23,32,33) have mixed types. Specify dtype option on import or set low_memory=False.\n",
      "  interactivity=interactivity, compiler=compiler, result=result)\n"
     ]
    }
   ],
   "source": [
    "import numpy as np\n",
    "import pandas as pd\n",
    "import os.path\n",
    "\n",
    "root_path = os.path.dirname(os.getcwd())\n",
    "\n",
    "# Load business license data\n",
    "licenses = pd.read_csv(os.path.join(root_path, \"DATA/business_licenses.csv\"))\n",
    "\n",
    "# Load food inspection data\n",
    "inspections = pd.read_csv(os.path.join(root_path, \"DATA/food_inspections.csv\"))\n",
    "\n",
    "# Load violation data\n",
    "values = pd.read_csv(os.path.join(root_path, \"DATA/violation_values.csv\"))\n",
    "counts = pd.read_csv(os.path.join(root_path, \"DATA/violation_counts.csv\"))"
   ]
  },
  {
   "cell_type": "markdown",
   "metadata": {},
   "source": [
    "### CALCULATE FEATURES BASED ON FOOD INSPECTION DATA"
   ]
  },
  {
   "cell_type": "code",
   "execution_count": 72,
   "metadata": {},
   "outputs": [],
   "source": [
    "# Create basis for model_data (risk not included in Chicago repository)\n",
    "data = inspections[[\"inspection_date\", \"license\", \"inspection_id\", \"facility_type\", \"results\", \"risk\"]]"
   ]
  },
  {
   "cell_type": "code",
   "execution_count": 73,
   "metadata": {},
   "outputs": [],
   "source": [
    "# Merge with violation data\n",
    "data = pd.merge(data, values, on=\"inspection_id\")\n",
    "data = pd.merge(data, counts, on=\"inspection_id\")"
   ]
  },
  {
   "cell_type": "code",
   "execution_count": 74,
   "metadata": {},
   "outputs": [],
   "source": [
    "# Create pass / fail flags\n",
    "pass_flags = data.results.map(lambda x: 1 if x == \"Pass\" else 0)\n",
    "fail_flags = data.results.map(lambda x: 1 if x == \"Fail\" else 0)\n",
    "data[\"pass_flags\"], data[\"fail_flags\"] = pass_flags, fail_flags"
   ]
  },
  {
   "cell_type": "code",
   "execution_count": 75,
   "metadata": {},
   "outputs": [],
   "source": [
    "# Sort inspections by date\n",
    "data.sort_values(by=\"inspection_date\", inplace=True)\n",
    "\n",
    "# Find previous inspection by shifting columns (grouped by license)\n",
    "data[\"past_inspection_id\"] = data.groupby(\"license\").inspection_id.shift(1)"
   ]
  },
  {
   "cell_type": "code",
   "execution_count": 78,
   "metadata": {},
   "outputs": [],
   "source": [
    "# Add previous violation values\n",
    "data = pd.merge(data, values.add_prefix(\"past_\"), on=\"past_inspection_id\")"
   ]
  },
  {
   "cell_type": "code",
   "execution_count": 79,
   "metadata": {},
   "outputs": [],
   "source": [
    "# Add previous violation counts\n",
    "data = pd.merge(data, counts.add_prefix(\"past_\"), on=\"past_inspection_id\")"
   ]
  },
  {
   "cell_type": "code",
   "execution_count": 108,
   "metadata": {},
   "outputs": [],
   "source": [
    "# Join data with self to find past inspection dates\n",
    "past_dates = data[[\"inspection_id\", \"inspection_date\"]].add_prefix(\"past_\")\n",
    "data = pd.merge(data, past_dates, on=\"past_inspection_id\")\n",
    "\n",
    "# Calculate time since previous inspection\n",
    "deltas = pd.to_datetime(temp_data.inspection_date) - pd.to_datetime(temp_data.past_inspection_date)\n",
    "data[\"time_since_last\"] = deltas.apply(lambda x: x.days / 365.25)\n",
    "\n",
    "# Drop past inspection date\n",
    "data.drop(\"past_inspection_date\", inplace=True)"
   ]
  },
  {
   "cell_type": "code",
   "execution_count": 109,
   "metadata": {},
   "outputs": [
    {
     "data": {
      "text/plain": [
       "0       0.000000\n",
       "1       0.000000\n",
       "2       0.000000\n",
       "3       0.000000\n",
       "4       0.000000\n",
       "5       0.000000\n",
       "6       0.000000\n",
       "7       0.000000\n",
       "8       0.000000\n",
       "9       0.000000\n",
       "10      0.000000\n",
       "11      0.000000\n",
       "12      0.000000\n",
       "13      0.000000\n",
       "14      0.002738\n",
       "15      0.000000\n",
       "16      0.000000\n",
       "17      0.000000\n",
       "18      0.000000\n",
       "19      0.008214\n",
       "20      0.000000\n",
       "21      0.010951\n",
       "22      0.000000\n",
       "23      0.000000\n",
       "24      0.000000\n",
       "25      0.000000\n",
       "26      0.000000\n",
       "27      0.000000\n",
       "28      0.000000\n",
       "29      0.000000\n",
       "          ...   \n",
       "3893    1.065024\n",
       "3894    0.977413\n",
       "3895    1.867214\n",
       "3896    0.605065\n",
       "3897    0.509240\n",
       "3898    1.037645\n",
       "3899    0.892539\n",
       "3900    0.692676\n",
       "3901    0.624230\n",
       "3902    1.275838\n",
       "3903    0.509240\n",
       "3904    0.509240\n",
       "3905    0.878850\n",
       "3906    1.226557\n",
       "3907    1.264887\n",
       "3908    0.555784\n",
       "3909    0.509240\n",
       "3910    0.958248\n",
       "3911    1.133470\n",
       "3912    1.727584\n",
       "3913    0.859685\n",
       "3914    2.168378\n",
       "3915    0.501027\n",
       "3916    1.262149\n",
       "3917    0.550308\n",
       "3918    1.133470\n",
       "3919    1.149897\n",
       "3920    0.941821\n",
       "3921    1.316906\n",
       "3922    2.316222\n",
       "Name: time_since_last, Length: 3923, dtype: float64"
      ]
     },
     "execution_count": 109,
     "metadata": {},
     "output_type": "execute_result"
    }
   ],
   "source": [
    "data.time_since_last"
   ]
  },
  {
   "cell_type": "code",
   "execution_count": null,
   "metadata": {},
   "outputs": [],
   "source": []
  }
 ],
 "metadata": {
  "kernelspec": {
   "display_name": "Python 3",
   "language": "python",
   "name": "python3"
  },
  "language_info": {
   "codemirror_mode": {
    "name": "ipython",
    "version": 3
   },
   "file_extension": ".py",
   "mimetype": "text/x-python",
   "name": "python",
   "nbconvert_exporter": "python",
   "pygments_lexer": "ipython3",
   "version": "3.6.4"
  }
 },
 "nbformat": 4,
 "nbformat_minor": 2
}
