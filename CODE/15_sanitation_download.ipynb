{
 "cells": [
  {
   "cell_type": "code",
   "execution_count": 1,
   "metadata": {},
   "outputs": [
    {
     "name": "stdout",
     "output_type": "stream",
     "text": [
      "Requirement already satisfied: sodapy in /Users/davidplewis/anaconda3/lib/python3.6/site-packages (1.4.6)\n",
      "Requirement already satisfied: future==0.16.0 in /Users/davidplewis/anaconda3/lib/python3.6/site-packages (from sodapy) (0.16.0)\n",
      "Requirement already satisfied: requests==2.18.4 in /Users/davidplewis/anaconda3/lib/python3.6/site-packages (from sodapy) (2.18.4)\n",
      "Requirement already satisfied: chardet<3.1.0,>=3.0.2 in /Users/davidplewis/anaconda3/lib/python3.6/site-packages (from requests==2.18.4->sodapy) (3.0.4)\n",
      "Requirement already satisfied: idna<2.7,>=2.5 in /Users/davidplewis/anaconda3/lib/python3.6/site-packages (from requests==2.18.4->sodapy) (2.6)\n",
      "Requirement already satisfied: urllib3<1.23,>=1.21.1 in /Users/davidplewis/anaconda3/lib/python3.6/site-packages (from requests==2.18.4->sodapy) (1.22)\n",
      "Requirement already satisfied: certifi>=2017.4.17 in /Users/davidplewis/anaconda3/lib/python3.6/site-packages (from requests==2.18.4->sodapy) (2018.4.16)\n",
      "\u001b[31mdistributed 1.21.8 requires msgpack, which is not installed.\u001b[0m\n"
     ]
    }
   ],
   "source": [
    "!pip install sodapy"
   ]
  },
  {
   "cell_type": "code",
   "execution_count": 2,
   "metadata": {},
   "outputs": [
    {
     "name": "stderr",
     "output_type": "stream",
     "text": [
      "WARNING:root:Requests made without an app_token will be subject to strict throttling limits.\n"
     ]
    }
   ],
   "source": [
    "# from https://github.com/socrata/dev.socrata.com/blob/39c6581986466edb5e7f72f5beea5ce69238f8de/snippets/pandas.py\n",
    "\n",
    "import pandas as pd\n",
    "from sodapy import Socrata\n",
    "\n",
    "# Unauthenticated client only works with public data sets. Note 'None'\n",
    "# in place of application token, and no username or password:\n",
    "client = Socrata(\"data.cityofchicago.org\", None)\n",
    "\n",
    "# First 50000 results, returned as JSON from API \n",
    "# Connverted to Python list of dictionaries by sodapy.\n",
    "# Column names converted to snake case, special chars removed\n",
    "# Dates and location formatted\n",
    "results = client.get(\"me59-5fac\", limit=50000)\n",
    "\n",
    "# Convert to pandas DataFrame\n",
    "complaints = pd.DataFrame.from_records(results)"
   ]
  },
  {
   "cell_type": "code",
   "execution_count": 3,
   "metadata": {},
   "outputs": [
    {
     "name": "stdout",
     "output_type": "stream",
     "text": [
      "50000\n",
      "100000\n",
      "150000\n"
     ]
    }
   ],
   "source": [
    "# download remaining (limit 50000 / call)\n",
    "start = 50000\n",
    "while results:\n",
    "    print(start)\n",
    "    results = client.get(\"me59-5fac\", limit=50000, offset=start)\n",
    "    complaints = complaints.append(pd.DataFrame.from_records(results))\n",
    "    start += 50000\n"
   ]
  },
  {
   "cell_type": "code",
   "execution_count": 4,
   "metadata": {},
   "outputs": [],
   "source": [
    "# Drop rows with missing data\n",
    "complaints.dropna(subset=[\"latitude\", \"longitude\", \"creation_date\"], inplace=True)"
   ]
  },
  {
   "cell_type": "code",
   "execution_count": 5,
   "metadata": {},
   "outputs": [],
   "source": [
    "# Filter by status\n",
    "complaints = complaints[complaints.status.isin([\"Completed\", \"Open\"])]"
   ]
  },
  {
   "cell_type": "code",
   "execution_count": 7,
   "metadata": {},
   "outputs": [],
   "source": [
    "import os.path\n",
    "root_path = os.path.dirname(os.getcwd())\n",
    "\n",
    "# Save result\n",
    "complaints.to_csv(os.path.join(root_path, \"DATA/sanitation_complaints.csv\"), index=False)"
   ]
  },
  {
   "cell_type": "code",
   "execution_count": null,
   "metadata": {},
   "outputs": [],
   "source": []
  }
 ],
 "metadata": {
  "kernelspec": {
   "display_name": "Python 3",
   "language": "python",
   "name": "python3"
  },
  "language_info": {
   "codemirror_mode": {
    "name": "ipython",
    "version": 3
   },
   "file_extension": ".py",
   "mimetype": "text/x-python",
   "name": "python",
   "nbconvert_exporter": "python",
   "pygments_lexer": "ipython3",
   "version": "3.6.5"
  }
 },
 "nbformat": 4,
 "nbformat_minor": 2
}
