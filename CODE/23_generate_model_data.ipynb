{
 "cells": [
  {
   "cell_type": "markdown",
   "metadata": {},
   "source": [
    "### CALCULATE FEATURES BASED ON FOOD INSPECTION DATA"
   ]
  },
  {
   "cell_type": "code",
   "execution_count": 1,
   "metadata": {},
   "outputs": [],
   "source": [
    "import numpy as np\n",
    "import pandas as pd\n",
    "import os.path\n",
    "\n",
    "root_path = os.path.dirname(os.getcwd())\n",
    "\n",
    "# Load food inspection data\n",
    "inspections = pd.read_csv(os.path.join(root_path, \"DATA/food_inspections.csv\"))\n",
    "\n",
    "# Create basis for model_data\n",
    "data = inspections.loc[:, [\"inspection_id\", \"license\", \"inspection_date\", \"facility_type\"]]"
   ]
  },
  {
   "cell_type": "code",
   "execution_count": 2,
   "metadata": {
    "scrolled": true
   },
   "outputs": [],
   "source": [
    "# Create pass / fail flags\n",
    "data[\"pass_flag\"] = inspections.results.apply(lambda x: 1 if x == \"Pass\" else 0)\n",
    "data[\"fail_flag\"] = inspections.results.apply(lambda x: 1 if x == \"Fail\" else 0)"
   ]
  },
  {
   "cell_type": "code",
   "execution_count": 3,
   "metadata": {},
   "outputs": [],
   "source": [
    "# Create risk flags\n",
    "data[\"risk_1\"] = inspections.results.apply(lambda x: 1 if x == \"Risk 1 (High)\" else 0)\n",
    "data[\"risk_2\"] = inspections.results.apply(lambda x: 1 if x == \"Risk 2 (Medium)\" else 0)\n",
    "data[\"risk_3\"] = inspections.results.apply(lambda x: 1 if x == \"Risk 3 (Low)\" else 0)"
   ]
  },
  {
   "cell_type": "code",
   "execution_count": 4,
   "metadata": {},
   "outputs": [],
   "source": [
    "# Load violation data\n",
    "values = pd.read_csv(os.path.join(root_path, \"DATA/violation_values.csv\"))\n",
    "counts = pd.read_csv(os.path.join(root_path, \"DATA/violation_counts.csv\"))\n",
    "\n",
    "# Merge with violation data, filtering missing data\n",
    "data = pd.merge(data, values, on=\"inspection_id\")\n",
    "data = pd.merge(data, counts, on=\"inspection_id\")"
   ]
  },
  {
   "cell_type": "code",
   "execution_count": 5,
   "metadata": {},
   "outputs": [],
   "source": [
    "# Sort inspections by date\n",
    "license_groups = data.sort_values(\"inspection_date\").groupby(\"license\")\n",
    "\n",
    "# Find previous inspections by shifting each sorted group\n",
    "past_data = license_groups.shift(1)"
   ]
  },
  {
   "cell_type": "code",
   "execution_count": 6,
   "metadata": {},
   "outputs": [],
   "source": [
    "# Add past fails, with 0 for first inspections\n",
    "data[\"past_fail\"] = past_data.fail_flag.fillna(0)\n",
    "\n",
    "# Add past violation counts, with 0 for first records\n",
    "data[\"past_critical\"] = past_data.critical_count.fillna(0)\n",
    "data[\"past_serious\"] = past_data.serious_count.fillna(0)\n",
    "data[\"past_minor\"] = past_data.minor_count.fillna(0)"
   ]
  },
  {
   "cell_type": "code",
   "execution_count": 7,
   "metadata": {},
   "outputs": [],
   "source": [
    "# Select past violation values, remove past inspection id\n",
    "past_values = past_data[values.columns].drop(\"inspection_id\", axis=1).add_prefix(\"p\")\n",
    "\n",
    "# Add past values to model data, with 0 for first records\n",
    "data = data.join(past_values.fillna(0))"
   ]
  },
  {
   "cell_type": "code",
   "execution_count": 8,
   "metadata": {},
   "outputs": [],
   "source": [
    "# Calculate time since previous inspection\n",
    "deltas = pd.to_datetime(data.inspection_date) - pd.to_datetime(past_data.inspection_date)\n",
    "\n",
    "# Add years since previous inspection, with 2 for first records\n",
    "data[\"time_since_last\"] = deltas.apply(lambda x: x.days / 365.25).fillna(2)"
   ]
  },
  {
   "cell_type": "code",
   "execution_count": 9,
   "metadata": {},
   "outputs": [],
   "source": [
    "# Check if first record\n",
    "data[\"first_record\"] = past_data.inspection_id.map(lambda x: 1 if pd.isnull(x) else 0)"
   ]
  },
  {
   "cell_type": "markdown",
   "metadata": {},
   "source": [
    "### CALCULATE FEATURES BASED ON BUSINESS LICENSE DATA"
   ]
  },
  {
   "cell_type": "code",
   "execution_count": 10,
   "metadata": {},
   "outputs": [
    {
     "name": "stderr",
     "output_type": "stream",
     "text": [
      "/home/russell/anaconda3/lib/python3.6/site-packages/IPython/core/interactiveshell.py:2785: DtypeWarning: Columns (5,6,23,32,33) have mixed types. Specify dtype option on import or set low_memory=False.\n",
      "  interactivity=interactivity, compiler=compiler, result=result)\n"
     ]
    }
   ],
   "source": [
    "# Load business license data\n",
    "licenses = pd.read_csv(os.path.join(root_path, \"DATA/business_licenses.csv\"))"
   ]
  },
  {
   "cell_type": "code",
   "execution_count": 11,
   "metadata": {},
   "outputs": [],
   "source": [
    "# Business licenses have numbers on end preventing simple match\n",
    "# so using street number instead\n",
    "def get_street_number(address):\n",
    "    return address.split()[0]\n",
    "\n",
    "licenses[\"street_number\"] = licenses.address.apply(get_street_number)\n",
    "inspections[\"street_number\"] = inspections.address.apply(get_street_number)"
   ]
  },
  {
   "cell_type": "code",
   "execution_count": 12,
   "metadata": {},
   "outputs": [],
   "source": [
    "# Match based on DBA name and street number\n",
    "venue_matches = pd.merge(inspections, licenses, left_on=[\"dba_name\", \"street_number\"], right_on=[\"doing_business_as_name\", \"street_number\"])\n",
    "\n",
    "# Match based on license numbers\n",
    "license_matches = pd.merge(inspections, licenses, left_on=\"license\", right_on=\"license_number\")\n",
    "\n",
    "# Join matches, reset index, drop duplicates\n",
    "matches = venue_matches.append(license_matches, sort=False)\n",
    "matches.reset_index(drop=True, inplace=True)\n",
    "matches.drop_duplicates([\"inspection_id\", \"id\"], inplace=True)\n",
    "\n",
    "# Restrict to matches where inspection falls within license period\n",
    "matches = matches.loc[matches.inspection_date.between(matches.license_start_date, matches.expiration_date)]"
   ]
  },
  {
   "cell_type": "code",
   "execution_count": 13,
   "metadata": {},
   "outputs": [],
   "source": [
    "# Select retail food establishment inspection IDs\n",
    "retail = matches.loc[matches.license_description == \"Retail Food Establishment\", [\"inspection_id\"]]\n",
    "retail.drop_duplicates(inplace=True)\n",
    "\n",
    "# FILTER: ONLY CONSIDER INSPECTIONS MATCHED WITH RETAIL LICENSES\n",
    "data = pd.merge(data, retail, on=\"inspection_id\")"
   ]
  },
  {
   "cell_type": "code",
   "execution_count": 14,
   "metadata": {},
   "outputs": [],
   "source": [
    "# Convert dates to datetime format\n",
    "matches.inspection_date = pd.to_datetime(matches.inspection_date)\n",
    "matches.license_start_date = pd.to_datetime(matches.license_start_date)\n",
    "\n",
    "def get_age_data(group):\n",
    "    min_date = group.license_start_date.min()\n",
    "    deltas = group.inspection_date - min_date\n",
    "    group[\"age_at_inspection\"] = deltas.apply(lambda x: x.days / 365.25)\n",
    "    return group[[\"inspection_id\", \"age_at_inspection\"]]\n",
    "\n",
    "# Calculate (3 mins), drop duplicates\n",
    "age_data = matches.groupby(\"license\").apply(get_age_data).drop_duplicates()"
   ]
  },
  {
   "cell_type": "code",
   "execution_count": 15,
   "metadata": {},
   "outputs": [],
   "source": [
    "# Merge in age_at_inspection\n",
    "data = pd.merge(data, age_data, on=\"inspection_id\", how=\"left\")"
   ]
  },
  {
   "cell_type": "code",
   "execution_count": 16,
   "metadata": {},
   "outputs": [],
   "source": [
    "# Translate categories to snake-case titles\n",
    "categories = {\n",
    "    \"Consumption on Premises - Incidental Activity\": \"consumption_on_premises_incidental_activity\",\n",
    "    \"Tobacco\": \"tobacco\",\n",
    "    \"Package Goods\": \"package_goods\",\n",
    "    \"Limited Business License\": \"limited_business_license\",\n",
    "    \"Outdoor Patio\": \"outdoor_patio\",\n",
    "    \"Public Place of Amusement\": \"public_place_of_amusement\",\n",
    "    \"Children's Services Facility License\": \"childrens_services_facility_license\",\n",
    "    \"Tavern\": \"tavern\",\n",
    "    \"Regulated Business License\": \"regulated_business_license\",\n",
    "    \"Filling Station\": \"filling_station\",\n",
    "    \"Caterer's Liquor License\": \"caterers_liquor_license\",\n",
    "    \"Mobile Food License\": \"mobile_food_license\"\n",
    "}\n",
    "\n",
    "# Create binary markers for license categories\n",
    "def get_category_data(group):\n",
    "    df = group[[\"inspection_id\"]].iloc[[0]]\n",
    "    for category in group.license_description:\n",
    "        if category in categories:\n",
    "            df[categories[category]] = 1\n",
    "    return df\n",
    "    \n",
    "# group by inspection, get categories (2 mins)\n",
    "category_data = matches.groupby(\"inspection_id\").apply(get_category_data)\n",
    "\n",
    "# Reset index, set absent categories to 0\n",
    "category_data.reset_index(drop=True, inplace=True)\n",
    "category_data.fillna(0, inplace=True)"
   ]
  },
  {
   "cell_type": "code",
   "execution_count": 17,
   "metadata": {},
   "outputs": [],
   "source": [
    "# Merge in category data, fill nan with 0\n",
    "data = pd.merge(data, category_data, on=\"inspection_id\", how=\"left\").fillna(0)"
   ]
  },
  {
   "cell_type": "markdown",
   "metadata": {},
   "source": [
    "### ATTACH KDE DATA"
   ]
  },
  {
   "cell_type": "code",
   "execution_count": 18,
   "metadata": {},
   "outputs": [],
   "source": [
    "# Load violation data\n",
    "burglary_kde = pd.read_csv(os.path.join(root_path, \"DATA/burglary_kde.csv\"))\n",
    "cart_kde = pd.read_csv(os.path.join(root_path, \"DATA/cart_kde.csv\"))\n",
    "complaint_kde = pd.read_csv(os.path.join(root_path, \"DATA/complaint_kde.csv\"))\n",
    "\n",
    "# FILTER: only consider data since 2012 (with good kde data)\n",
    "data = pd.merge(data, burglary_kde, on=\"inspection_id\")\n",
    "data = pd.merge(data, cart_kde, on=\"inspection_id\")\n",
    "data = pd.merge(data, complaint_kde, on=\"inspection_id\")"
   ]
  },
  {
   "cell_type": "markdown",
   "metadata": {},
   "source": [
    "### ATTACH WEATHER DATA, SAVE RESULT"
   ]
  },
  {
   "cell_type": "code",
   "execution_count": 19,
   "metadata": {},
   "outputs": [],
   "source": [
    "# Load weather data\n",
    "weather = pd.read_csv(os.path.join(root_path, \"DATA/weather.csv\"))\n",
    "\n",
    "# Merge weather data with model data\n",
    "data = pd.merge(data, weather, on=\"inspection_id\")"
   ]
  },
  {
   "cell_type": "code",
   "execution_count": 20,
   "metadata": {},
   "outputs": [],
   "source": [
    "# Save Result\n",
    "data.to_csv(os.path.join(root_path, \"DATA/model_data.csv\"), index=False)"
   ]
  },
  {
   "cell_type": "code",
   "execution_count": 24,
   "metadata": {},
   "outputs": [
    {
     "name": "stdout",
     "output_type": "stream",
     "text": [
      "inspection_id\n",
      "license\n",
      "inspection_date\n",
      "facility_type\n",
      "pass_flag\n",
      "fail_flag\n",
      "risk_1\n",
      "risk_2\n",
      "risk_3\n",
      "v_1\n",
      "v_2\n",
      "v_3\n",
      "v_4\n",
      "v_5\n",
      "v_6\n",
      "v_7\n",
      "v_8\n",
      "v_9\n",
      "v_10\n",
      "v_11\n",
      "v_12\n",
      "v_13\n",
      "v_14\n",
      "v_15\n",
      "v_16\n",
      "v_17\n",
      "v_18\n",
      "v_19\n",
      "v_20\n",
      "v_21\n",
      "v_22\n",
      "v_23\n",
      "v_24\n",
      "v_25\n",
      "v_26\n",
      "v_27\n",
      "v_28\n",
      "v_29\n",
      "v_30\n",
      "v_31\n",
      "v_32\n",
      "v_33\n",
      "v_34\n",
      "v_35\n",
      "v_36\n",
      "v_37\n",
      "v_38\n",
      "v_39\n",
      "v_40\n",
      "v_41\n",
      "v_42\n",
      "v_43\n",
      "v_44\n",
      "v_70\n",
      "critical_count\n",
      "serious_count\n",
      "minor_count\n",
      "past_fail\n",
      "past_critical\n",
      "past_serious\n",
      "past_minor\n",
      "pv_1\n",
      "pv_2\n",
      "pv_3\n",
      "pv_4\n",
      "pv_5\n",
      "pv_6\n",
      "pv_7\n",
      "pv_8\n",
      "pv_9\n",
      "pv_10\n",
      "pv_11\n",
      "pv_12\n",
      "pv_13\n",
      "pv_14\n",
      "pv_15\n",
      "pv_16\n",
      "pv_17\n",
      "pv_18\n",
      "pv_19\n",
      "pv_20\n",
      "pv_21\n",
      "pv_22\n",
      "pv_23\n",
      "pv_24\n",
      "pv_25\n",
      "pv_26\n",
      "pv_27\n",
      "pv_28\n",
      "pv_29\n",
      "pv_30\n",
      "pv_31\n",
      "pv_32\n",
      "pv_33\n",
      "pv_34\n",
      "pv_35\n",
      "pv_36\n",
      "pv_37\n",
      "pv_38\n",
      "pv_39\n",
      "pv_40\n",
      "pv_41\n",
      "pv_42\n",
      "pv_43\n",
      "pv_44\n",
      "pv_70\n",
      "time_since_last\n",
      "first_record\n",
      "age_at_inspection\n",
      "consumption_on_premises_incidental_activity\n",
      "tobacco\n",
      "limited_business_license\n",
      "caterers_liquor_license\n",
      "outdoor_patio\n",
      "tavern\n",
      "public_place_of_amusement\n",
      "package_goods\n",
      "filling_station\n",
      "regulated_business_license\n",
      "childrens_services_facility_license\n",
      "mobile_food_license\n",
      "burglary_kde\n",
      "cart_kde\n",
      "complaint_kde\n",
      "date\n",
      "humidity\n",
      "precip_intensity\n",
      "temperature_max\n",
      "wind_speed\n"
     ]
    }
   ],
   "source": [
    "for thing in data.columns:\n",
    "    print(thing)"
   ]
  },
  {
   "cell_type": "code",
   "execution_count": 27,
   "metadata": {},
   "outputs": [
    {
     "data": {
      "text/plain": [
       "260.0"
      ]
     },
     "execution_count": 27,
     "metadata": {},
     "output_type": "execute_result"
    }
   ],
   "source": [
    "data.v_1.sum()"
   ]
  },
  {
   "cell_type": "code",
   "execution_count": null,
   "metadata": {},
   "outputs": [],
   "source": []
  }
 ],
 "metadata": {
  "kernelspec": {
   "display_name": "Python 3",
   "language": "python",
   "name": "python3"
  },
  "language_info": {
   "codemirror_mode": {
    "name": "ipython",
    "version": 3
   },
   "file_extension": ".py",
   "mimetype": "text/x-python",
   "name": "python",
   "nbconvert_exporter": "python",
   "pygments_lexer": "ipython3",
   "version": "3.6.5"
  }
 },
 "nbformat": 4,
 "nbformat_minor": 2
}
