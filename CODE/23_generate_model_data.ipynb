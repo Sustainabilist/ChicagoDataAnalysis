{
 "cells": [
  {
   "cell_type": "code",
   "execution_count": null,
   "metadata": {},
   "outputs": [],
   "source": [
    "import numpy as np\n",
    "import pandas as pd\n",
    "import os.path\n",
    "\n",
    "root_path = os.path.dirname(os.getcwd())\n",
    "\n",
    "# Load business license data\n",
    "licenses = pd.read_csv(os.path.join(root_path, \"DATA/business_licenses.csv\"))\n",
    "\n",
    "# Load food inspection data\n",
    "inspections = pd.read_csv(os.path.join(root_path, \"DATA/food_inspections.csv\"))\n",
    "\n",
    "# Load violation matrix\n",
    "violation_matrix = pd.read_csv(os.path.join(root_path, \"DATA/violation_matrix.csv\"))"
   ]
  },
  {
   "cell_type": "markdown",
   "metadata": {},
   "source": [
    "### CALCULATE FEATURES BASED ON FOOD INSPECTION DATA"
   ]
  },
  {
   "cell_type": "code",
   "execution_count": 36,
   "metadata": {},
   "outputs": [],
   "source": [
    "# Create basis for model_data (risk not included in Chicago repository)\n",
    "data = inspections[[\"inspection_date\", \"license\", \"inspection_id\", \"facility_type\", \"results\", \"risk\"]]"
   ]
  },
  {
   "cell_type": "code",
   "execution_count": 38,
   "metadata": {},
   "outputs": [],
   "source": [
    "# Merge with violation data\n",
    "data = pd.merge(data, violation_matrix, on=\"inspection_id\")"
   ]
  },
  {
   "cell_type": "code",
   "execution_count": 39,
   "metadata": {},
   "outputs": [],
   "source": [
    "# Create pass / fail flags\n",
    "pass_flags = data.results.map(lambda x: 1 if x == \"Pass\" else 0)\n",
    "fail_flags = data.results.map(lambda x: 1 if x == \"Fail\" else 0)\n",
    "data[\"pass_flags\"], data[\"fail_flags\"] = pass_flags, fail_flags"
   ]
  },
  {
   "cell_type": "code",
   "execution_count": 46,
   "metadata": {},
   "outputs": [],
   "source": [
    "# Sort inspections by date\n",
    "data.sort_values(by=\"inspection_date\", inplace=True)\n",
    "\n",
    "# Find previous inspection by shifting columns (grouped by license)\n",
    "data[\"past_inspection_id\"] = data.groupby(\"license\").inspection_id.shift(1)\n"
   ]
  },
  {
   "cell_type": "code",
   "execution_count": 49,
   "metadata": {},
   "outputs": [],
   "source": [
    "# Find previous violation data\n",
    "thing = pd.merge(data, violation_matrix, left_on=\"past_inspection_id\", right_on=\"inspection_id\", suffixes=[\"\", \"_prev\"])"
   ]
  },
  {
   "cell_type": "code",
   "execution_count": 52,
   "metadata": {},
   "outputs": [],
   "source": [
    "past_columns = [\"past_\" + name for name in violation_matrix.columns]"
   ]
  },
  {
   "cell_type": "code",
   "execution_count": 53,
   "metadata": {},
   "outputs": [
    {
     "data": {
      "text/plain": [
       "['past_v_1',\n",
       " 'past_v_2',\n",
       " 'past_v_3',\n",
       " 'past_v_4',\n",
       " 'past_v_5',\n",
       " 'past_v_6',\n",
       " 'past_v_7',\n",
       " 'past_v_8',\n",
       " 'past_v_9',\n",
       " 'past_v_10',\n",
       " 'past_v_11',\n",
       " 'past_v_12',\n",
       " 'past_v_13',\n",
       " 'past_v_14',\n",
       " 'past_v_15',\n",
       " 'past_v_16',\n",
       " 'past_v_17',\n",
       " 'past_v_18',\n",
       " 'past_v_19',\n",
       " 'past_v_20',\n",
       " 'past_v_21',\n",
       " 'past_v_22',\n",
       " 'past_v_23',\n",
       " 'past_v_24',\n",
       " 'past_v_25',\n",
       " 'past_v_26',\n",
       " 'past_v_27',\n",
       " 'past_v_28',\n",
       " 'past_v_29',\n",
       " 'past_v_30',\n",
       " 'past_v_31',\n",
       " 'past_v_32',\n",
       " 'past_v_33',\n",
       " 'past_v_34',\n",
       " 'past_v_35',\n",
       " 'past_v_36',\n",
       " 'past_v_37',\n",
       " 'past_v_38',\n",
       " 'past_v_39',\n",
       " 'past_v_40',\n",
       " 'past_v_41',\n",
       " 'past_v_42',\n",
       " 'past_v_43',\n",
       " 'past_v_44',\n",
       " 'past_v_45',\n",
       " 'past_v_70',\n",
       " 'past_critical_count',\n",
       " 'past_serious_count',\n",
       " 'past_minor_count',\n",
       " 'past_inspection_id']"
      ]
     },
     "execution_count": 53,
     "metadata": {},
     "output_type": "execute_result"
    }
   ],
   "source": [
    "past_columns"
   ]
  },
  {
   "cell_type": "code",
   "execution_count": null,
   "metadata": {},
   "outputs": [],
   "source": []
  }
 ],
 "metadata": {
  "kernelspec": {
   "display_name": "Python 3",
   "language": "python",
   "name": "python3"
  },
  "language_info": {
   "codemirror_mode": {
    "name": "ipython",
    "version": 3
   },
   "file_extension": ".py",
   "mimetype": "text/x-python",
   "name": "python",
   "nbconvert_exporter": "python",
   "pygments_lexer": "ipython3",
   "version": "3.6.4"
  }
 },
 "nbformat": 4,
 "nbformat_minor": 2
}
