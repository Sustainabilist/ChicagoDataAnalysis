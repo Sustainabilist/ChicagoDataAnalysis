{
 "cells": [
  {
   "cell_type": "markdown",
   "metadata": {},
   "source": [
    "### CALCULATE FEATURES BASED ON FOOD INSPECTION DATA"
   ]
  },
  {
   "cell_type": "code",
   "execution_count": 142,
   "metadata": {},
   "outputs": [],
   "source": [
    "import numpy as np\n",
    "import pandas as pd\n",
    "import os.path\n",
    "\n",
    "root_path = os.path.dirname(os.getcwd())\n",
    "\n",
    "# Load food inspection data\n",
    "inspections = pd.read_csv(os.path.join(root_path, \"DATA/food_inspections.csv\"))\n",
    "\n",
    "# Create basis for model_data (risk not included in Chicago repository)\n",
    "data = inspections[[\"inspection_date\", \"license\", \"inspection_id\", \"facility_type\", \"results\", \"risk\"]]"
   ]
  },
  {
   "cell_type": "code",
   "execution_count": 143,
   "metadata": {},
   "outputs": [],
   "source": [
    "# Load violation data\n",
    "values = pd.read_csv(os.path.join(root_path, \"DATA/violation_values.csv\"))\n",
    "counts = pd.read_csv(os.path.join(root_path, \"DATA/violation_counts.csv\"))\n",
    "\n",
    "# Merge with violation data\n",
    "data = pd.merge(data, values, on=\"inspection_id\")\n",
    "data = pd.merge(data, counts, on=\"inspection_id\")"
   ]
  },
  {
   "cell_type": "code",
   "execution_count": 144,
   "metadata": {},
   "outputs": [],
   "source": [
    "# Create pass / fail flags\n",
    "data[\"pass_flag\"] = data.results.map(lambda x: 1 if x == \"Pass\" else 0)\n",
    "data[\"fail_flag\"] = data.results.map(lambda x: 1 if x == \"Fail\" else 0)"
   ]
  },
  {
   "cell_type": "code",
   "execution_count": 145,
   "metadata": {},
   "outputs": [],
   "source": [
    "# Sort inspections by date\n",
    "grouped = data.sort_values(by=\"inspection_date\", inplace=True)\n",
    "\n",
    "# Find previous inspections by shifting each license group\n",
    "past_data = data.groupby(\"license\").shift(1)"
   ]
  },
  {
   "cell_type": "code",
   "execution_count": 146,
   "metadata": {},
   "outputs": [],
   "source": [
    "# Add past fails\n",
    "data[\"past_fail\"] = past_data.fail_flag\n",
    "\n",
    "# Add past violation counts\n",
    "data[\"past_critical\"] = past_data.critical_count\n",
    "data[\"past_serious\"] = past_data.serious_count\n",
    "data[\"past_minor\"] = past_data.minor_count"
   ]
  },
  {
   "cell_type": "code",
   "execution_count": 147,
   "metadata": {},
   "outputs": [],
   "source": [
    "# Select past violation values, remove inspection_id\n",
    "past_values = past_data[values.columns].drop(\"inspection_id\", axis=1).add_prefix(\"p\")\n",
    "\n",
    "# Set violation values to 0 for first inspections\n",
    "past_values.fillna(0, inplace=True)\n",
    "\n",
    "# Add past values to model data\n",
    "data = data.join(past_values)"
   ]
  },
  {
   "cell_type": "code",
   "execution_count": 148,
   "metadata": {},
   "outputs": [],
   "source": [
    "# Calculate time since previous inspection\n",
    "deltas = pd.to_datetime(data.inspection_date) - pd.to_datetime(past_data.inspection_date)\n",
    "\n",
    "# Add years since previous inspection\n",
    "data[\"time_since_last\"] = deltas.apply(lambda x: x.days / 365.25)"
   ]
  },
  {
   "cell_type": "code",
   "execution_count": 149,
   "metadata": {},
   "outputs": [],
   "source": [
    "# Check if first record\n",
    "data[\"first_record\"] = data.time_since_last.map(lambda x: 1 if pd.isnull(x) else 0)\n",
    "\n",
    "# Set time since last for first inspections to 2\n",
    "data.time_since_last.fillna(2, inplace=True)"
   ]
  },
  {
   "cell_type": "code",
   "execution_count": 9,
   "metadata": {},
   "outputs": [],
   "source": [
    "# REMEMBER TO INCLUDE PRIORITY FEATURE"
   ]
  },
  {
   "cell_type": "code",
   "execution_count": 154,
   "metadata": {},
   "outputs": [
    {
     "data": {
      "text/plain": [
       "56392"
      ]
     },
     "execution_count": 154,
     "metadata": {},
     "output_type": "execute_result"
    }
   ],
   "source": [
    "len(data)"
   ]
  },
  {
   "cell_type": "code",
   "execution_count": 178,
   "metadata": {},
   "outputs": [
    {
     "data": {
      "text/plain": [
       "56392"
      ]
     },
     "execution_count": 178,
     "metadata": {},
     "output_type": "execute_result"
    }
   ],
   "source": [
    "len(data)"
   ]
  },
  {
   "cell_type": "code",
   "execution_count": 174,
   "metadata": {},
   "outputs": [
    {
     "data": {
      "text/plain": [
       "56392"
      ]
     },
     "execution_count": 174,
     "metadata": {},
     "output_type": "execute_result"
    }
   ],
   "source": [
    "len(thingy)"
   ]
  },
  {
   "cell_type": "code",
   "execution_count": 167,
   "metadata": {},
   "outputs": [
    {
     "data": {
      "text/plain": [
       "112034"
      ]
     },
     "execution_count": 167,
     "metadata": {},
     "output_type": "execute_result"
    }
   ],
   "source": [
    "len(data) + len(age_data)"
   ]
  },
  {
   "cell_type": "markdown",
   "metadata": {},
   "source": [
    "### CALCULATE FEATURES BASED ON BUSINESS LICENSE DATA"
   ]
  },
  {
   "cell_type": "code",
   "execution_count": 153,
   "metadata": {},
   "outputs": [
    {
     "name": "stderr",
     "output_type": "stream",
     "text": [
      "/home/russell/anaconda3/lib/python3.6/site-packages/IPython/core/interactiveshell.py:2785: DtypeWarning: Columns (5,6,23,32,33) have mixed types. Specify dtype option on import or set low_memory=False.\n",
      "  interactivity=interactivity, compiler=compiler, result=result)\n"
     ]
    }
   ],
   "source": [
    "# Load business license data\n",
    "licenses = pd.read_csv(os.path.join(root_path, \"DATA/business_licenses.csv\"))"
   ]
  },
  {
   "cell_type": "code",
   "execution_count": 156,
   "metadata": {
    "scrolled": false
   },
   "outputs": [],
   "source": [
    "# Match by license number and when inspection_date\n",
    "# falls wrt business license renewal cycle\n",
    "def get_business_id(inspection):\n",
    "    matches = licenses.loc[licenses.license_number == inspection.license]\n",
    "    matches = matches.loc[\n",
    "        (matches.license_start_date <= inspection.inspection_date) &\n",
    "        (matches.expiration_date > inspection.inspection_date)\n",
    "    ]\n",
    "    if len(matches) > 0:\n",
    "        return matches.iloc[0].id\n",
    "    return np.nan\n",
    "\n",
    "# Sort licenses to allow selection of first match\n",
    "licenses.sort_values(\"license_start_date\", inplace=True)\n",
    "\n",
    "# 3 mins\n",
    "data[\"business_id\"] = data.apply(get_business_id, axis=1)"
   ]
  },
  {
   "cell_type": "code",
   "execution_count": 158,
   "metadata": {},
   "outputs": [],
   "source": [
    "# Merge with business licenses to create temporary dataframe\n",
    "temp = pd.merge(data, licenses, left_on=\"business_id\", right_on=\"id\")\n",
    "\n",
    "# Convert dates to datetime\n",
    "temp.inspection_date = pd.to_datetime(temp.inspection_date)\n",
    "temp.license_start_date = pd.to_datetime(temp.license_start_date)"
   ]
  },
  {
   "cell_type": "code",
   "execution_count": 170,
   "metadata": {},
   "outputs": [],
   "source": [
    "def get_age_data(group):\n",
    "    min_date = group.license_start_date.min()\n",
    "    deltas = group.inspection_date - min_date\n",
    "    group[\"age_at_inspection\"] = deltas.apply(lambda x: x.days / 365.25)\n",
    "    return group[[\"inspection_id\", \"age_at_inspection\"]]\n",
    "\n",
    "# Group by licenses and get age at inspection\n",
    "age_data = temp.groupby(\"license\").apply(get_age_data)"
   ]
  },
  {
   "cell_type": "code",
   "execution_count": 176,
   "metadata": {},
   "outputs": [],
   "source": [
    "# Merge in age_at_inspection\n",
    "data = pd.merge(data, age_data, on=\"inspection_id\", how=\"left\")"
   ]
  },
  {
   "cell_type": "markdown",
   "metadata": {},
   "source": [
    "### ATTACH KDE DATA"
   ]
  },
  {
   "cell_type": "markdown",
   "metadata": {},
   "source": [
    "### ATTACH WEATHER DATA"
   ]
  },
  {
   "cell_type": "code",
   "execution_count": 11,
   "metadata": {},
   "outputs": [],
   "source": [
    "# Load weather data\n",
    "weather = pd.read_csv(os.path.join(root_path, \"DATA/weather.csv\"))\n",
    "\n",
    "# Merge weather data with model data\n",
    "data = pd.merge(data, weather, on=\"inspection_id\")"
   ]
  }
 ],
 "metadata": {
  "kernelspec": {
   "display_name": "Python 3",
   "language": "python",
   "name": "python3"
  },
  "language_info": {
   "codemirror_mode": {
    "name": "ipython",
    "version": 3
   },
   "file_extension": ".py",
   "mimetype": "text/x-python",
   "name": "python",
   "nbconvert_exporter": "python",
   "pygments_lexer": "ipython3",
   "version": "3.6.5"
  }
 },
 "nbformat": 4,
 "nbformat_minor": 2
}
