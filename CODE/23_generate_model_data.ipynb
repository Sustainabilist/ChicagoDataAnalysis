{
 "cells": [
  {
   "cell_type": "markdown",
   "metadata": {},
   "source": [
    "### CALCULATE FEATURES BASED ON FOOD INSPECTION DATA"
   ]
  },
  {
   "cell_type": "code",
   "execution_count": 20,
   "metadata": {},
   "outputs": [],
   "source": [
    "import numpy as np\n",
    "import pandas as pd\n",
    "import os.path\n",
    "\n",
    "root_path = os.path.dirname(os.getcwd())\n",
    "\n",
    "# Load food inspection data\n",
    "inspections = pd.read_csv(os.path.join(root_path, \"DATA/food_inspections.csv\"))\n",
    "\n",
    "# Create basis for model_data (risk not included in Chicago repository)\n",
    "data = inspections[[\"inspection_date\", \"license\", \"inspection_id\", \"facility_type\"]]"
   ]
  },
  {
   "cell_type": "code",
   "execution_count": 32,
   "metadata": {},
   "outputs": [
    {
     "data": {
      "text/plain": [
       "56559"
      ]
     },
     "execution_count": 32,
     "metadata": {},
     "output_type": "execute_result"
    }
   ],
   "source": [
    "len(data)"
   ]
  },
  {
   "cell_type": "code",
   "execution_count": 4,
   "metadata": {},
   "outputs": [
    {
     "data": {
      "text/plain": [
       "56559"
      ]
     },
     "execution_count": 4,
     "metadata": {},
     "output_type": "execute_result"
    }
   ],
   "source": [
    "len(inspections)"
   ]
  },
  {
   "cell_type": "code",
   "execution_count": 5,
   "metadata": {},
   "outputs": [
    {
     "ename": "NameError",
     "evalue": "name 'values' is not defined",
     "output_type": "error",
     "traceback": [
      "\u001b[0;31m---------------------------------------------------------------------------\u001b[0m",
      "\u001b[0;31mNameError\u001b[0m                                 Traceback (most recent call last)",
      "\u001b[0;32m<ipython-input-5-4f32ec61f293>\u001b[0m in \u001b[0;36m<module>\u001b[0;34m()\u001b[0m\n\u001b[0;32m----> 1\u001b[0;31m \u001b[0mlen\u001b[0m\u001b[0;34m(\u001b[0m\u001b[0mvalues\u001b[0m\u001b[0;34m)\u001b[0m\u001b[0;34m\u001b[0m\u001b[0m\n\u001b[0m",
      "\u001b[0;31mNameError\u001b[0m: name 'values' is not defined"
     ]
    }
   ],
   "source": [
    "len(values)"
   ]
  },
  {
   "cell_type": "code",
   "execution_count": 22,
   "metadata": {
    "scrolled": true
   },
   "outputs": [
    {
     "name": "stderr",
     "output_type": "stream",
     "text": [
      "/home/russell/anaconda3/lib/python3.6/site-packages/ipykernel_launcher.py:2: SettingWithCopyWarning: \n",
      "A value is trying to be set on a copy of a slice from a DataFrame.\n",
      "Try using .loc[row_indexer,col_indexer] = value instead\n",
      "\n",
      "See the caveats in the documentation: http://pandas.pydata.org/pandas-docs/stable/indexing.html#indexing-view-versus-copy\n",
      "  \n",
      "/home/russell/anaconda3/lib/python3.6/site-packages/ipykernel_launcher.py:3: SettingWithCopyWarning: \n",
      "A value is trying to be set on a copy of a slice from a DataFrame.\n",
      "Try using .loc[row_indexer,col_indexer] = value instead\n",
      "\n",
      "See the caveats in the documentation: http://pandas.pydata.org/pandas-docs/stable/indexing.html#indexing-view-versus-copy\n",
      "  This is separate from the ipykernel package so we can avoid doing imports until\n",
      "/home/russell/anaconda3/lib/python3.6/site-packages/ipykernel_launcher.py:6: SettingWithCopyWarning: \n",
      "A value is trying to be set on a copy of a slice from a DataFrame.\n",
      "Try using .loc[row_indexer,col_indexer] = value instead\n",
      "\n",
      "See the caveats in the documentation: http://pandas.pydata.org/pandas-docs/stable/indexing.html#indexing-view-versus-copy\n",
      "  \n",
      "/home/russell/anaconda3/lib/python3.6/site-packages/ipykernel_launcher.py:7: SettingWithCopyWarning: \n",
      "A value is trying to be set on a copy of a slice from a DataFrame.\n",
      "Try using .loc[row_indexer,col_indexer] = value instead\n",
      "\n",
      "See the caveats in the documentation: http://pandas.pydata.org/pandas-docs/stable/indexing.html#indexing-view-versus-copy\n",
      "  import sys\n",
      "/home/russell/anaconda3/lib/python3.6/site-packages/ipykernel_launcher.py:8: SettingWithCopyWarning: \n",
      "A value is trying to be set on a copy of a slice from a DataFrame.\n",
      "Try using .loc[row_indexer,col_indexer] = value instead\n",
      "\n",
      "See the caveats in the documentation: http://pandas.pydata.org/pandas-docs/stable/indexing.html#indexing-view-versus-copy\n",
      "  \n"
     ]
    }
   ],
   "source": [
    "# Create pass / fail flags\n",
    "data[\"pass_flag\"] = inspections.results.map(lambda x: 1 if x == \"Pass\" else 0)\n",
    "data[\"fail_flag\"] = inspections.results.map(lambda x: 1 if x == \"Fail\" else 0)\n",
    "\n",
    "# Create risk flags\n",
    "data[\"risk_1\"] = inspections.results.map(lambda x: 1 if x == \"Risk 1 (High)\" else 0)\n",
    "data[\"risk_2\"] = inspections.results.map(lambda x: 1 if x == \"Risk 2 (Medium)\" else 0)\n",
    "data[\"risk_3\"] = inspections.results.map(lambda x: 1 if x == \"Risk 3 (Low)\" else 0)"
   ]
  },
  {
   "cell_type": "code",
   "execution_count": 23,
   "metadata": {},
   "outputs": [],
   "source": [
    "# Load violation data\n",
    "values = pd.read_csv(os.path.join(root_path, \"DATA/violation_values.csv\"))\n",
    "counts = pd.read_csv(os.path.join(root_path, \"DATA/violation_counts.csv\"))\n",
    "\n",
    "# Merge with violation data\n",
    "data = pd.merge(data, values, on=\"inspection_id\", how=\"left\")\n",
    "data = pd.merge(data, counts, on=\"inspection_id\", how=\"left\")\n",
    "\n",
    "# Set default to 0\n",
    "data.fillna(0, inplace=True)"
   ]
  },
  {
   "cell_type": "code",
   "execution_count": 25,
   "metadata": {},
   "outputs": [],
   "source": [
    "# Sort inspections by date\n",
    "grouped = data.sort_values(by=\"inspection_date\", inplace=True)\n",
    "\n",
    "# Find previous inspections by shifting each license group\n",
    "past_data = data.groupby(\"license\").shift(1)"
   ]
  },
  {
   "cell_type": "code",
   "execution_count": 26,
   "metadata": {},
   "outputs": [],
   "source": [
    "# Add past fails\n",
    "data[\"past_fail\"] = past_data.fail_flag\n",
    "\n",
    "# Add past violation counts\n",
    "data[\"past_critical\"] = past_data.critical_count\n",
    "data[\"past_serious\"] = past_data.serious_count\n",
    "data[\"past_minor\"] = past_data.minor_count"
   ]
  },
  {
   "cell_type": "code",
   "execution_count": 28,
   "metadata": {},
   "outputs": [],
   "source": [
    "# Select past violation values, remove past inspection id\n",
    "past_values = past_data[values.columns].drop(\"inspection_id\", axis=1).add_prefix(\"p\")\n",
    "\n",
    "# Set violation values to 0 for first inspections\n",
    "past_values.fillna(0, inplace=True)\n",
    "\n",
    "# Add past values to model data\n",
    "data = data.join(past_values)"
   ]
  },
  {
   "cell_type": "code",
   "execution_count": 30,
   "metadata": {},
   "outputs": [],
   "source": [
    "# Calculate time since previous inspection\n",
    "deltas = pd.to_datetime(data.inspection_date) - pd.to_datetime(past_data.inspection_date)\n",
    "\n",
    "# Add years since previous inspection\n",
    "data[\"time_since_last\"] = deltas.apply(lambda x: x.days / 365.25)"
   ]
  },
  {
   "cell_type": "code",
   "execution_count": 31,
   "metadata": {},
   "outputs": [],
   "source": [
    "# Check if first record\n",
    "data[\"first_record\"] = data.time_since_last.map(lambda x: 1 if pd.isnull(x) else 0)\n",
    "\n",
    "# Set time since last for first inspections to 2\n",
    "data.time_since_last.fillna(2, inplace=True)"
   ]
  },
  {
   "cell_type": "markdown",
   "metadata": {},
   "source": [
    "### CALCULATE FEATURES BASED ON BUSINESS LICENSE DATA"
   ]
  },
  {
   "cell_type": "code",
   "execution_count": 33,
   "metadata": {},
   "outputs": [
    {
     "name": "stderr",
     "output_type": "stream",
     "text": [
      "/home/russell/anaconda3/lib/python3.6/site-packages/IPython/core/interactiveshell.py:2785: DtypeWarning: Columns (5,6,23,32,33) have mixed types. Specify dtype option on import or set low_memory=False.\n",
      "  interactivity=interactivity, compiler=compiler, result=result)\n"
     ]
    }
   ],
   "source": [
    "# Load business license data\n",
    "licenses = pd.read_csv(os.path.join(root_path, \"DATA/business_licenses.csv\"))"
   ]
  },
  {
   "cell_type": "code",
   "execution_count": 34,
   "metadata": {},
   "outputs": [],
   "source": [
    "# Business licenses have numbers on end preventing simple match\n",
    "# so using street number instead\n",
    "def get_street_number(address):\n",
    "    return address.split()[0]\n",
    "\n",
    "licenses[\"street_number\"] = licenses.address.apply(get_street_number)\n",
    "inspections[\"street_number\"] = inspections.address.apply(get_street_number)"
   ]
  },
  {
   "cell_type": "code",
   "execution_count": 15,
   "metadata": {},
   "outputs": [
    {
     "name": "stderr",
     "output_type": "stream",
     "text": [
      "/home/russell/anaconda3/lib/python3.6/site-packages/pandas/core/frame.py:6201: FutureWarning: Sorting because non-concatenation axis is not aligned. A future version\n",
      "of pandas will change to not sort by default.\n",
      "\n",
      "To accept the future behavior, pass 'sort=True'.\n",
      "\n",
      "To retain the current behavior and silence the warning, pass sort=False\n",
      "\n",
      "  sort=sort)\n"
     ]
    }
   ],
   "source": [
    "# Match based on DBA name and street number\n",
    "venue_matches = pd.merge(inspections, licenses, left_on=[\"dba_name\", \"street_number\"], right_on=[\"doing_business_as_name\", \"street_number\"])\n",
    "\n",
    "# Match based on license numbers\n",
    "license_matches = pd.merge(inspections, licenses, left_on=\"license\", right_on=\"license_number\")\n",
    "\n",
    "# Join matches and reset index\n",
    "matches = venue_matches.append(license_matches).reset_index(drop=True)\n",
    "\n",
    "# Drop duplicates and reindex\n",
    "matches.drop_duplicates([\"inspection_id\", \"id\"], inplace=True)\n",
    "\n",
    "# Restrict to matches where inspection falls within license period\n",
    "matches = matches.loc[matches.inspection_date.between(matches.license_start_date, matches.expiration_date)]"
   ]
  },
  {
   "cell_type": "code",
   "execution_count": 46,
   "metadata": {},
   "outputs": [],
   "source": [
    "# Convert dates to datetime format\n",
    "matches.inspection_date = pd.to_datetime(matches.inspection_date)\n",
    "matches.license_start_date = pd.to_datetime(matches.license_start_date)\n",
    "\n",
    "def get_age_data(group):\n",
    "    min_date = group.license_start_date.min()\n",
    "    deltas = group.inspection_date - min_date\n",
    "    group[\"age_at_inspection\"] = deltas.apply(lambda x: x.days / 365.25)\n",
    "    return group[[\"inspection_id\", \"age_at_inspection\"]]\n",
    "\n",
    "# Calculate (3 mins), drop duplicates\n",
    "age_data = matches.groupby(\"license\").apply(get_age_data).drop_duplicates()"
   ]
  },
  {
   "cell_type": "code",
   "execution_count": 50,
   "metadata": {},
   "outputs": [],
   "source": [
    "# Merge in age_at_inspection\n",
    "# FILTER ROWS MISSING AGE_AT_INSPECTION\n",
    "thing = pd.merge(data, age_data, on=\"inspection_id\")"
   ]
  },
  {
   "cell_type": "code",
   "execution_count": 69,
   "metadata": {},
   "outputs": [],
   "source": [
    "backup = matches.copy()"
   ]
  },
  {
   "cell_type": "code",
   "execution_count": null,
   "metadata": {},
   "outputs": [],
   "source": []
  },
  {
   "cell_type": "code",
   "execution_count": 68,
   "metadata": {},
   "outputs": [
    {
     "data": {
      "text/plain": [
       "retail_food_establishment                                       59544\n",
       "consumption_on_premises_incidental_activity                     14147\n",
       "tobacco                                                          4509\n",
       "package_goods                                                    2329\n",
       "limited_business_license                                         2325\n",
       "outdoor_patio                                                    2214\n",
       "public_place_of_amusement                                        2068\n",
       "tavern                                                           1455\n",
       "caterers_liquor_license                                          1002\n",
       "regulated_business_license                                        653\n",
       "mobile_food_license                                               484\n",
       "massage_establishment                                             352\n",
       "late_hour                                                         342\n",
       "filling_station                                                   270\n",
       "hotel                                                             258\n",
       "music_and_dance                                                   228\n",
       "mobile_frozen_desserts_dispenser_non-motorized                    217\n",
       "retail_food_est.-supplemental_license_for_dog-friendly_areas      163\n",
       "not-for-profit_club                                               140\n",
       "commercial_garage                                                 121\n",
       "valet_parking_operator                                             91\n",
       "hazardous_materials                                                83\n",
       "wholesale_food_establishment                                       58\n",
       "food_shared_kitchen_supplemental                                   51\n",
       "accessory_garage                                                   49\n",
       "raffles                                                            45\n",
       "mobile_food_dispenser                                              43\n",
       "hospital                                                           29\n",
       "childrens_services_facility_license                                26\n",
       "broker                                                             23\n",
       "retail_computing_center                                            20\n",
       "motor_vehicle_services_license                                     16\n",
       "wrigley_field                                                      15\n",
       "navy_pier_outdoor_fixed                                            15\n",
       "tobacco_vending,_individual                                        14\n",
       "motor_vehicle_repair_:_engine_only_(class_ii)                      14\n",
       "emerging_business                                                  11\n",
       "special_event_food                                                 11\n",
       "bed-and-breakfast_establishment                                     8\n",
       "electronic_equipment_repair                                         8\n",
       "day_care_center_2_6_years                                           6\n",
       "long-term_care_facility                                             5\n",
       "secondhand_dealer                                                   5\n",
       "special_event_liquor                                                4\n",
       "liquor_airport_pushcart_license                                     4\n",
       "childrens_activities_facilities                                     4\n",
       "assisted_living/shared_housing_establishment                        4\n",
       "automatic_amusement_device_operator                                 4\n",
       "animal_care_license                                                 3\n",
       "performing_arts_venue                                               2\n",
       "tobacco_dealer_wholesale                                            2\n",
       "laundry,_late_hour                                                  2\n",
       "single_room_occupancy_class_i                                       1\n",
       "secondhand_dealer_(no_valuable_objects)                             1\n",
       "tire_facilty_class_i_(100_1,000_tires)                              1\n",
       "navy_pier_vendor_(food)                                             1\n",
       "navy_pier_kiosk_license                                             1\n",
       "tire_facility_class_ii_(1,001_5,000_tires)                          1\n",
       "retail_food_seasonal_lakefront_food_establishment                   1\n",
       "shared_kitchen_user                                                 1\n",
       "Name: license_description, dtype: int64"
      ]
     },
     "execution_count": 68,
     "metadata": {},
     "output_type": "execute_result"
    }
   ],
   "source": [
    "# Convert license_descriptions to snake-case\n",
    "matches.license_description = matches.license_description.str.lower()\n",
    "matches.license_description = matches.license_description.apply(lambda x: x.replace(\" - \", \"_\")\n",
    "                                            .replace(\" \", \"_\")\n",
    "                                            .replace(\"'\", \"\"))\n",
    "def get_category_data(group):\n",
    "    category_row = pd.Series([])\n",
    "    for category in group.license_description:\n",
    "        category_row[category] = 1\n",
    "    print(category_row)\n",
    "    return category_row\n",
    "    \n",
    "    \n",
    "category_data = matches.groupby(\"inspection_id\").apply(get_category_data, axis=1)"
   ]
  },
  {
   "cell_type": "code",
   "execution_count": 63,
   "metadata": {},
   "outputs": [
    {
     "data": {
      "text/plain": [
       "5                              retail food establishment\n",
       "8                              retail food establishment\n",
       "11                             retail food establishment\n",
       "13                             retail food establishment\n",
       "16                             retail food establishment\n",
       "18                             retail food establishment\n",
       "21                             retail food establishment\n",
       "44                             retail food establishment\n",
       "55                             retail food establishment\n",
       "71                             retail food establishment\n",
       "79                              limited business license\n",
       "88                              limited business license\n",
       "95                             retail food establishment\n",
       "109        consumption on premises - incidental activity\n",
       "110                                        outdoor patio\n",
       "111                            retail food establishment\n",
       "112                            retail food establishment\n",
       "113        consumption on premises - incidental activity\n",
       "114                                        outdoor patio\n",
       "116                            retail food establishment\n",
       "120                            retail food establishment\n",
       "177                                              tobacco\n",
       "178        consumption on premises - incidental activity\n",
       "179                            retail food establishment\n",
       "180                            public place of amusement\n",
       "194                            public place of amusement\n",
       "204                            retail food establishment\n",
       "206        consumption on premises - incidental activity\n",
       "223                                              tobacco\n",
       "249                            public place of amusement\n",
       "                               ...                      \n",
       "1084342    consumption on premises - incidental activity\n",
       "1084361                        retail food establishment\n",
       "1084370                        retail food establishment\n",
       "1084429                        retail food establishment\n",
       "1084440                        retail food establishment\n",
       "1084465                        retail food establishment\n",
       "1084470                        retail food establishment\n",
       "1084493                        retail food establishment\n",
       "1084494                                    package goods\n",
       "1084498                        retail food establishment\n",
       "1084530                        retail food establishment\n",
       "1084550                        retail food establishment\n",
       "1084556                        retail food establishment\n",
       "1084607                        retail food establishment\n",
       "1084625                        retail food establishment\n",
       "1084759                        retail food establishment\n",
       "1084760                        retail food establishment\n",
       "1084761                        retail food establishment\n",
       "1084820                        retail food establishment\n",
       "1085047                        retail food establishment\n",
       "1085075                        retail food establishment\n",
       "1085087                        retail food establishment\n",
       "1085137                        retail food establishment\n",
       "1085158                        retail food establishment\n",
       "1085180                        retail food establishment\n",
       "1085228                        retail food establishment\n",
       "1085242                        retail food establishment\n",
       "1085247                        retail food establishment\n",
       "1085260                        retail food establishment\n",
       "1085268                        retail food establishment\n",
       "Name: license_description, Length: 93504, dtype: object"
      ]
     },
     "execution_count": 63,
     "metadata": {},
     "output_type": "execute_result"
    }
   ],
   "source": [
    "matches.license_description"
   ]
  },
  {
   "cell_type": "code",
   "execution_count": null,
   "metadata": {},
   "outputs": [],
   "source": [
    "# remove nas, set max value to 1"
   ]
  },
  {
   "cell_type": "markdown",
   "metadata": {},
   "source": [
    "### ATTACH KDE DATA"
   ]
  },
  {
   "cell_type": "markdown",
   "metadata": {},
   "source": [
    "### ATTACH WEATHER DATA"
   ]
  },
  {
   "cell_type": "code",
   "execution_count": null,
   "metadata": {},
   "outputs": [],
   "source": [
    "# Load weather data\n",
    "weather = pd.read_csv(os.path.join(root_path, \"DATA/weather.csv\"))\n",
    "\n",
    "# Merge weather data with model data\n",
    "data = pd.merge(data, weather, on=\"inspection_id\")"
   ]
  }
 ],
 "metadata": {
  "kernelspec": {
   "display_name": "Python 3",
   "language": "python",
   "name": "python3"
  },
  "language_info": {
   "codemirror_mode": {
    "name": "ipython",
    "version": 3
   },
   "file_extension": ".py",
   "mimetype": "text/x-python",
   "name": "python",
   "nbconvert_exporter": "python",
   "pygments_lexer": "ipython3",
   "version": "3.6.5"
  }
 },
 "nbformat": 4,
 "nbformat_minor": 2
}
