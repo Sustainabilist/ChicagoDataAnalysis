{
 "cells": [
  {
   "cell_type": "markdown",
   "metadata": {},
   "source": [
    "### CALCULATE FEATURES BASED ON FOOD INSPECTION DATA"
   ]
  },
  {
   "cell_type": "code",
   "execution_count": 1,
   "metadata": {},
   "outputs": [],
   "source": [
    "import numpy as np\n",
    "import pandas as pd\n",
    "import os.path\n",
    "\n",
    "root_path = os.path.dirname(os.getcwd())\n",
    "\n",
    "# Load food inspection data\n",
    "inspections = pd.read_csv(os.path.join(root_path, \"DATA/food_inspections.csv\"))\n",
    "\n",
    "# Create basis for model_data (risk not included in Chicago repository)\n",
    "data = inspections[[\"inspection_date\", \"license\", \"inspection_id\", \"facility_type\", \"results\", \"risk\"]]"
   ]
  },
  {
   "cell_type": "code",
   "execution_count": 2,
   "metadata": {},
   "outputs": [],
   "source": [
    "# Load violation data\n",
    "values = pd.read_csv(os.path.join(root_path, \"DATA/violation_values.csv\"))\n",
    "counts = pd.read_csv(os.path.join(root_path, \"DATA/violation_counts.csv\"))\n",
    "\n",
    "# Merge with violation data\n",
    "data = pd.merge(data, values, on=\"inspection_id\")\n",
    "data = pd.merge(data, counts, on=\"inspection_id\")"
   ]
  },
  {
   "cell_type": "code",
   "execution_count": 3,
   "metadata": {},
   "outputs": [],
   "source": [
    "# Create pass / fail flags\n",
    "data[\"pass_flag\"] = data.results.map(lambda x: 1 if x == \"Pass\" else 0)\n",
    "data[\"fail_flag\"] = data.results.map(lambda x: 1 if x == \"Fail\" else 0)"
   ]
  },
  {
   "cell_type": "code",
   "execution_count": 4,
   "metadata": {},
   "outputs": [],
   "source": [
    "# Sort inspections by date\n",
    "grouped = data.sort_values(by=\"inspection_date\", inplace=True)\n",
    "\n",
    "# Find previous inspections by shifting each license group\n",
    "past_data = data.groupby(\"license\").shift(1)"
   ]
  },
  {
   "cell_type": "code",
   "execution_count": 5,
   "metadata": {},
   "outputs": [],
   "source": [
    "# Add past fails\n",
    "data[\"past_fail\"] = past_data.fail_flag\n",
    "\n",
    "# Add past violation counts\n",
    "data[\"past_critical\"] = past_data.critical_count\n",
    "data[\"past_serious\"] = past_data.serious_count\n",
    "data[\"past_minor\"] = past_data.minor_count"
   ]
  },
  {
   "cell_type": "code",
   "execution_count": 6,
   "metadata": {},
   "outputs": [],
   "source": [
    "# Select past violation values, remove inspection_id\n",
    "past_values = past_data[values.columns].drop(\"inspection_id\", axis=1).add_prefix(\"p\")\n",
    "\n",
    "# Set violation values to 0 for first inspections\n",
    "past_values.fillna(0, inplace=True)\n",
    "\n",
    "# Add past values to model data\n",
    "data = data.join(past_values)"
   ]
  },
  {
   "cell_type": "code",
   "execution_count": 7,
   "metadata": {},
   "outputs": [],
   "source": [
    "# Calculate time since previous inspection\n",
    "deltas = pd.to_datetime(data.inspection_date) - pd.to_datetime(past_data.inspection_date)\n",
    "\n",
    "# Add years since previous inspection\n",
    "data[\"time_since_last\"] = deltas.apply(lambda x: x.days / 365.25)"
   ]
  },
  {
   "cell_type": "code",
   "execution_count": 8,
   "metadata": {},
   "outputs": [],
   "source": [
    "# Check if first record\n",
    "data[\"first_record\"] = data.time_since_last.map(lambda x: 1 if pd.isnull(x) else 0)\n",
    "\n",
    "# Set time since last for first inspections to 2\n",
    "data.time_since_last.fillna(2, inplace=True)"
   ]
  },
  {
   "cell_type": "code",
   "execution_count": 9,
   "metadata": {},
   "outputs": [],
   "source": [
    "# REMEMBER TO INCLUDE PRIORITY FEATURE"
   ]
  },
  {
   "cell_type": "markdown",
   "metadata": {},
   "source": [
    "### CALCULATE FEATURES BASED ON BUSINESS LICENSE DATA"
   ]
  },
  {
   "cell_type": "code",
   "execution_count": 10,
   "metadata": {},
   "outputs": [
    {
     "name": "stderr",
     "output_type": "stream",
     "text": [
      "/home/russell/anaconda3/lib/python3.6/site-packages/IPython/core/interactiveshell.py:2785: DtypeWarning: Columns (5,6,23,32,33) have mixed types. Specify dtype option on import or set low_memory=False.\n",
      "  interactivity=interactivity, compiler=compiler, result=result)\n"
     ]
    }
   ],
   "source": [
    "# Load business license data\n",
    "licenses = pd.read_csv(os.path.join(root_path, \"DATA/business_licenses.csv\"))"
   ]
  },
  {
   "cell_type": "code",
   "execution_count": null,
   "metadata": {
    "scrolled": false
   },
   "outputs": [],
   "source": [
    "# Match by license number and when inspection_date\n",
    "# falls wrt business license renewal cycle\n",
    "def get_business_id(inspection):\n",
    "    matches = licenses.loc[licenses.license_number == inspection.license]\n",
    "    matches = matches.loc[\n",
    "        (matches.license_start_date <= inspection.inspection_date) &\n",
    "        (matches.expiration_date > inspection.inspection_date)\n",
    "    ]\n",
    "    if len(matches) > 1:\n",
    "        return matches.iloc[0].id\n",
    "    return np.nan\n",
    "\n",
    "# Sort licenses to allow selection of first match\n",
    "licenses.sort_values(\"license_start_date\", inplace=True)\n",
    "\n",
    "# 5 mins\n",
    "data[\"business_id\"] = data.apply(get_business_id, axis=1)"
   ]
  },
  {
   "cell_type": "code",
   "execution_count": 71,
   "metadata": {},
   "outputs": [
    {
     "data": {
      "text/plain": [
       "'2013-08-15T00:00:00'"
      ]
     },
     "execution_count": 71,
     "metadata": {},
     "output_type": "execute_result"
    }
   ],
   "source": [
    "licenses.iloc[56390].expiration_date"
   ]
  },
  {
   "cell_type": "code",
   "execution_count": 74,
   "metadata": {},
   "outputs": [
    {
     "data": {
      "text/plain": [
       "0           76522\n",
       "1           84172\n",
       "2          119268\n",
       "3          168920\n",
       "4          205258\n",
       "5          205263\n",
       "6          264943\n",
       "7          275807\n",
       "8          286129\n",
       "9          310105\n",
       "10        1104543\n",
       "11        1112535\n",
       "12        1115264\n",
       "13        1115778\n",
       "14        1121240\n",
       "15        1140501\n",
       "16        1140502\n",
       "17        1172795\n",
       "18        1201283\n",
       "19        1202098\n",
       "20        1205853\n",
       "21        1215056\n",
       "22        1307168\n",
       "23        1307340\n",
       "24        1309805\n",
       "25        1309915\n",
       "26        1313198\n",
       "27        1324330\n",
       "28        1334887\n",
       "29        1452052\n",
       "           ...   \n",
       "939911    2173086\n",
       "939912    2599046\n",
       "939913    2596660\n",
       "939914    2591409\n",
       "939915    2597937\n",
       "939916    2608754\n",
       "939917    2595264\n",
       "939918    2591931\n",
       "939919    2578507\n",
       "939920    2593105\n",
       "939921    2596678\n",
       "939922    2591925\n",
       "939923    2603124\n",
       "939924    2608726\n",
       "939925    2593706\n",
       "939926    2608668\n",
       "939927    2608729\n",
       "939928    2596499\n",
       "939929    2597755\n",
       "939930    1851303\n",
       "939931    2495344\n",
       "939932    2607656\n",
       "939933    2603731\n",
       "939934    2591471\n",
       "939935    2590986\n",
       "939936    2600196\n",
       "939937    2608806\n",
       "939938    2577039\n",
       "939939    2550872\n",
       "939940    2599278\n",
       "Name: license_id, Length: 939941, dtype: int64"
      ]
     },
     "execution_count": 74,
     "metadata": {},
     "output_type": "execute_result"
    }
   ],
   "source": [
    "licenses.license_id"
   ]
  },
  {
   "cell_type": "markdown",
   "metadata": {},
   "source": [
    "### ATTACH KDE DATA"
   ]
  },
  {
   "cell_type": "markdown",
   "metadata": {},
   "source": [
    "### ATTACH WEATHER DATA"
   ]
  },
  {
   "cell_type": "code",
   "execution_count": 11,
   "metadata": {},
   "outputs": [],
   "source": [
    "# Load weather data\n",
    "weather = pd.read_csv(os.path.join(root_path, \"DATA/weather.csv\"))\n",
    "\n",
    "# Merge weather data with model data\n",
    "data = pd.merge(data, weather, on=\"inspection_id\")"
   ]
  }
 ],
 "metadata": {
  "kernelspec": {
   "display_name": "Python 3",
   "language": "python",
   "name": "python3"
  },
  "language_info": {
   "codemirror_mode": {
    "name": "ipython",
    "version": 3
   },
   "file_extension": ".py",
   "mimetype": "text/x-python",
   "name": "python",
   "nbconvert_exporter": "python",
   "pygments_lexer": "ipython3",
   "version": "3.6.5"
  }
 },
 "nbformat": 4,
 "nbformat_minor": 2
}
