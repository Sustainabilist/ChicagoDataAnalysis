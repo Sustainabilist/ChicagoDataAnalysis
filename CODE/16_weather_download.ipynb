{
 "cells": [
  {
   "cell_type": "code",
   "execution_count": 3,
   "metadata": {},
   "outputs": [],
   "source": [
    "import pandas as pd\n",
    "import requests\n",
    "import json"
   ]
  },
  {
   "cell_type": "code",
   "execution_count": 13,
   "metadata": {},
   "outputs": [],
   "source": [
    "KEY = \"3454c4667481d2c0fec48f642aba2f18\""
   ]
  },
  {
   "cell_type": "code",
   "execution_count": 14,
   "metadata": {},
   "outputs": [],
   "source": [
    "url = \"https://api.darksky.net/forecast/%s/41.836944,-87.684722\" % KEY\n",
    "response = requests.get(url)\n",
    "weather_data = response.json()\n"
   ]
  },
  {
   "cell_type": "code",
   "execution_count": 17,
   "metadata": {},
   "outputs": [
    {
     "data": {
      "text/plain": [
       "{'apparentTemperatureHigh': 69.98,\n",
       " 'apparentTemperatureHighTime': 1529618400,\n",
       " 'apparentTemperatureLow': 61.17,\n",
       " 'apparentTemperatureLowTime': 1529672400,\n",
       " 'apparentTemperatureMax': 69.98,\n",
       " 'apparentTemperatureMaxTime': 1529618400,\n",
       " 'apparentTemperatureMin': 65.02,\n",
       " 'apparentTemperatureMinTime': 1529568000,\n",
       " 'cloudCover': 0.97,\n",
       " 'dewPoint': 64.07,\n",
       " 'humidity': 0.93,\n",
       " 'icon': 'rain',\n",
       " 'moonPhase': 0.29,\n",
       " 'ozone': 300.2,\n",
       " 'precipIntensity': 0.0928,\n",
       " 'precipIntensityMax': 0.2541,\n",
       " 'precipIntensityMaxTime': 1529589600,\n",
       " 'precipProbability': 0.99,\n",
       " 'precipType': 'rain',\n",
       " 'pressure': 1007.79,\n",
       " 'summary': 'Heavy rain until evening, starting again overnight.',\n",
       " 'sunriseTime': 1529576235,\n",
       " 'sunsetTime': 1529631033,\n",
       " 'temperatureHigh': 69.45,\n",
       " 'temperatureHighTime': 1529618400,\n",
       " 'temperatureLow': 60.88,\n",
       " 'temperatureLowTime': 1529672400,\n",
       " 'temperatureMax': 69.45,\n",
       " 'temperatureMaxTime': 1529618400,\n",
       " 'temperatureMin': 64.2,\n",
       " 'temperatureMinTime': 1529568000,\n",
       " 'time': 1529557200,\n",
       " 'uvIndex': 6,\n",
       " 'uvIndexTime': 1529600400,\n",
       " 'visibility': 4.61,\n",
       " 'windBearing': 73,\n",
       " 'windGust': 25.13,\n",
       " 'windGustTime': 1529636400,\n",
       " 'windSpeed': 7.94}"
      ]
     },
     "execution_count": 17,
     "metadata": {},
     "output_type": "execute_result"
    }
   ],
   "source": [
    "weather_data[\"daily\"][\"data\"][0]"
   ]
  },
  {
   "cell_type": "code",
   "execution_count": null,
   "metadata": {},
   "outputs": [],
   "source": []
  }
 ],
 "metadata": {
  "kernelspec": {
   "display_name": "Python 3",
   "language": "python",
   "name": "python3"
  },
  "language_info": {
   "codemirror_mode": {
    "name": "ipython",
    "version": 3
   },
   "file_extension": ".py",
   "mimetype": "text/x-python",
   "name": "python",
   "nbconvert_exporter": "python",
   "pygments_lexer": "ipython3",
   "version": "3.6.4"
  }
 },
 "nbformat": 4,
 "nbformat_minor": 2
}
