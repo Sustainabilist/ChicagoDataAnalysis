{
 "cells": [
  {
   "cell_type": "code",
   "execution_count": 26,
   "metadata": {},
   "outputs": [],
   "source": [
    "import pandas as pd\n",
    "import numpy as np\n",
    "import os.path\n",
    "import requests\n",
    "import json\n",
    "\n",
    "root_path = os.path.dirname(os.getcwd())\n",
    "\n",
    "# Import food inspection data\n",
    "inspections = pd.read_csv(os.path.join(root_path, \"DATA/food_inspections.csv\"))"
   ]
  },
  {
   "cell_type": "code",
   "execution_count": 27,
   "metadata": {},
   "outputs": [],
   "source": [
    "# Create weather dataframe with entry for each inspection\n",
    "weather = pd.DataFrame({\n",
    "    \"inspection_id\": inspections.inspection_id,\n",
    "    \"date\": inspections.inspection_date,\n",
    "})\n",
    "\n",
    "features = [\n",
    "    \"precip_intensity\",\n",
    "    \"temperature_max\",\n",
    "    \"wind_speed\",\n",
    "    \"humidity\"\n",
    "]\n",
    "\n",
    "weather = pd.concat([weather, pd.DataFrame(columns=features)])"
   ]
  },
  {
   "cell_type": "code",
   "execution_count": 28,
   "metadata": {},
   "outputs": [],
   "source": [
    "# Check if weather data exists, import or start empty dataframe\n",
    "if os.path.isfile(os.path.join(root_path, \"DATA/weather.csv\")):\n",
    "    old_weather = pd.read_csv(os.path.join(root_path, \"DATA/weather.csv\"))\n",
    "else:\n",
    "    old_weather = pd.DataFrame(columns=weather.columns)"
   ]
  },
  {
   "cell_type": "code",
   "execution_count": 29,
   "metadata": {},
   "outputs": [],
   "source": [
    "KEY = \"3454c4667481d2c0fec48f642aba2f18\""
   ]
  },
  {
   "cell_type": "code",
   "execution_count": 45,
   "metadata": {},
   "outputs": [],
   "source": [
    "# Check if weather record can be found in old data.\n",
    "# If not, request record from darksky.net\n",
    "def get_weather(group):\n",
    "    date = group.iloc[0].date\n",
    "    record = old_weather[old_weather.date == date]\n",
    "    if (not record.empty) & (not record.isnull().values.any()):\n",
    "        print(\"record found\")\n",
    "        group.loc[:, features] = record.iloc[0][features].values\n",
    "    else:\n",
    "        url = \"https://api.darksky.net/forecast/%s/41.836944,-87.684722,%s\" % (KEY, date)\n",
    "        response = requests.get(url).json()\n",
    "        if \"daily\" in response:  \n",
    "            print(\"response recieved\")\n",
    "            data = response.json()[\"daily\"][\"data\"][0]\n",
    "        \n",
    "        group[features] = [\n",
    "            data[\"precipIntensity\"],\n",
    "            data[\"temperatureMax\"],\n",
    "            data[\"windSpeed\"],\n",
    "            data[\"humidity\"]\n",
    "        ]\n",
    "    return group"
   ]
  },
  {
   "cell_type": "code",
   "execution_count": 46,
   "metadata": {},
   "outputs": [
    {
     "name": "stdout",
     "output_type": "stream",
     "text": [
      "request recieved\n",
      "False\n",
      "request recieved\n",
      "False\n",
      "record found\n",
      "record found\n"
     ]
    }
   ],
   "source": [
    "thing = weather.head(20).groupby(by=\"date\").apply(get_weather)"
   ]
  },
  {
   "cell_type": "code",
   "execution_count": 38,
   "metadata": {},
   "outputs": [
    {
     "ename": "NameError",
     "evalue": "name 'response' is not defined",
     "output_type": "error",
     "traceback": [
      "\u001b[0;31m---------------------------------------------------------------------------\u001b[0m",
      "\u001b[0;31mNameError\u001b[0m                                 Traceback (most recent call last)",
      "\u001b[0;32m<ipython-input-38-b9e036d1d990>\u001b[0m in \u001b[0;36m<module>\u001b[0;34m()\u001b[0m\n\u001b[0;32m----> 1\u001b[0;31m \u001b[0mthingle\u001b[0m \u001b[0;34m=\u001b[0m \u001b[0mresponse\u001b[0m\u001b[0;34m.\u001b[0m\u001b[0mjson\u001b[0m\u001b[0;34m(\u001b[0m\u001b[0;34m)\u001b[0m\u001b[0;34m\u001b[0m\u001b[0m\n\u001b[0m",
      "\u001b[0;31mNameError\u001b[0m: name 'response' is not defined"
     ]
    }
   ],
   "source": [
    "thingle = response.json()"
   ]
  },
  {
   "cell_type": "code",
   "execution_count": 106,
   "metadata": {},
   "outputs": [
    {
     "data": {
      "text/plain": [
       "{'apparentTemperatureHigh': 69.98,\n",
       " 'apparentTemperatureHighTime': 1529618400,\n",
       " 'apparentTemperatureLow': 61.17,\n",
       " 'apparentTemperatureLowTime': 1529672400,\n",
       " 'apparentTemperatureMax': 69.98,\n",
       " 'apparentTemperatureMaxTime': 1529618400,\n",
       " 'apparentTemperatureMin': 65.02,\n",
       " 'apparentTemperatureMinTime': 1529568000,\n",
       " 'cloudCover': 0.97,\n",
       " 'dewPoint': 64.07,\n",
       " 'humidity': 0.93,\n",
       " 'icon': 'rain',\n",
       " 'moonPhase': 0.29,\n",
       " 'ozone': 300.2,\n",
       " 'precipIntensity': 0.0928,\n",
       " 'precipIntensityMax': 0.2541,\n",
       " 'precipIntensityMaxTime': 1529589600,\n",
       " 'precipProbability': 0.99,\n",
       " 'precipType': 'rain',\n",
       " 'pressure': 1007.79,\n",
       " 'summary': 'Heavy rain until evening, starting again overnight.',\n",
       " 'sunriseTime': 1529576235,\n",
       " 'sunsetTime': 1529631033,\n",
       " 'temperatureHigh': 69.45,\n",
       " 'temperatureHighTime': 1529618400,\n",
       " 'temperatureLow': 60.88,\n",
       " 'temperatureLowTime': 1529672400,\n",
       " 'temperatureMax': 69.45,\n",
       " 'temperatureMaxTime': 1529618400,\n",
       " 'temperatureMin': 64.2,\n",
       " 'temperatureMinTime': 1529568000,\n",
       " 'time': 1529557200,\n",
       " 'uvIndex': 6,\n",
       " 'uvIndexTime': 1529600400,\n",
       " 'visibility': 4.61,\n",
       " 'windBearing': 73,\n",
       " 'windGust': 25.13,\n",
       " 'windGustTime': 1529636400,\n",
       " 'windSpeed': 7.94}"
      ]
     },
     "execution_count": 106,
     "metadata": {},
     "output_type": "execute_result"
    }
   ],
   "source": [
    "weather_data[\"daily\"][\"data\"][0]"
   ]
  },
  {
   "cell_type": "code",
   "execution_count": 118,
   "metadata": {},
   "outputs": [],
   "source": [
    "# Save result\n",
    "thing.to_csv(os.path.join(root_path, \"DATA/weather.csv\"), index=False)"
   ]
  },
  {
   "cell_type": "code",
   "execution_count": null,
   "metadata": {},
   "outputs": [],
   "source": []
  }
 ],
 "metadata": {
  "kernelspec": {
   "display_name": "Python 3",
   "language": "python",
   "name": "python3"
  },
  "language_info": {
   "codemirror_mode": {
    "name": "ipython",
    "version": 3
   },
   "file_extension": ".py",
   "mimetype": "text/x-python",
   "name": "python",
   "nbconvert_exporter": "python",
   "pygments_lexer": "ipython3",
   "version": "3.6.4"
  }
 },
 "nbformat": 4,
 "nbformat_minor": 2
}
