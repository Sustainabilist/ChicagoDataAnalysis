{
 "cells": [
  {
   "cell_type": "code",
   "execution_count": 1,
   "metadata": {},
   "outputs": [
    {
     "name": "stderr",
     "output_type": "stream",
     "text": [
      "WARNING:root:Requests made without an app_token will be subject to strict throttling limits.\n"
     ]
    }
   ],
   "source": [
    "# from https://github.com/socrata/dev.socrata.com/blob/39c6581986466edb5e7f72f5beea5ce69238f8de/snippets/pandas.py\n",
    "\n",
    "import pandas as pd\n",
    "from sodapy import Socrata\n",
    "\n",
    "# Unauthenticated client only works with public data sets. Note 'None'\n",
    "# in place of application token, and no username or password:\n",
    "client = Socrata(\"data.cityofchicago.org\", None)\n",
    "\n",
    "# First 50000 results, returned as JSON from API \n",
    "# Connverted to Python list of dictionaries by sodapy.\n",
    "# Column names converted to snake case, special chars removed\n",
    "# Dates and location formatted\n",
    "results = client.get(\"4ijn-s7e5\", limit=50000)\n",
    "\n",
    "# Convert to pandas DataFrame\n",
    "inspections = pd.DataFrame.from_records(results)"
   ]
  },
  {
   "cell_type": "code",
   "execution_count": 2,
   "metadata": {},
   "outputs": [
    {
     "name": "stdout",
     "output_type": "stream",
     "text": [
      "50000\n",
      "100000\n",
      "150000\n",
      "200000\n"
     ]
    }
   ],
   "source": [
    "# Download remaining food inspections (limit 50000 / call)\n",
    "start = 50000\n",
    "while results:\n",
    "    print(start)\n",
    "    results = client.get(\"4ijn-s7e5\", limit=50000, offset=start)\n",
    "    inspections = inspections.append(pd.DataFrame.from_records(results))\n",
    "    start += 50000\n"
   ]
  },
  {
   "cell_type": "code",
   "execution_count": 3,
   "metadata": {},
   "outputs": [
    {
     "data": {
      "text/plain": [
       "Canvass                                      90500\n",
       "License                                      22175\n",
       "Canvass Re-Inspection                        18024\n",
       "Complaint                                    15692\n",
       "License Re-Inspection                         7930\n",
       "Complaint Re-Inspection                       6507\n",
       "Short Form Complaint                          6167\n",
       "Suspected Food Poisoning                       747\n",
       "Consultation                                   669\n",
       "License-Task Force                             605\n",
       "Tag Removal                                    603\n",
       "Out of Business                                284\n",
       "Task Force Liquor 1475                         254\n",
       "Recent Inspection                              244\n",
       "Suspected Food Poisoning Re-inspection         171\n",
       "Complaint-Fire                                 161\n",
       "Short Form Fire-Complaint                      113\n",
       "Special Events (Festivals)                      63\n",
       "No Entry                                        60\n",
       "Complaint-Fire Re-inspection                    44\n",
       "Package Liquor 1474                             44\n",
       "OUT OF BUSINESS                                 22\n",
       "LICENSE REQUEST                                 19\n",
       "Pre-License Consultation                        15\n",
       "Non-Inspection                                  14\n",
       "Not Ready                                       10\n",
       "NO ENTRY                                         7\n",
       "Illegal Operation                                5\n",
       "no entry                                         4\n",
       "SFP/COMPLAINT                                    4\n",
       "                                             ...  \n",
       "FIRE/COMPLAIN                                    1\n",
       "Task Force for liquor 1474                       1\n",
       "NO ENTRY-SHORT COMPLAINT)                        1\n",
       "Task Force Liquor Catering                       1\n",
       "OWNER SUSPENDED OPERATION/LICENSE                1\n",
       "TAVERN 1470                                      1\n",
       "CITF                                             1\n",
       "Sample Collection                                1\n",
       "CLOSE-UP/COMPLAINT REINSPECTION                  1\n",
       "LICENSE CANCELED BY OWNER                        1\n",
       "No entry                                         1\n",
       "RECALL INSPECTION                                1\n",
       "License consultation                             1\n",
       "Summer Feeding                                   1\n",
       "RE-INSPECTION OF CLOSE-UP                        1\n",
       "TASK FORCE NOT READY                             1\n",
       "ADDENDUM                                         1\n",
       "LICENSE                                          1\n",
       "CHANGED COURT DATE                               1\n",
       "SMOKING COMPLAINT                                1\n",
       "Recent inspection                                1\n",
       "LICENSE TASK FORCE / NOT -FOR-PROFIT CLU         1\n",
       "sfp/complaint                                    1\n",
       "CANVASS SCHOOL/SPECIAL EVENT                     1\n",
       "LICENSE TASK FORCE / NOT -FOR-PROFIT CLUB        1\n",
       "1315 license reinspection                        1\n",
       "license                                          1\n",
       "TASK FORCE PACKAGE GOODS 1474                    1\n",
       "TASK FORCE LIQUOR (1481)                         1\n",
       "TASK FORCE NIGHT                                 1\n",
       "Name: inspection_type, Length: 108, dtype: int64"
      ]
     },
     "execution_count": 3,
     "metadata": {},
     "output_type": "execute_result"
    }
   ],
   "source": [
    "inspections.inspection_type.value_counts()"
   ]
  },
  {
   "cell_type": "code",
   "execution_count": 3,
   "metadata": {},
   "outputs": [],
   "source": [
    "# Remove trailing backslash (left over from sodapy conversion of \"License #\")\n",
    "inspections.rename(columns={\"license_\": \"license\"}, inplace=True)"
   ]
  },
  {
   "cell_type": "code",
   "execution_count": 4,
   "metadata": {},
   "outputs": [],
   "source": [
    "# Drop rows with missing data\n",
    "inspections.dropna(subset=[\"inspection_date\", \"license\"], inplace=True)"
   ]
  },
  {
   "cell_type": "code",
   "execution_count": 5,
   "metadata": {},
   "outputs": [],
   "source": [
    "# Drop duplicates (currently none)\n",
    "inspections.drop_duplicates(\"inspection_id\", inplace=True)"
   ]
  },
  {
   "cell_type": "code",
   "execution_count": 6,
   "metadata": {},
   "outputs": [],
   "source": [
    "# Drop \"0\" licenses\n",
    "inspections = inspections[inspections.license != \"0\"]"
   ]
  },
  {
   "cell_type": "code",
   "execution_count": 7,
   "metadata": {},
   "outputs": [],
   "source": [
    "# Only consider canvas inspections (not complaints or re-inspections)\n",
    "inspections = inspections[inspections.inspection_type == \"Canvass\"]"
   ]
  },
  {
   "cell_type": "code",
   "execution_count": 8,
   "metadata": {},
   "outputs": [],
   "source": [
    "# Only consider successful inspections\n",
    "inspections = inspections[~inspections.results.isin([\"Out of Business\", \"Business Not Located\", \"No Entry\"])]"
   ]
  },
  {
   "cell_type": "code",
   "execution_count": 9,
   "metadata": {},
   "outputs": [],
   "source": [
    "# Convert latitude & longitude to floats\n",
    "inspections.latitude = inspections.latitude.astype(float)\n",
    "inspections.longitude = inspections.longitude.astype(float)"
   ]
  },
  {
   "cell_type": "code",
   "execution_count": 10,
   "metadata": {},
   "outputs": [],
   "source": [
    "import os.path\n",
    "root_path = os.path.dirname(os.getcwd())\n",
    "\n",
    "# Save result\n",
    "inspections.to_csv(os.path.join(root_path, \"DATA/food_inspections.csv\"), index=False)"
   ]
  }
 ],
 "metadata": {
  "kernelspec": {
   "display_name": "Python 3",
   "language": "python",
   "name": "python3"
  },
  "language_info": {
   "codemirror_mode": {
    "name": "ipython",
    "version": 3
   },
   "file_extension": ".py",
   "mimetype": "text/x-python",
   "name": "python",
   "nbconvert_exporter": "python",
   "pygments_lexer": "ipython3",
   "version": "3.6.5"
  }
 },
 "nbformat": 4,
 "nbformat_minor": 2
}
