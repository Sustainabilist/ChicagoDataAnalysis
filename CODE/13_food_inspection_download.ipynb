{
 "cells": [
  {
   "cell_type": "code",
   "execution_count": 50,
   "metadata": {},
   "outputs": [
    {
     "name": "stdout",
     "output_type": "stream",
     "text": [
      "Requirement already satisfied: sodapy in /home/russell/anaconda3/lib/python3.6/site-packages\n",
      "Requirement already satisfied: future==0.16.0 in /home/russell/anaconda3/lib/python3.6/site-packages (from sodapy)\n",
      "Requirement already satisfied: requests==2.18.4 in /home/russell/anaconda3/lib/python3.6/site-packages (from sodapy)\n",
      "Requirement already satisfied: chardet<3.1.0,>=3.0.2 in /home/russell/anaconda3/lib/python3.6/site-packages (from requests==2.18.4->sodapy)\n",
      "Requirement already satisfied: idna<2.7,>=2.5 in /home/russell/anaconda3/lib/python3.6/site-packages (from requests==2.18.4->sodapy)\n",
      "Requirement already satisfied: urllib3<1.23,>=1.21.1 in /home/russell/anaconda3/lib/python3.6/site-packages (from requests==2.18.4->sodapy)\n",
      "Requirement already satisfied: certifi>=2017.4.17 in /home/russell/anaconda3/lib/python3.6/site-packages (from requests==2.18.4->sodapy)\n",
      "\u001b[33mYou are using pip version 9.0.1, however version 10.0.1 is available.\n",
      "You should consider upgrading via the 'pip install --upgrade pip' command.\u001b[0m\n"
     ]
    }
   ],
   "source": [
    "!pip install sodapy"
   ]
  },
  {
   "cell_type": "code",
   "execution_count": 74,
   "metadata": {},
   "outputs": [
    {
     "name": "stderr",
     "output_type": "stream",
     "text": [
      "WARNING:root:Requests made without an app_token will be subject to strict throttling limits.\n"
     ]
    }
   ],
   "source": [
    "# from https://github.com/socrata/dev.socrata.com/blob/39c6581986466edb5e7f72f5beea5ce69238f8de/snippets/pandas.py\n",
    "\n",
    "import pandas as pd\n",
    "from sodapy import Socrata\n",
    "\n",
    "# Unauthenticated client only works with public data sets. Note 'None'\n",
    "# in place of application token, and no username or password:\n",
    "client = Socrata(\"data.cityofchicago.org\", None)\n",
    "\n",
    "# First 50000 results, returned as JSON from API \n",
    "# Connverted to Python list of dictionaries by sodapy.\n",
    "# Column names converted to snake case, special chars removed\n",
    "# Dates and location formatted\n",
    "results = client.get(\"4ijn-s7e5\", limit=50000)\n",
    "\n",
    "# Convert to pandas DataFrame\n",
    "inspections = pd.DataFrame.from_records(results)"
   ]
  },
  {
   "cell_type": "code",
   "execution_count": 75,
   "metadata": {},
   "outputs": [
    {
     "name": "stdout",
     "output_type": "stream",
     "text": [
      "50000\n",
      "100000\n",
      "150000\n",
      "200000\n"
     ]
    }
   ],
   "source": [
    "# Download remaining food inspections (limit 50000 / call)\n",
    "start = 50000\n",
    "while results:\n",
    "    print(start)\n",
    "    results = client.get(\"4ijn-s7e5\", limit=50000, offset=start)\n",
    "    inspections = inspections.append(pd.DataFrame.from_records(results))\n",
    "    start += 50000\n"
   ]
  },
  {
   "cell_type": "code",
   "execution_count": 76,
   "metadata": {},
   "outputs": [],
   "source": [
    "# Remove trailing backslash (left over from sodapy conversion of \"License #\")\n",
    "inspections.rename(columns={\"license_\": \"license\"}, inplace=True)"
   ]
  },
  {
   "cell_type": "code",
   "execution_count": 77,
   "metadata": {},
   "outputs": [],
   "source": [
    "# Drop rows with missing data\n",
    "inspections.dropna(subset=[\"inspection_date\", \"license\"], inplace=True)"
   ]
  },
  {
   "cell_type": "code",
   "execution_count": 78,
   "metadata": {},
   "outputs": [],
   "source": [
    "# Drop duplicates (currently none)\n",
    "inspections.drop_duplicates(\"inspection_id\", inplace=True)"
   ]
  },
  {
   "cell_type": "code",
   "execution_count": 79,
   "metadata": {},
   "outputs": [],
   "source": [
    "# Drop \"0\" licenses\n",
    "inspections = inspections[inspections.license != \"0\"]"
   ]
  },
  {
   "cell_type": "code",
   "execution_count": 46,
   "metadata": {},
   "outputs": [],
   "source": [
    "# Filter by date > 2011-09-01?"
   ]
  },
  {
   "cell_type": "code",
   "execution_count": 81,
   "metadata": {},
   "outputs": [],
   "source": [
    "# Only consider canvas inspections (not complaints or re-inspections)\n",
    "inspections = inspections[inspections.inspection_type == \"Canvass\"]"
   ]
  },
  {
   "cell_type": "code",
   "execution_count": 83,
   "metadata": {},
   "outputs": [],
   "source": [
    "# Only consider successful inspections\n",
    "inspections = inspections[~inspections.results.isin([\"Out of Business\", \"Business Not Located\", \"No Entry\"])]"
   ]
  },
  {
   "cell_type": "code",
   "execution_count": 85,
   "metadata": {},
   "outputs": [],
   "source": [
    "# Only consider restaurants and grocery stores (subject to change)\n",
    "inspections = inspections[inspections.facility_type.isin([\"Restaurant\", \"Grocery Store\"])]"
   ]
  },
  {
   "cell_type": "code",
   "execution_count": 86,
   "metadata": {},
   "outputs": [],
   "source": [
    "import os.path\n",
    "root_path = os.path.dirname(os.getcwd())\n",
    "\n",
    "# Save result\n",
    "inspections.to_csv(os.path.join(root_path, \"DATA/food_inspections.csv\"), index=False)"
   ]
  },
  {
   "cell_type": "code",
   "execution_count": null,
   "metadata": {},
   "outputs": [],
   "source": []
  }
 ],
 "metadata": {
  "kernelspec": {
   "display_name": "Python 3",
   "language": "python",
   "name": "python3"
  },
  "language_info": {
   "codemirror_mode": {
    "name": "ipython",
    "version": 3
   },
   "file_extension": ".py",
   "mimetype": "text/x-python",
   "name": "python",
   "nbconvert_exporter": "python",
   "pygments_lexer": "ipython3",
   "version": "3.6.4"
  }
 },
 "nbformat": 4,
 "nbformat_minor": 2
}
