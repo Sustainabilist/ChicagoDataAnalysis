{
 "cells": [
  {
   "cell_type": "code",
   "execution_count": 11,
   "metadata": {},
   "outputs": [],
   "source": [
    "import pandas as pd\n",
    "import os.path\n",
    "root_path = os.path.dirname(os.getcwd())\n",
    "\n",
    "# Import food inspection data\n",
    "inspections = pd.read_csv(os.path.join(root_path, \"DATA/food_inspections.csv\"))"
   ]
  },
  {
   "cell_type": "code",
   "execution_count": 18,
   "metadata": {},
   "outputs": [],
   "source": [
    "# Generate column names\n",
    "critical_columns = [(\"v_\" + str(num)) for num in range(1, 15)]\n",
    "serious_columns = [(\"v_\" + str(num)) for num in range(15, 30)]\n",
    "minor_columns = [(\"v_\" + str(num)) for num in range(30, 45)]\n",
    "minor_columns.append(\"v_70\")\n",
    "\n",
    "columns = critical_columns + serious_columns + minor_columns"
   ]
  },
  {
   "cell_type": "code",
   "execution_count": 13,
   "metadata": {},
   "outputs": [],
   "source": [
    "# Split violations into binary values for each violation\n",
    "def split_violations(violations):\n",
    "    values_row = pd.Series([])\n",
    "    \n",
    "    if type(violations) == str:\n",
    "        violations = violations.split(' | ')\n",
    "        for violation in violations:\n",
    "            index = \"v_\" + violation.split('.')[0]\n",
    "            values_row[index] = 1\n",
    "    return values_row"
   ]
  },
  {
   "cell_type": "code",
   "execution_count": 14,
   "metadata": {
    "scrolled": true
   },
   "outputs": [],
   "source": [
    "# 5 mins\n",
    "values_data = inspections.violations.apply(split_violations)"
   ]
  },
  {
   "cell_type": "code",
   "execution_count": 15,
   "metadata": {},
   "outputs": [],
   "source": [
    "# Ensure no missing columns, fill NaN\n",
    "values = pd.DataFrame(values_data, columns=columns).fillna(0)\n",
    "\n",
    "values['inspection_id'] = inspections.inspection_id"
   ]
  },
  {
   "cell_type": "code",
   "execution_count": 17,
   "metadata": {},
   "outputs": [],
   "source": [
    "# Count violations\n",
    "counts = pd.DataFrame({\n",
    "    \"critical_count\": values[critical_columns].sum(axis=1),\n",
    "    \"serious_count\": values[serious_columns].sum(axis=1),\n",
    "    \"minor_count\": values[minor_columns].sum(axis=1)\n",
    "})\n",
    "\n",
    "counts['inspection_id'] = inspections.inspection_id"
   ]
  },
  {
   "cell_type": "code",
   "execution_count": 22,
   "metadata": {},
   "outputs": [],
   "source": [
    "import os.path\n",
    "root_path = os.path.dirname(os.getcwd())\n",
    "\n",
    "# Save violation values and counts\n",
    "values.to_csv(os.path.join(root_path, \"DATA/violation_values.csv\"), index=False)\n",
    "counts.to_csv(os.path.join(root_path, \"DATA/violation_counts.csv\"), index=False)"
   ]
  },
  {
   "cell_type": "code",
   "execution_count": null,
   "metadata": {},
   "outputs": [],
   "source": []
  }
 ],
 "metadata": {
  "kernelspec": {
   "display_name": "Python 3",
   "language": "python",
   "name": "python3"
  },
  "language_info": {
   "codemirror_mode": {
    "name": "ipython",
    "version": 3
   },
   "file_extension": ".py",
   "mimetype": "text/x-python",
   "name": "python",
   "nbconvert_exporter": "python",
   "pygments_lexer": "ipython3",
   "version": "3.6.4"
  }
 },
 "nbformat": 4,
 "nbformat_minor": 2
}
