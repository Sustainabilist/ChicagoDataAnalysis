{
 "cells": [
  {
   "cell_type": "code",
   "execution_count": 1,
   "metadata": {},
   "outputs": [],
   "source": [
    "import pandas as pd\n",
    "import os.path\n",
    "root_path = os.path.dirname(os.getcwd())\n",
    "\n",
    "# Import food inspection data\n",
    "inspections = pd.read_csv(os.path.join(root_path, \"DATA/food_inspections.csv\"))"
   ]
  },
  {
   "cell_type": "code",
   "execution_count": 2,
   "metadata": {},
   "outputs": [],
   "source": [
    "# Generate column names\n",
    "critical_columns = [(\"v_\" + str(num)) for num in range(1, 15)]\n",
    "serious_columns = [(\"v_\" + str(num)) for num in range(15, 30)]\n",
    "minor_columns = [(\"v_\" + str(num)) for num in range(30, 45)]\n",
    "minor_columns.append(\"v_70\")\n",
    "\n",
    "columns = critical_columns + serious_columns + minor_columns"
   ]
  },
  {
   "cell_type": "code",
   "execution_count": 3,
   "metadata": {},
   "outputs": [],
   "source": [
    "# Split violations into binary values for each violation\n",
    "def split_violations(violations):\n",
    "    values_row = pd.Series([])\n",
    "    \n",
    "    if type(violations) == str:\n",
    "        violations = violations.split(' | ')\n",
    "        for violation in violations:\n",
    "            index = \"v_\" + violation.split('.')[0]\n",
    "            values_row[index] = 1\n",
    "    return values_row"
   ]
  },
  {
   "cell_type": "code",
   "execution_count": 4,
   "metadata": {
    "scrolled": true
   },
   "outputs": [],
   "source": [
    "# 5 mins\n",
    "values_data = inspections.violations.apply(split_violations)"
   ]
  },
  {
   "cell_type": "code",
   "execution_count": 5,
   "metadata": {},
   "outputs": [],
   "source": [
    "# Ensure no missing columns, fill NaN\n",
    "values = pd.DataFrame(values_data, columns=columns).fillna(0)\n",
    "\n",
    "values['inspection_id'] = inspections.inspection_id"
   ]
  },
  {
   "cell_type": "code",
   "execution_count": 6,
   "metadata": {},
   "outputs": [],
   "source": [
    "# Count violations\n",
    "counts = pd.DataFrame({\n",
    "    \"critical_count\": values[critical_columns].sum(axis=1),\n",
    "    \"serious_count\": values[serious_columns].sum(axis=1),\n",
    "    \"minor_count\": values[minor_columns].sum(axis=1)\n",
    "})\n",
    "\n",
    "counts['inspection_id'] = inspections.inspection_id"
   ]
  },
  {
   "cell_type": "code",
   "execution_count": 7,
   "metadata": {},
   "outputs": [],
   "source": [
    "titles = pd.DataFrame({\n",
    "    \"v_1\": \"Approved food sources (1)\",\n",
    "    \"v_2\": \"Hot/cold storage facilities (2)\",\n",
    "    \"v_3\": \"Hot/cold storage temp. (3)\",\n",
    "    \"v_4\": \"Contaminant protection (4)\",\n",
    "    \"v_5\": \"No sick handlers (5)\",\n",
    "    \"v_6\": \"Proper hand washing (6)\",\n",
    "    \"v_7\": \"Proper utensil washing (7)\",\n",
    "    \"v_8\": \"Proper sanitizing solution (8)\",\n",
    "    \"v_9\": \"Hot/cold water supply (9)\",\n",
    "    \"v_10\": \"Waste water disposal (10)\",\n",
    "    \"v_11\": \"Adequate toilet facilities (11)\",\n",
    "    \"v_12\": \"Adequate hand washing facilities (12)\",\n",
    "    \"v_13\": \"Control of rodents, other pests (13)\",\n",
    "    \"v_14\": \"Correct serious violations (14)\",\n",
    "    \"v_15\": \"No re-served food (15)\",\n",
    "    \"v_16\": \"Protection from contamination (16)\",\n",
    "    \"v_17\": \"Proper thawing (17)\",\n",
    "    \"v_18\": \"Pest control, associated areas (18)\",\n",
    "    \"v_19\": \"Proper garbage area (19)\",\n",
    "    \"v_20\": \"Proper garbage storage (20)\",\n",
    "    \"v_21\": \"Oversight of hazardous food (21)\",\n",
    "    \"v_22\": \"Dishwasher maintenance (22)\",\n",
    "    \"v_23\": \"Scrape before washing (23)\",\n",
    "    \"v_24\": \"Proper dishwashers (24)\",\n",
    "    \"v_25\": \"Minimize toxic materials (25)\",\n",
    "    \"v_26\": \"Adequate customer toilets (26)\",\n",
    "    \"v_27\": \"Supplied toilet facilities (27)\",\n",
    "    \"v_28\": \"Visible inspection report (28)\",\n",
    "    \"v_29\": \"Correct minor violations (29)\",\n",
    "    \"v_30\": \"Labelled containers (30)\",\n",
    "    \"v_31\": \"Sterile utensils (31)\",\n",
    "    \"v_32\": \"Clean, maintain equipment (32)\",\n",
    "    \"v_33\": \"Clean, sanitize utensils (33)\",\n",
    "    \"v_34\": \"Clean, maintain floor (34)\",\n",
    "    \"v_35\": \"Maintain walls & ceiling (35)\",\n",
    "    \"v_36\": \"Proper lighting (36)\",\n",
    "    \"v_37\": \"Toilet rooms vented (37)\",\n",
    "    \"v_38\": \"Proper venting, plumbing (38)\",\n",
    "    \"v_39\": \"Linen, clothing storage (39)\",\n",
    "    \"v_40\": \"Proper thermometers (40)\",\n",
    "    \"v_41\": \"Clean facilities, store supplies (41)\",\n",
    "    \"v_42\": \"Ice handling, hairnets, clothes (42)\",\n",
    "    \"v_43\": \"Ice equipment storage (43)\",\n",
    "    \"v_44\": \"Restrict prep area traffic (44)\",\n",
    "    \"v_70\": \"Restrict smoking (70)\"\n",
    "}, index=[0])"
   ]
  },
  {
   "cell_type": "code",
   "execution_count": 8,
   "metadata": {},
   "outputs": [],
   "source": [
    "import os.path\n",
    "root_path = os.path.dirname(os.getcwd())\n",
    "\n",
    "# Save results\n",
    "values.to_csv(os.path.join(root_path, \"DATA/violation_values.csv\"), index=False)\n",
    "counts.to_csv(os.path.join(root_path, \"DATA/violation_counts.csv\"), index=False)\n",
    "titles.to_csv(os.path.join(root_path, \"DATA/violation_titles.csv\"), index=False)"
   ]
  },
  {
   "cell_type": "code",
   "execution_count": null,
   "metadata": {},
   "outputs": [],
   "source": []
  }
 ],
 "metadata": {
  "kernelspec": {
   "display_name": "Python [default]",
   "language": "python",
   "name": "python3"
  },
  "language_info": {
   "codemirror_mode": {
    "name": "ipython",
    "version": 3
   },
   "file_extension": ".py",
   "mimetype": "text/x-python",
   "name": "python",
   "nbconvert_exporter": "python",
   "pygments_lexer": "ipython3",
   "version": "3.6.5"
  }
 },
 "nbformat": 4,
 "nbformat_minor": 2
}
