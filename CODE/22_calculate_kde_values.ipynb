{
 "cells": [
  {
   "cell_type": "code",
   "execution_count": 22,
   "metadata": {},
   "outputs": [],
   "source": [
    "import numpy as np\n",
    "import pandas as pd\n",
    "import os.path\n",
    "\n",
    "root_path = os.path.dirname(os.getcwd())\n",
    "\n",
    "# Load inspections\n",
    "inspections = pd.read_csv(os.path.join(root_path, \"DATA/food_inspections.csv\"))\n",
    "\n",
    "# Load observation datasets\n",
    "burglaries = pd.read_csv(os.path.join(root_path, \"DATA/burglaries.csv\"))\n",
    "carts = pd.read_csv(os.path.join(root_path, \"DATA/garbage_carts.csv\"))\n",
    "complaints = pd.read_csv(os.path.join(root_path, \"DATA/sanitation_complaints.csv\"))"
   ]
  },
  {
   "cell_type": "code",
   "execution_count": 30,
   "metadata": {},
   "outputs": [
    {
     "data": {
      "text/plain": [
       "datetime.datetime(2018, 7, 3, 9, 39, 20, 575972)"
      ]
     },
     "execution_count": 30,
     "metadata": {},
     "output_type": "execute_result"
    }
   ],
   "source": []
  },
  {
   "cell_type": "code",
   "execution_count": 23,
   "metadata": {},
   "outputs": [],
   "source": [
    "# Rename creation_date for consistency with burglaries\n",
    "carts.rename(columns={\"creation_date\": \"date\"}, inplace=True)\n",
    "complaints.rename(columns={\"creation_date\": \"date\"}, inplace=True)"
   ]
  },
  {
   "cell_type": "code",
   "execution_count": 4,
   "metadata": {},
   "outputs": [
    {
     "name": "stdout",
     "output_type": "stream",
     "text": [
      "arrest\n",
      "beat\n",
      "block\n",
      "case_number\n",
      "community_area\n",
      "date\n",
      "description\n",
      "district\n",
      "domestic\n",
      "fbi_code\n",
      "id\n",
      "iucr\n",
      "latitude\n",
      "location\n",
      "location_description\n",
      "longitude\n",
      "primary_type\n",
      "updated_on\n",
      "ward\n",
      "x_coordinate\n",
      "y_coordinate\n",
      "year\n"
     ]
    }
   ],
   "source": [
    "for col in burglaries.columns:\n",
    "        print(col)"
   ]
  },
  {
   "cell_type": "code",
   "execution_count": 25,
   "metadata": {},
   "outputs": [
    {
     "name": "stdout",
     "output_type": "stream",
     "text": [
      "314851 153830 136804\n"
     ]
    }
   ],
   "source": [
    "print(len(carts), len(burglaries), len(complaints))"
   ]
  },
  {
   "cell_type": "code",
   "execution_count": null,
   "metadata": {},
   "outputs": [],
   "source": [
    "from datetime import datetime, timedelta"
   ]
  },
  {
   "cell_type": "code",
   "execution_count": 26,
   "metadata": {},
   "outputs": [],
   "source": [
    "inspections.inspection_date = pd.to_datetime(inspections.inspection_date)"
   ]
  },
  {
   "cell_type": "code",
   "execution_count": 43,
   "metadata": {},
   "outputs": [],
   "source": [
    "window = 180\n",
    "df = complaints\n",
    "df.date = pd.to_datetime(df.date)"
   ]
  },
  {
   "cell_type": "code",
   "execution_count": 44,
   "metadata": {},
   "outputs": [],
   "source": [
    "def get_observations(inspection):\n",
    "    start = inspection.inspection_date - timedelta(days=window)\n",
    "    obs = df.loc[df.date.between(start, inspection.inspection_date)]\n",
    "    return len(obs)"
   ]
  },
  {
   "cell_type": "code",
   "execution_count": 45,
   "metadata": {},
   "outputs": [
    {
     "data": {
      "text/plain": [
       "0        104\n",
       "1000       5\n",
       "2000       5\n",
       "3000      13\n",
       "4000       3\n",
       "5000      13\n",
       "6000      71\n",
       "7000     161\n",
       "8000     135\n",
       "9000     112\n",
       "10000    148\n",
       "11000    157\n",
       "12000     50\n",
       "13000     23\n",
       "dtype: int64"
      ]
     },
     "execution_count": 45,
     "metadata": {},
     "output_type": "execute_result"
    }
   ],
   "source": [
    "inspections.sample(1000).apply(get_observations, axis=1).round(-3).value_counts().sort_index()"
   ]
  },
  {
   "cell_type": "code",
   "execution_count": 19,
   "metadata": {},
   "outputs": [
    {
     "data": {
      "text/plain": [
       "2003        1\n",
       "2004        1\n",
       "2008        2\n",
       "2010     3359\n",
       "2011    43086\n",
       "2012    43540\n",
       "2013    38350\n",
       "2014    36584\n",
       "2015    42527\n",
       "2016    48165\n",
       "2017    41823\n",
       "2018    17413\n",
       "Name: date, dtype: int64"
      ]
     },
     "execution_count": 19,
     "metadata": {},
     "output_type": "execute_result"
    }
   ],
   "source": [
    "carts.date.apply(lambda x: x[0:4]).value_counts().sort_index()"
   ]
  },
  {
   "cell_type": "code",
   "execution_count": 20,
   "metadata": {},
   "outputs": [
    {
     "data": {
      "text/plain": [
       "2010    26421\n",
       "2011    26616\n",
       "2012    22840\n",
       "2013    17893\n",
       "2014    14563\n",
       "2015    13103\n",
       "2016    14278\n",
       "2017    12942\n",
       "2018     5174\n",
       "Name: date, dtype: int64"
      ]
     },
     "execution_count": 20,
     "metadata": {},
     "output_type": "execute_result"
    }
   ],
   "source": [
    "burglaries.date.apply(lambda x: x[0:4]).value_counts().sort_index()"
   ]
  },
  {
   "cell_type": "code",
   "execution_count": 21,
   "metadata": {},
   "outputs": [
    {
     "data": {
      "text/plain": [
       "2000       28\n",
       "2010      137\n",
       "2011    17205\n",
       "2012    18065\n",
       "2013    17233\n",
       "2014    18060\n",
       "2015    18391\n",
       "2016    20181\n",
       "2017    18797\n",
       "2018     8707\n",
       "Name: date, dtype: int64"
      ]
     },
     "execution_count": 21,
     "metadata": {},
     "output_type": "execute_result"
    }
   ],
   "source": [
    "complaints.date.apply(lambda x: x[0:4]).value_counts().sort_index()"
   ]
  },
  {
   "cell_type": "code",
   "execution_count": 24,
   "metadata": {},
   "outputs": [
    {
     "data": {
      "text/plain": [
       "2010     6983\n",
       "2011     7528\n",
       "2012     6818\n",
       "2013     8812\n",
       "2014    10084\n",
       "2015     8972\n",
       "2016    10526\n",
       "2017     9220\n",
       "2018     2643\n",
       "Name: inspection_date, dtype: int64"
      ]
     },
     "execution_count": 24,
     "metadata": {},
     "output_type": "execute_result"
    }
   ],
   "source": [
    "inspections.inspection_date.apply(lambda x: x[0:4]).value_counts().sort_index()"
   ]
  },
  {
   "cell_type": "code",
   "execution_count": null,
   "metadata": {},
   "outputs": [],
   "source": []
  }
 ],
 "metadata": {
  "kernelspec": {
   "display_name": "Python 3",
   "language": "python",
   "name": "python3"
  },
  "language_info": {
   "codemirror_mode": {
    "name": "ipython",
    "version": 3
   },
   "file_extension": ".py",
   "mimetype": "text/x-python",
   "name": "python",
   "nbconvert_exporter": "python",
   "pygments_lexer": "ipython3",
   "version": "3.6.5"
  }
 },
 "nbformat": 4,
 "nbformat_minor": 2
}
