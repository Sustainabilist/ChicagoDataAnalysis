{
 "cells": [
  {
   "cell_type": "markdown",
   "metadata": {},
   "source": [
    "# Revisiting Food-Safety Inspections from the Chicago Dataset - A Tutorial (Part 2)"
   ]
  },
  {
   "cell_type": "markdown",
   "metadata": {},
   "source": [
    "## 1. In Review"
   ]
  },
  {
   "cell_type": "markdown",
   "metadata": {},
   "source": [
    "## 2. Kernel Density Estimation\n",
    "[HAVEN'T WRITTEN THE CODE FOR THIS]\n",
    "* gaussian kde\n",
    "* 90 day window\n",
    "* kde for garbage, crime, sanitation\n",
    "* call something other than heat map to avoid confuion?"
   ]
  },
  {
   "cell_type": "markdown",
   "metadata": {
    "colab_type": "text",
    "id": "VRZ0Gd9aQwBv"
   },
   "source": [
    "## 3. Calculation of Model Data\n",
    "We then set out derive all features originally considered by the Chicago team plus several novel features, translating from R to Python in the process. While relative weights in forecasting individual violations rather than number of critical violations may be different, we expect the significant databases and [NEEDS REPHRASING & STUFF]\n",
    "\n",
    "[MAYBE HAVE BULLET POINTS FOR DATABASES, FEATURES]\n",
    "\n",
    "Each row of the final training dataset represents an inspection, its outcomes, and a number of other features. [SOMETHING ABOUT TRAINING METHODOLOGY, MAYBE ABOUT FIGURING OUT WHICH FEATURES MATTER FOR WHICH]\n",
    "\n",
    "We used the inspections database as the basis for our training data.\n",
    "\n",
    "List of features is as follows:\n",
    "\n",
    "### 3.1. features from food inspection data\n",
    "[NEED TO WRITE THIS UP]\n",
    "* used subset of inspections as basis\n",
    "* merged with violation values & counts on inspection id\n",
    "* created pass / fail flags\n",
    "* sorted by date, shifted to get previous info\n",
    "  * past fail\n",
    "  * past critical, serious, minor\n",
    "  * inspections with no past default to 0\n",
    "* calculate time since last\n",
    "  * binary first_record\n",
    "  * time since last defaults to 2\n",
    "  \n",
    "### 3.2. features from business license data\n",
    "[YET TO BE CALCULATED]\n",
    "  \n",
    "### 3.3. from heat maps\n",
    "[YET TO BE CALCULATED]\n",
    "  \n",
    "### 3.4. from weather\n",
    "[YET TO BE CALCULATED"
   ]
  },
  {
   "cell_type": "markdown",
   "metadata": {},
   "source": [
    "## 4. Generating Model"
   ]
  }
 ],
 "metadata": {
  "colab": {
   "collapsed_sections": [],
   "default_view": {},
   "name": "publication_1",
   "provenance": [
    {
     "file_id": "1cr478KRLrD-8amy4zC7yPwnQfaPFcpts",
     "timestamp": 1529284676149
    }
   ],
   "version": "0.3.2",
   "views": {}
  },
  "kernelspec": {
   "display_name": "Python 3",
   "language": "python",
   "name": "python3"
  },
  "language_info": {
   "codemirror_mode": {
    "name": "ipython",
    "version": 3
   },
   "file_extension": ".py",
   "mimetype": "text/x-python",
   "name": "python",
   "nbconvert_exporter": "python",
   "pygments_lexer": "ipython3",
   "version": "3.6.5"
  }
 },
 "nbformat": 4,
 "nbformat_minor": 1
}
