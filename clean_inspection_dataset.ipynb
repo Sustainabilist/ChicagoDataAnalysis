{
 "cells": [
  {
   "cell_type": "code",
   "execution_count": 160,
   "metadata": {},
   "outputs": [],
   "source": [
    "# Install necessary packages"
   ]
  },
  {
   "cell_type": "code",
   "execution_count": 15,
   "metadata": {},
   "outputs": [],
   "source": [
    "import numpy as np\n",
    "import pandas as pd\n",
    "import re"
   ]
  },
  {
   "cell_type": "code",
   "execution_count": 16,
   "metadata": {},
   "outputs": [],
   "source": [
    "# Import origional CSV file for all inspections"
   ]
  },
  {
   "cell_type": "code",
   "execution_count": 17,
   "metadata": {},
   "outputs": [],
   "source": [
    "inspections = pd.read_csv('../inspections.csv')"
   ]
  },
  {
   "cell_type": "code",
   "execution_count": 18,
   "metadata": {},
   "outputs": [],
   "source": [
    "# Snake case function to standardize and format column headers"
   ]
  },
  {
   "cell_type": "code",
   "execution_count": 19,
   "metadata": {},
   "outputs": [],
   "source": [
    "def snake_case(title):\n",
    "    title = title.lower().replace(\" \", \"_\")\n",
    "    title = re.sub('\\W+',\"\", title)\n",
    "    if len(title) > 1:\n",
    "        if title[-1] == \"_\":\n",
    "            return title[:-1]\n",
    "    return title"
   ]
  },
  {
   "cell_type": "code",
   "execution_count": 20,
   "metadata": {},
   "outputs": [],
   "source": [
    "# Snake case funtion test"
   ]
  },
  {
   "cell_type": "code",
   "execution_count": 21,
   "metadata": {},
   "outputs": [
    {
     "data": {
      "text/plain": [
       "'hello_you_person'"
      ]
     },
     "execution_count": 21,
     "metadata": {},
     "output_type": "execute_result"
    }
   ],
   "source": [
    "string = \"HEllo you PErson!@\"\n",
    "\n",
    "\n",
    "snake_case(string)"
   ]
  },
  {
   "cell_type": "code",
   "execution_count": null,
   "metadata": {},
   "outputs": [],
   "source": [
    "# Reformat all column headers"
   ]
  },
  {
   "cell_type": "code",
   "execution_count": 43,
   "metadata": {},
   "outputs": [
    {
     "data": {
      "text/plain": [
       "Index(['inspection_id', 'dba_name', 'aka_name', 'license', 'facility_type',\n",
       "       'risk', 'address', 'city', 'state', 'zip', 'inspection_date',\n",
       "       'inspection_type', 'results', 'violations', 'latitude', 'longitude',\n",
       "       'location'],\n",
       "      dtype='object')"
      ]
     },
     "execution_count": 43,
     "metadata": {},
     "output_type": "execute_result"
    }
   ],
   "source": [
    "inspections.columns = [snake_case(x) for x in inspections.columns]\n",
    "inspections.columns"
   ]
  },
  {
   "cell_type": "code",
   "execution_count": null,
   "metadata": {},
   "outputs": [],
   "source": [
    "# Prototype function for cleaning violations column to separate out comments and separate out violations"
   ]
  },
  {
   "cell_type": "code",
   "execution_count": 41,
   "metadata": {},
   "outputs": [
    {
     "data": {
      "text/plain": [
       "['31. CLEAN MULTI-USE UTENSILS AND SINGLE SERVICE ARTICLES PROPERLY STORED: NO REUSE OF SINGLE SERVICE ARTICLES',\n",
       " 'INVERT ALL CARRYOUT CONTAINERS TO PROTECT FROM DUST, DIRT, AND CONTAMINATION.']"
      ]
     },
     "execution_count": 41,
     "metadata": {},
     "output_type": "execute_result"
    }
   ],
   "source": [
    "inspections[\"violations\"][0].split(\" | \")[0].split(\" - Comments: \")"
   ]
  },
  {
   "cell_type": "code",
   "execution_count": 35,
   "metadata": {},
   "outputs": [
    {
     "data": {
      "text/plain": [
       "['31. CLEAN MULTI-USE UTENSILS AND SINGLE SERVICE ARTICLES PROPERLY STORED: NO REUSE OF SINGLE SERVICE ARTICLES',\n",
       " 'INVERT ALL CARRYOUT CONTAINERS TO PROTECT FROM DUST, DIRT, AND CONTAMINATION. | 32. FOOD AND NON-FOOD CONTACT SURFACES PROPERLY DESIGNED, CONSTRUCTED AND MAINTAINED',\n",
       " 'REMOVE MILK CRATES AND PROVIDE ADEQUATE SHELVING FOR STORAGE IN PREP AREA. | 33. FOOD AND NON-FOOD CONTACT EQUIPMENT UTENSILS CLEAN, FREE OF ABRASIVE DETERGENTS',\n",
       " 'CLEAN INTERIOR AND EXTERIOR OF PREP TABLES, COOLERS, SINKS, COUNTERS, SHELVING UNITS, BULK CONTAINERS, BEVERAGE MACHINES, AND OUTLETS IN PREP AREA. | 34. FLOORS: CONSTRUCTED PER CODE, CLEANED, GOOD REPAIR, COVING INSTALLED, DUST-LESS CLEANING METHODS USED',\n",
       " 'CLEAN FLOORS UNDER ALL EQUIPMENT, ALONG WALLS AND IN ALL CORNERS IN PREP AND STORAGE AREAS. | 41. PREMISES MAINTAINED FREE OF LITTER, UNNECESSARY ARTICLES, CLEANING  EQUIPMENT PROPERLY STORED',\n",
       " 'ELEVATE ALL STOCK OFF FLOOR IN REAR STORAGE AREA.']"
      ]
     },
     "execution_count": 35,
     "metadata": {},
     "output_type": "execute_result"
    }
   ],
   "source": [
    "inspections[\"violations\"][0].split(\" - Comments: \")"
   ]
  },
  {
   "cell_type": "code",
   "execution_count": 46,
   "metadata": {},
   "outputs": [
    {
     "data": {
      "text/plain": [
       "SUBWAY                                       2328\n",
       "DUNKIN DONUTS                                1209\n",
       "MCDONALD'S                                    510\n",
       "7-ELEVEN                                      396\n",
       "MCDONALDS                                     297\n",
       "CHIPOTLE MEXICAN GRILL                        277\n",
       "POTBELLY SANDWICH WORKS LLC                   237\n",
       "CORNER BAKERY CAFE                            212\n",
       "POTBELLY SANDWICH WORKS                       206\n",
       "DUNKIN DONUTS/BASKIN ROBBINS                  193\n",
       "DOMINO'S PIZZA                                183\n",
       "SPORTSERVICE SOLDIER FIELD                    176\n",
       "AU BON PAIN                                   175\n",
       "FRESHII                                       175\n",
       "WHOLE FOODS MARKET                            175\n",
       "SUBWAY SANDWICHES                             172\n",
       "HAROLD'S CHICKEN SHACK                        167\n",
       "KFC                                           161\n",
       "Subway                                        154\n",
       "SEE THRU CHINESE KITCHEN                      139\n",
       "SHARKS FISH & CHICKEN                         135\n",
       "PIZZA HUT                                     126\n",
       "J & J FISH                                    124\n",
       "MC DONALD'S                                   123\n",
       "CITGO                                         122\n",
       "JIMMY JOHN'S                                  116\n",
       "STARBUCKS                                     114\n",
       "JIMMY JOHNS                                   113\n",
       "LAS ISLAS MARIAS                              111\n",
       "PAPA JOHN'S PIZZA                             111\n",
       "                                             ... \n",
       "C & S INC                                       1\n",
       "Cynthia's Gumbo Express Inc.                    1\n",
       "O Restaurant & Lounge                           1\n",
       "GRANDMA'S RESTAURANT & PANCAKE HOSE, INC.       1\n",
       "REHMAN FOOD MART                                1\n",
       "THE TAVERN                                      1\n",
       "PARKSIDE FOOD AND LIQUOR                        1\n",
       "BEEFEES GRILL INC.                              1\n",
       "FAULKNER SCHOOL                                 1\n",
       "SHREEJI CONVENIENCE STORE                       1\n",
       "CHICAGO POPCORN WORK                            1\n",
       "Al's Beef & Nancy's Pizza                       1\n",
       "DEB'S SNACKS                                    1\n",
       "TASTE OF HAWAIIAN PARADISE, LLC                 1\n",
       "CHINESE GOURMET EXPRESS                         1\n",
       "ITALIAN FOOD PIZZERIA                           1\n",
       "ANSARI  NEWSTAND  INC.                          1\n",
       "B & B GROCERY LIQUOR INC                        1\n",
       "PANDA EXPRESS #137                              1\n",
       "MERCEDES BENZ OF CHICAGO                        1\n",
       "BLUE                                            1\n",
       "NEW RIALTO LOUNGE                               1\n",
       "CAMPBELL FOOD & LIQUOR INC                      1\n",
       "BORIMEX #1                                      1\n",
       "SAM'S FOOD & LIQUORS                            1\n",
       "KENNY'S GRILL                                   1\n",
       "EL POTOSINO GRILL                               1\n",
       "1021 MONTROSE                                   1\n",
       "CEYLONS CONVENIENT STORE                        1\n",
       "ANGELO'S GROCERY                                1\n",
       "Name: dba_name, Length: 25579, dtype: int64"
      ]
     },
     "execution_count": 46,
     "metadata": {},
     "output_type": "execute_result"
    }
   ],
   "source": [
    "inspections['dba_name'].value_counts()"
   ]
  },
  {
   "cell_type": "code",
   "execution_count": null,
   "metadata": {},
   "outputs": [],
   "source": []
  }
 ],
 "metadata": {
  "kernelspec": {
   "display_name": "Python 3",
   "language": "python",
   "name": "python3"
  },
  "language_info": {
   "codemirror_mode": {
    "name": "ipython",
    "version": 3
   },
   "file_extension": ".py",
   "mimetype": "text/x-python",
   "name": "python",
   "nbconvert_exporter": "python",
   "pygments_lexer": "ipython3",
   "version": "3.6.5"
  }
 },
 "nbformat": 4,
 "nbformat_minor": 2
}
