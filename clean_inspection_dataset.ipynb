{
 "cells": [
  {
   "cell_type": "code",
   "execution_count": 160,
   "metadata": {},
   "outputs": [],
   "source": [
    "# Install necessary packages"
   ]
  },
  {
   "cell_type": "code",
   "execution_count": 139,
   "metadata": {},
   "outputs": [],
   "source": [
    "import numpy as np\n",
    "import pandas as pd\n",
    "import re"
   ]
  },
  {
   "cell_type": "code",
   "execution_count": 140,
   "metadata": {},
   "outputs": [],
   "source": [
    "# Import origional CSV file for all inspections"
   ]
  },
  {
   "cell_type": "code",
   "execution_count": 141,
   "metadata": {},
   "outputs": [],
   "source": [
    "inspections = pd.read_csv('../inspections.csv')"
   ]
  },
  {
   "cell_type": "code",
   "execution_count": 142,
   "metadata": {},
   "outputs": [],
   "source": [
    "# Snake case function to standardize and format column headers"
   ]
  },
  {
   "cell_type": "code",
   "execution_count": 143,
   "metadata": {},
   "outputs": [],
   "source": [
    "def snake_case(title):\n",
    "    title = title.lower().replace(\" \", \"_\")\n",
    "    title = re.sub('\\W+',\"\", title)\n",
    "    if len(title) > 1:\n",
    "        if title[-1] == \"_\":\n",
    "            return title[:-1]\n",
    "    return title"
   ]
  },
  {
   "cell_type": "code",
   "execution_count": 144,
   "metadata": {},
   "outputs": [],
   "source": [
    "# Snake case funtion test"
   ]
  },
  {
   "cell_type": "code",
   "execution_count": 145,
   "metadata": {},
   "outputs": [
    {
     "data": {
      "text/plain": [
       "'hello_you_person'"
      ]
     },
     "execution_count": 145,
     "metadata": {},
     "output_type": "execute_result"
    }
   ],
   "source": [
    "string = \"HEllo you PErson!@\"\n",
    "\n",
    "\n",
    "snake_case(string)"
   ]
  },
  {
   "cell_type": "code",
   "execution_count": 146,
   "metadata": {},
   "outputs": [],
   "source": [
    "# Reformat all column headers"
   ]
  },
  {
   "cell_type": "code",
   "execution_count": 147,
   "metadata": {},
   "outputs": [
    {
     "data": {
      "text/plain": [
       "Index(['inspection_id', 'dba_name', 'aka_name', 'license', 'facility_type',\n",
       "       'risk', 'address', 'city', 'state', 'zip', 'inspection_date',\n",
       "       'inspection_type', 'results', 'violations', 'latitude', 'longitude',\n",
       "       'location'],\n",
       "      dtype='object')"
      ]
     },
     "execution_count": 147,
     "metadata": {},
     "output_type": "execute_result"
    }
   ],
   "source": [
    "inspections.columns = [snake_case(x) for x in inspections.columns]\n",
    "inspections.columns"
   ]
  },
  {
   "cell_type": "code",
   "execution_count": 148,
   "metadata": {},
   "outputs": [],
   "source": [
    "# Prototype function for cleaning violations column to separate out comments and separate out violations"
   ]
  },
  {
   "cell_type": "code",
   "execution_count": 149,
   "metadata": {},
   "outputs": [],
   "source": [
    "inspections[\"comments\"] = inspections[\"violations\"][0].split(\" | \")[0].split(\" - Comments: \")[1]\n"
   ]
  },
  {
   "cell_type": "code",
   "execution_count": 150,
   "metadata": {},
   "outputs": [],
   "source": [
    "def get_violations(inspections):\n",
    "    violation_list = []\n",
    "    for violations in inspections[\"violations\"]:\n",
    "        if type(violations) is str:\n",
    "            violations = violations.split(\" | \")\n",
    "            for violation in violations:\n",
    "                single_violation = violation.split(\" - Comments: \")[0]\n",
    "                if single_violation not in violation_list:\n",
    "                    violation_list.append(single_violation)\n",
    "    return violation_list"
   ]
  },
  {
   "cell_type": "code",
   "execution_count": 151,
   "metadata": {},
   "outputs": [],
   "source": [
    "# Function to correctly number violations"
   ]
  },
  {
   "cell_type": "code",
   "execution_count": 155,
   "metadata": {},
   "outputs": [],
   "source": [
    "def number_violations(violations):\n",
    "    numbered_violations = []\n",
    "    for violation in unsorted_violations:\n",
    "        number_violation = violation.split(' ',1)\n",
    "        number_violation[0] = int(float(number_violation[0]))\n",
    "        numbered_violations.append(number_violation)\n",
    "    return numbered_violations"
   ]
  },
  {
   "cell_type": "code",
   "execution_count": null,
   "metadata": {},
   "outputs": [],
   "source": []
  },
  {
   "cell_type": "code",
   "execution_count": 156,
   "metadata": {},
   "outputs": [],
   "source": [
    "# Make sorted violations dataframe"
   ]
  },
  {
   "cell_type": "code",
   "execution_count": 134,
   "metadata": {},
   "outputs": [
    {
     "data": {
      "text/html": [
       "<div>\n",
       "<style scoped>\n",
       "    .dataframe tbody tr th:only-of-type {\n",
       "        vertical-align: middle;\n",
       "    }\n",
       "\n",
       "    .dataframe tbody tr th {\n",
       "        vertical-align: top;\n",
       "    }\n",
       "\n",
       "    .dataframe thead th {\n",
       "        text-align: right;\n",
       "    }\n",
       "</style>\n",
       "<table border=\"1\" class=\"dataframe\">\n",
       "  <thead>\n",
       "    <tr style=\"text-align: right;\">\n",
       "      <th></th>\n",
       "      <th>violation_number</th>\n",
       "      <th>violation</th>\n",
       "    </tr>\n",
       "  </thead>\n",
       "  <tbody>\n",
       "    <tr>\n",
       "      <th>31</th>\n",
       "      <td>1</td>\n",
       "      <td>SOURCE SOUND CONDITION, NO SPOILAGE, FOODS PRO...</td>\n",
       "    </tr>\n",
       "    <tr>\n",
       "      <th>9</th>\n",
       "      <td>2</td>\n",
       "      <td>FACILITIES TO MAINTAIN PROPER TEMPERATURE</td>\n",
       "    </tr>\n",
       "    <tr>\n",
       "      <th>8</th>\n",
       "      <td>3</td>\n",
       "      <td>POTENTIALLY HAZARDOUS FOOD MEETS TEMPERATURE R...</td>\n",
       "    </tr>\n",
       "    <tr>\n",
       "      <th>32</th>\n",
       "      <td>6</td>\n",
       "      <td>HANDS WASHED AND CLEANED, GOOD HYGIENIC PRACTI...</td>\n",
       "    </tr>\n",
       "    <tr>\n",
       "      <th>27</th>\n",
       "      <td>8</td>\n",
       "      <td>SANITIZING RINSE FOR EQUIPMENT AND UTENSILS:  ...</td>\n",
       "    </tr>\n",
       "    <tr>\n",
       "      <th>22</th>\n",
       "      <td>10</td>\n",
       "      <td>SEWAGE AND WASTE WATER DISPOSAL, NO BACK SIPHO...</td>\n",
       "    </tr>\n",
       "    <tr>\n",
       "      <th>23</th>\n",
       "      <td>11</td>\n",
       "      <td>ADEQUATE NUMBER, CONVENIENT, ACCESSIBLE, DESIG...</td>\n",
       "    </tr>\n",
       "    <tr>\n",
       "      <th>12</th>\n",
       "      <td>12</td>\n",
       "      <td>HAND WASHING FACILITIES: WITH SOAP AND SANITAR...</td>\n",
       "    </tr>\n",
       "    <tr>\n",
       "      <th>28</th>\n",
       "      <td>14</td>\n",
       "      <td>PREVIOUS SERIOUS VIOLATION CORRECTED, 7-42-090</td>\n",
       "    </tr>\n",
       "    <tr>\n",
       "      <th>13</th>\n",
       "      <td>16</td>\n",
       "      <td>FOOD PROTECTED DURING STORAGE, PREPARATION, DI...</td>\n",
       "    </tr>\n",
       "    <tr>\n",
       "      <th>6</th>\n",
       "      <td>18</td>\n",
       "      <td>NO EVIDENCE OF RODENT OR INSECT OUTER OPENINGS...</td>\n",
       "    </tr>\n",
       "    <tr>\n",
       "      <th>21</th>\n",
       "      <td>19</td>\n",
       "      <td>OUTSIDE GARBAGE WASTE GREASE AND STORAGE AREA;...</td>\n",
       "    </tr>\n",
       "    <tr>\n",
       "      <th>19</th>\n",
       "      <td>21</td>\n",
       "      <td>* CERTIFIED FOOD MANAGER ON SITE WHEN POTENTIA...</td>\n",
       "    </tr>\n",
       "    <tr>\n",
       "      <th>16</th>\n",
       "      <td>22</td>\n",
       "      <td>DISH MACHINES: PROVIDED WITH ACCURATE THERMOME...</td>\n",
       "    </tr>\n",
       "    <tr>\n",
       "      <th>26</th>\n",
       "      <td>24</td>\n",
       "      <td>DISH WASHING FACILITIES: PROPERLY DESIGNED, CO...</td>\n",
       "    </tr>\n",
       "    <tr>\n",
       "      <th>24</th>\n",
       "      <td>26</td>\n",
       "      <td>ADEQUATE NUMBER, CONVENIENT, ACCESSIBLE, PROPE...</td>\n",
       "    </tr>\n",
       "    <tr>\n",
       "      <th>17</th>\n",
       "      <td>27</td>\n",
       "      <td>TOILET ROOMS ENCLOSED CLEAN, PROVIDED WITH HAN...</td>\n",
       "    </tr>\n",
       "    <tr>\n",
       "      <th>29</th>\n",
       "      <td>28</td>\n",
       "      <td>* INSPECTION REPORT SUMMARY DISPLAYED AND VISI...</td>\n",
       "    </tr>\n",
       "    <tr>\n",
       "      <th>25</th>\n",
       "      <td>29</td>\n",
       "      <td>PREVIOUS MINOR VIOLATION(S) CORRECTED 7-42-090</td>\n",
       "    </tr>\n",
       "    <tr>\n",
       "      <th>10</th>\n",
       "      <td>30</td>\n",
       "      <td>FOOD IN ORIGINAL CONTAINER, PROPERLY LABELED: ...</td>\n",
       "    </tr>\n",
       "    <tr>\n",
       "      <th>0</th>\n",
       "      <td>31</td>\n",
       "      <td>CLEAN MULTI-USE UTENSILS AND SINGLE SERVICE AR...</td>\n",
       "    </tr>\n",
       "    <tr>\n",
       "      <th>1</th>\n",
       "      <td>32</td>\n",
       "      <td>FOOD AND NON-FOOD CONTACT SURFACES PROPERLY DE...</td>\n",
       "    </tr>\n",
       "    <tr>\n",
       "      <th>2</th>\n",
       "      <td>33</td>\n",
       "      <td>FOOD AND NON-FOOD CONTACT EQUIPMENT UTENSILS C...</td>\n",
       "    </tr>\n",
       "    <tr>\n",
       "      <th>3</th>\n",
       "      <td>34</td>\n",
       "      <td>FLOORS: CONSTRUCTED PER CODE, CLEANED, GOOD RE...</td>\n",
       "    </tr>\n",
       "    <tr>\n",
       "      <th>5</th>\n",
       "      <td>35</td>\n",
       "      <td>WALLS, CEILINGS, ATTACHED EQUIPMENT CONSTRUCTE...</td>\n",
       "    </tr>\n",
       "    <tr>\n",
       "      <th>11</th>\n",
       "      <td>36</td>\n",
       "      <td>LIGHTING: REQUIRED MINIMUM FOOT-CANDLES OF LIG...</td>\n",
       "    </tr>\n",
       "    <tr>\n",
       "      <th>20</th>\n",
       "      <td>37</td>\n",
       "      <td>TOILET ROOM DOORS SELF CLOSING: DRESSING ROOMS...</td>\n",
       "    </tr>\n",
       "    <tr>\n",
       "      <th>7</th>\n",
       "      <td>38</td>\n",
       "      <td>VENTILATION: ROOMS AND EQUIPMENT VENTED AS REQ...</td>\n",
       "    </tr>\n",
       "    <tr>\n",
       "      <th>15</th>\n",
       "      <td>40</td>\n",
       "      <td>REFRIGERATION AND METAL STEM THERMOMETERS PROV...</td>\n",
       "    </tr>\n",
       "    <tr>\n",
       "      <th>4</th>\n",
       "      <td>41</td>\n",
       "      <td>PREMISES MAINTAINED FREE OF LITTER, UNNECESSAR...</td>\n",
       "    </tr>\n",
       "    <tr>\n",
       "      <th>18</th>\n",
       "      <td>43</td>\n",
       "      <td>FOOD (ICE) DISPENSING UTENSILS, WASH CLOTHS PR...</td>\n",
       "    </tr>\n",
       "    <tr>\n",
       "      <th>30</th>\n",
       "      <td>44</td>\n",
       "      <td>ONLY AUTHORIZED PERSONNEL IN THE FOOD-PREP AREA</td>\n",
       "    </tr>\n",
       "    <tr>\n",
       "      <th>14</th>\n",
       "      <td>45</td>\n",
       "      <td>FOOD HANDLER REQUIREMENTS MET</td>\n",
       "    </tr>\n",
       "  </tbody>\n",
       "</table>\n",
       "</div>"
      ],
      "text/plain": [
       "    violation_number                                          violation\n",
       "31                 1  SOURCE SOUND CONDITION, NO SPOILAGE, FOODS PRO...\n",
       "9                  2          FACILITIES TO MAINTAIN PROPER TEMPERATURE\n",
       "8                  3  POTENTIALLY HAZARDOUS FOOD MEETS TEMPERATURE R...\n",
       "32                 6  HANDS WASHED AND CLEANED, GOOD HYGIENIC PRACTI...\n",
       "27                 8  SANITIZING RINSE FOR EQUIPMENT AND UTENSILS:  ...\n",
       "22                10  SEWAGE AND WASTE WATER DISPOSAL, NO BACK SIPHO...\n",
       "23                11  ADEQUATE NUMBER, CONVENIENT, ACCESSIBLE, DESIG...\n",
       "12                12  HAND WASHING FACILITIES: WITH SOAP AND SANITAR...\n",
       "28                14     PREVIOUS SERIOUS VIOLATION CORRECTED, 7-42-090\n",
       "13                16  FOOD PROTECTED DURING STORAGE, PREPARATION, DI...\n",
       "6                 18  NO EVIDENCE OF RODENT OR INSECT OUTER OPENINGS...\n",
       "21                19  OUTSIDE GARBAGE WASTE GREASE AND STORAGE AREA;...\n",
       "19                21  * CERTIFIED FOOD MANAGER ON SITE WHEN POTENTIA...\n",
       "16                22  DISH MACHINES: PROVIDED WITH ACCURATE THERMOME...\n",
       "26                24  DISH WASHING FACILITIES: PROPERLY DESIGNED, CO...\n",
       "24                26  ADEQUATE NUMBER, CONVENIENT, ACCESSIBLE, PROPE...\n",
       "17                27  TOILET ROOMS ENCLOSED CLEAN, PROVIDED WITH HAN...\n",
       "29                28  * INSPECTION REPORT SUMMARY DISPLAYED AND VISI...\n",
       "25                29     PREVIOUS MINOR VIOLATION(S) CORRECTED 7-42-090\n",
       "10                30  FOOD IN ORIGINAL CONTAINER, PROPERLY LABELED: ...\n",
       "0                 31  CLEAN MULTI-USE UTENSILS AND SINGLE SERVICE AR...\n",
       "1                 32  FOOD AND NON-FOOD CONTACT SURFACES PROPERLY DE...\n",
       "2                 33  FOOD AND NON-FOOD CONTACT EQUIPMENT UTENSILS C...\n",
       "3                 34  FLOORS: CONSTRUCTED PER CODE, CLEANED, GOOD RE...\n",
       "5                 35  WALLS, CEILINGS, ATTACHED EQUIPMENT CONSTRUCTE...\n",
       "11                36  LIGHTING: REQUIRED MINIMUM FOOT-CANDLES OF LIG...\n",
       "20                37  TOILET ROOM DOORS SELF CLOSING: DRESSING ROOMS...\n",
       "7                 38  VENTILATION: ROOMS AND EQUIPMENT VENTED AS REQ...\n",
       "15                40  REFRIGERATION AND METAL STEM THERMOMETERS PROV...\n",
       "4                 41  PREMISES MAINTAINED FREE OF LITTER, UNNECESSAR...\n",
       "18                43  FOOD (ICE) DISPENSING UTENSILS, WASH CLOTHS PR...\n",
       "30                44    ONLY AUTHORIZED PERSONNEL IN THE FOOD-PREP AREA\n",
       "14                45                      FOOD HANDLER REQUIREMENTS MET"
      ]
     },
     "execution_count": 134,
     "metadata": {},
     "output_type": "execute_result"
    }
   ],
   "source": [
    "unsorted_violations = get_violations(inspections)\n",
    "numbered_violations = number_violations(unsorted_violations)\n",
    "\n",
    "violations_df = pd.DataFrame(columns=['violation_number', 'violation'], data=numbered_violations)\n",
    "violations_df.sort_values('violation_number', ascending=True)\n"
   ]
  },
  {
   "cell_type": "code",
   "execution_count": 135,
   "metadata": {
    "collapsed": true
   },
   "outputs": [
    {
     "data": {
      "text/plain": [
       "SUBWAY                                       2328\n",
       "DUNKIN DONUTS                                1209\n",
       "MCDONALD'S                                    510\n",
       "7-ELEVEN                                      396\n",
       "MCDONALDS                                     297\n",
       "CHIPOTLE MEXICAN GRILL                        277\n",
       "POTBELLY SANDWICH WORKS LLC                   237\n",
       "CORNER BAKERY CAFE                            212\n",
       "POTBELLY SANDWICH WORKS                       206\n",
       "DUNKIN DONUTS/BASKIN ROBBINS                  193\n",
       "DOMINO'S PIZZA                                183\n",
       "SPORTSERVICE SOLDIER FIELD                    176\n",
       "AU BON PAIN                                   175\n",
       "FRESHII                                       175\n",
       "WHOLE FOODS MARKET                            175\n",
       "SUBWAY SANDWICHES                             172\n",
       "HAROLD'S CHICKEN SHACK                        167\n",
       "KFC                                           161\n",
       "Subway                                        154\n",
       "SEE THRU CHINESE KITCHEN                      139\n",
       "SHARKS FISH & CHICKEN                         135\n",
       "PIZZA HUT                                     126\n",
       "J & J FISH                                    124\n",
       "MC DONALD'S                                   123\n",
       "CITGO                                         122\n",
       "JIMMY JOHN'S                                  116\n",
       "STARBUCKS                                     114\n",
       "JIMMY JOHNS                                   113\n",
       "LAS ISLAS MARIAS                              111\n",
       "PAPA JOHN'S PIZZA                             111\n",
       "                                             ... \n",
       "C & S INC                                       1\n",
       "Cynthia's Gumbo Express Inc.                    1\n",
       "O Restaurant & Lounge                           1\n",
       "GRANDMA'S RESTAURANT & PANCAKE HOSE, INC.       1\n",
       "REHMAN FOOD MART                                1\n",
       "THE TAVERN                                      1\n",
       "PARKSIDE FOOD AND LIQUOR                        1\n",
       "BEEFEES GRILL INC.                              1\n",
       "FAULKNER SCHOOL                                 1\n",
       "SHREEJI CONVENIENCE STORE                       1\n",
       "CHICAGO POPCORN WORK                            1\n",
       "Al's Beef & Nancy's Pizza                       1\n",
       "DEB'S SNACKS                                    1\n",
       "TASTE OF HAWAIIAN PARADISE, LLC                 1\n",
       "CHINESE GOURMET EXPRESS                         1\n",
       "ITALIAN FOOD PIZZERIA                           1\n",
       "ANSARI  NEWSTAND  INC.                          1\n",
       "B & B GROCERY LIQUOR INC                        1\n",
       "PANDA EXPRESS #137                              1\n",
       "MERCEDES BENZ OF CHICAGO                        1\n",
       "BLUE                                            1\n",
       "NEW RIALTO LOUNGE                               1\n",
       "CAMPBELL FOOD & LIQUOR INC                      1\n",
       "BORIMEX #1                                      1\n",
       "SAM'S FOOD & LIQUORS                            1\n",
       "KENNY'S GRILL                                   1\n",
       "EL POTOSINO GRILL                               1\n",
       "1021 MONTROSE                                   1\n",
       "CEYLONS CONVENIENT STORE                        1\n",
       "ANGELO'S GROCERY                                1\n",
       "Name: dba_name, Length: 25579, dtype: int64"
      ]
     },
     "execution_count": 135,
     "metadata": {},
     "output_type": "execute_result"
    }
   ],
   "source": [
    "inspections['dba_name'].value_counts()"
   ]
  },
  {
   "cell_type": "code",
   "execution_count": null,
   "metadata": {},
   "outputs": [],
   "source": []
  }
 ],
 "metadata": {
  "kernelspec": {
   "display_name": "Python 3",
   "language": "python",
   "name": "python3"
  },
  "language_info": {
   "codemirror_mode": {
    "name": "ipython",
    "version": 3
   },
   "file_extension": ".py",
   "mimetype": "text/x-python",
   "name": "python",
   "nbconvert_exporter": "python",
   "pygments_lexer": "ipython3",
   "version": "3.6.5"
  }
 },
 "nbformat": 4,
 "nbformat_minor": 2
}
