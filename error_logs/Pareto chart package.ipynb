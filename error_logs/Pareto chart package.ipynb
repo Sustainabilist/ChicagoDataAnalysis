{
 "cells": [
  {
   "cell_type": "markdown",
   "metadata": {},
   "source": [
    "# Adapting Pareto chart module to work in Jupyter notebook running Python 3"
   ]
  },
  {
   "cell_type": "markdown",
   "metadata": {},
   "source": [
    "Used and updated [Paretochart](https://pypi.org/project/paretochart/), ([Github](https://github.com/tisimst/paretochart))\n",
    "After running pip install --upgrade paretochart, I ran import pareto but got the error:"
   ]
  },
  {
   "cell_type": "markdown",
   "metadata": {},
   "source": [
    "cannot import name 'pareto' \n",
    "\n",
    "-> from paretochart import pareto"
   ]
  },
  {
   "cell_type": "markdown",
   "metadata": {},
   "source": [
    "I opened the _init_.py file in txt editor and commented out the line:\n",
    "\n",
    "from paretochart import pareto\n",
    "\n",
    "Then I started getting a no method error for 'has_key()'. After some research [stackoverflow answer](https://stackoverflow.com/questions/33727149/dict-object-has-no-attribute-has-key) this is a method that is not availible in Python3 but is availble in Python2\n",
    "\n",
    "I changed the paretochart.py module to replace the 'has_key()' method with 'not in'\n",
    "\n",
    "There was still an issue importing the pareto method. My workaround was to the following:\n",
    "\n",
    "instead of:\n",
    "\n",
    "from paretochart import pareto\n",
    "\n",
    "I ran:\n",
    "\n",
    "from paretochart import paretochart\n",
    "\n",
    "This gave me access to the pareto script by calling:\n",
    "\n",
    "paretochart.pareto()\n",
    "\n",
    "Now you can run the method as demonstrated in the documentation from [Abraham Lee](https://pypi.org/project/paretochart/)."
   ]
  },
  {
   "cell_type": "code",
   "execution_count": null,
   "metadata": {},
   "outputs": [],
   "source": []
  }
 ],
 "metadata": {
  "kernelspec": {
   "display_name": "Python [default]",
   "language": "python",
   "name": "python3"
  },
  "language_info": {
   "codemirror_mode": {
    "name": "ipython",
    "version": 3
   },
   "file_extension": ".py",
   "mimetype": "text/x-python",
   "name": "python",
   "nbconvert_exporter": "python",
   "pygments_lexer": "ipython3",
   "version": "3.6.5"
  }
 },
 "nbformat": 4,
 "nbformat_minor": 2
}
